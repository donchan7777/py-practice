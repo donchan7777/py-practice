{
 "cells": [
  {
   "cell_type": "markdown",
   "id": "8cbf6eb1-7d8e-4dc3-8edf-03587ca6fa3c",
   "metadata": {},
   "source": [
    "# nested function"
   ]
  },
  {
   "cell_type": "code",
   "execution_count": 8,
   "id": "f49bcc69-f8a3-436e-bf36-9b9179f4aed1",
   "metadata": {},
   "outputs": [
    {
     "name": "stdout",
     "output_type": "stream",
     "text": [
      "this is inner function\n",
      "inner\n",
      "inner\n",
      "global\n"
     ]
    }
   ],
   "source": [
    "msg = \"global\"\n",
    "\n",
    "\n",
    "def outer():\n",
    "    msg = \"outer\"\n",
    "    \n",
    "    \n",
    "    def inner():\n",
    "        nonlocal msg\n",
    "        msg = \"inner\"\n",
    "        print(\"this is inner function\")\n",
    "\n",
    "        print(msg)\n",
    "    inner()\n",
    "    print(msg)\n",
    "\n",
    "    \n",
    "outer()\n",
    "print(msg)\n",
    "\n"
   ]
  },
  {
   "cell_type": "code",
   "execution_count": null,
   "id": "ac21e17e-4d66-46d2-a853-5a0b54c87397",
   "metadata": {},
   "outputs": [],
   "source": []
  },
  {
   "cell_type": "code",
   "execution_count": null,
   "id": "32af6e64-2ef0-424c-9e5d-ab749fd75d4c",
   "metadata": {},
   "outputs": [],
   "source": []
  },
  {
   "cell_type": "code",
   "execution_count": null,
   "id": "f54d2492-1142-4770-a5ae-120d520125b4",
   "metadata": {},
   "outputs": [],
   "source": []
  },
  {
   "cell_type": "code",
   "execution_count": null,
   "id": "9eaa91b5-938d-4e2a-b280-09137e3e436f",
   "metadata": {},
   "outputs": [],
   "source": []
  },
  {
   "cell_type": "code",
   "execution_count": null,
   "id": "dc3946c1-0da7-4417-8e48-c5cf30d9a9a2",
   "metadata": {},
   "outputs": [],
   "source": []
  },
  {
   "cell_type": "code",
   "execution_count": null,
   "id": "606d3f47-963a-4bf8-bd23-ff0ddb9a589d",
   "metadata": {},
   "outputs": [],
   "source": []
  },
  {
   "cell_type": "code",
   "execution_count": null,
   "id": "f3b4f70f-43a2-4c42-b58f-0e25cf54dad7",
   "metadata": {},
   "outputs": [],
   "source": []
  },
  {
   "cell_type": "code",
   "execution_count": null,
   "id": "b1dcb015-9c0b-45bc-af2b-5ac6b1fd71a3",
   "metadata": {},
   "outputs": [],
   "source": []
  }
 ],
 "metadata": {
  "kernelspec": {
   "display_name": "Python 3 (ipykernel)",
   "language": "python",
   "name": "python3"
  },
  "language_info": {
   "codemirror_mode": {
    "name": "ipython",
    "version": 3
   },
   "file_extension": ".py",
   "mimetype": "text/x-python",
   "name": "python",
   "nbconvert_exporter": "python",
   "pygments_lexer": "ipython3",
   "version": "3.9.13"
  }
 },
 "nbformat": 4,
 "nbformat_minor": 5
}
