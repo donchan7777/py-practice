{
 "cells": [
  {
   "cell_type": "markdown",
   "id": "324721e8-fe99-4428-b8c9-41347cd4a75e",
   "metadata": {},
   "source": [
    "# mutable: list, dict, set\n",
    "# immutable: int, float, str, bool, tuple"
   ]
  },
  {
   "cell_type": "code",
   "execution_count": 1,
   "id": "2ba125e1-6963-405e-bf48-f61dd3419260",
   "metadata": {},
   "outputs": [
    {
     "name": "stdout",
     "output_type": "stream",
     "text": [
      "fruts ID 281473035997440\n"
     ]
    }
   ],
   "source": [
    "fruits = ['apple', 'peach', 'banana']\n",
    "print(f'fruts ID {id(fruits)}')"
   ]
  },
  {
   "cell_type": "code",
   "execution_count": 2,
   "id": "20571e0f-fca4-4d86-94ba-d7be2dbaa227",
   "metadata": {},
   "outputs": [
    {
     "name": "stdout",
     "output_type": "stream",
     "text": [
      "fruts ID 281473035997440\n"
     ]
    }
   ],
   "source": [
    "fruit = 'apple'\n",
    "print(f'fruts ID {id(fruits)}')"
   ]
  },
  {
   "cell_type": "code",
   "execution_count": 7,
   "id": "e6199a8f-b90e-4490-8ddb-39b5b84aed51",
   "metadata": {},
   "outputs": [
    {
     "name": "stdout",
     "output_type": "stream",
     "text": [
      "['1']\n",
      "['1', '2']\n",
      "['1', '2', '3']\n",
      "['1', '2', '3', '4']\n",
      "['1', '2', '3', '4', '5']\n",
      "['1', '2', '3', '4', '5', '6']\n",
      "['1', '2', '3', '4', '5', '6', '7']\n",
      "['1', '2', '3', '4', '5', '6', '7', '8']\n",
      "['1', '2', '3', '4', '5', '6', '7', '8', '9']\n",
      "['1', '2', '3', '4', '5', '6', '7', '8', '9', '10']\n",
      "1-2-3-4-5-6-7-8-9-10\n"
     ]
    }
   ],
   "source": [
    "text_list = []\n",
    "\n",
    "for i in range(1, 11):\n",
    "    text_list.append(str(i))\n",
    "    print(text_list)\n",
    "    \n",
    "text_list = '-'.join(text_list)\n",
    "print(text_list)\n",
    "\n"
   ]
  },
  {
   "cell_type": "code",
   "execution_count": null,
   "id": "5336b77f-4a73-421b-94d8-b2198ea5d642",
   "metadata": {},
   "outputs": [],
   "source": []
  },
  {
   "cell_type": "code",
   "execution_count": null,
   "id": "bc43b5fe-70ae-4cab-9ad3-2bd46ff8aa50",
   "metadata": {},
   "outputs": [],
   "source": []
  },
  {
   "cell_type": "code",
   "execution_count": null,
   "id": "ddc665d3-d5b4-4122-ba46-6f7612363f7a",
   "metadata": {},
   "outputs": [],
   "source": []
  },
  {
   "cell_type": "code",
   "execution_count": null,
   "id": "d090f9a3-5f3e-465f-9648-54597bc47915",
   "metadata": {},
   "outputs": [],
   "source": []
  },
  {
   "cell_type": "code",
   "execution_count": null,
   "id": "8b5ce839-b2cf-45e5-a4c2-abe4801943fd",
   "metadata": {},
   "outputs": [],
   "source": []
  },
  {
   "cell_type": "code",
   "execution_count": null,
   "id": "c3e9784d-7780-4d39-84b2-0efb1d661a13",
   "metadata": {},
   "outputs": [],
   "source": []
  },
  {
   "cell_type": "code",
   "execution_count": null,
   "id": "a77a9022-6f51-49ed-bfc7-d6abfc14dbf0",
   "metadata": {},
   "outputs": [],
   "source": []
  },
  {
   "cell_type": "code",
   "execution_count": null,
   "id": "04c55eeb-1966-4619-818c-09a04e7fb6c2",
   "metadata": {},
   "outputs": [],
   "source": []
  }
 ],
 "metadata": {
  "kernelspec": {
   "display_name": "Python 3 (ipykernel)",
   "language": "python",
   "name": "python3"
  },
  "language_info": {
   "codemirror_mode": {
    "name": "ipython",
    "version": 3
   },
   "file_extension": ".py",
   "mimetype": "text/x-python",
   "name": "python",
   "nbconvert_exporter": "python",
   "pygments_lexer": "ipython3",
   "version": "3.9.13"
  }
 },
 "nbformat": 4,
 "nbformat_minor": 5
}
