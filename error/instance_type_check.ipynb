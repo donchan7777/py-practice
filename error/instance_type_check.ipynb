{
 "cells": [
  {
   "cell_type": "code",
   "execution_count": 9,
   "id": "bfea59ac-3ad3-4fea-80cf-d955524b1b7b",
   "metadata": {},
   "outputs": [
    {
     "name": "stdout",
     "output_type": "stream",
     "text": [
      "Pochi is walking\n"
     ]
    }
   ],
   "source": [
    "class Animal:\n",
    "    def __init__(self, name):\n",
    "        self.name = name\n",
    "        \n",
    "    def walk(self):\n",
    "        print(f\"{self.name} is walking\")\n",
    "\n",
    "class Dog(Animal):\n",
    "    def bark(self):\n",
    "        print(f\"{self.name} is barking\")\n",
    "        \n",
    "        \n",
    "def walk_with_me(animal):\n",
    "    # if isinstance(animal, Animal):\n",
    "    methiod = getattr(animal, \"walk\", None)\n",
    "    if callable(methiod):\n",
    "        animal.walk()\n",
    "    else:\n",
    "        raise TimeoutError(f\"{self.name}は散歩できません\")\n",
    "    \n",
    "if __name__ == \"__main__\":\n",
    "    # pochi = Animal(\"Pochi\")\n",
    "    walk_with_me(pochi)"
   ]
  },
  {
   "cell_type": "code",
   "execution_count": null,
   "id": "1a83595c-0ede-478e-9b89-2a2324121aa9",
   "metadata": {},
   "outputs": [],
   "source": []
  }
 ],
 "metadata": {
  "kernelspec": {
   "display_name": "Python 3 (ipykernel)",
   "language": "python",
   "name": "python3"
  },
  "language_info": {
   "codemirror_mode": {
    "name": "ipython",
    "version": 3
   },
   "file_extension": ".py",
   "mimetype": "text/x-python",
   "name": "python",
   "nbconvert_exporter": "python",
   "pygments_lexer": "ipython3",
   "version": "3.9.13"
  }
 },
 "nbformat": 4,
 "nbformat_minor": 5
}
