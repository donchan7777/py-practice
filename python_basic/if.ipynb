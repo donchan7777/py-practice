{
 "cells": [
  {
   "cell_type": "markdown",
   "id": "c6295db1-e5c2-4215-b163-45d079b631c2",
   "metadata": {},
   "source": [
    "# if文"
   ]
  },
  {
   "cell_type": "code",
   "execution_count": 3,
   "id": "964fd42e-0d31-4b84-99a5-332bc3a10dd8",
   "metadata": {},
   "outputs": [
    {
     "name": "stdout",
     "output_type": "stream",
     "text": [
      "No\n"
     ]
    }
   ],
   "source": [
    "age = 20\n",
    "age_alcohol = 20\n",
    "if age > age_alcohol:\n",
    "    print(\"OK\")\n",
    "else:\n",
    "    print(\"No\")"
   ]
  },
  {
   "cell_type": "code",
   "execution_count": null,
   "id": "177c1d02-dc07-426c-9739-9d6691ae5490",
   "metadata": {},
   "outputs": [],
   "source": [
    "age_drive = 18\n",
    "if age >= age_alcohol:\n",
    "    print(\"OK)\n",
    "elif age < age_drive:\n",
    "    print(\"OK\")\n",
    "else:\n",
    "    print(\"OK\")"
   ]
  },
  {
   "cell_type": "code",
   "execution_count": 7,
   "id": "73f0397d-e1b6-4a71-858b-ae1840bd30fc",
   "metadata": {},
   "outputs": [
    {
     "name": "stdout",
     "output_type": "stream",
     "text": [
      "No\n"
     ]
    }
   ],
   "source": [
    "balance = 1000\n",
    "withdraw = 10000\n",
    "max = 1000000\n",
    "\n",
    "if balance > withdraw:\n",
    "    balance = balance - withdraw\n",
    "    print(balance)\n",
    "else:\n",
    "    print(\"No\")"
   ]
  },
  {
   "cell_type": "code",
   "execution_count": null,
   "id": "cd444eb7-3880-4b9a-a22a-b48b674cb453",
   "metadata": {},
   "outputs": [],
   "source": []
  }
 ],
 "metadata": {
  "kernelspec": {
   "display_name": "Python 3 (ipykernel)",
   "language": "python",
   "name": "python3"
  },
  "language_info": {
   "codemirror_mode": {
    "name": "ipython",
    "version": 3
   },
   "file_extension": ".py",
   "mimetype": "text/x-python",
   "name": "python",
   "nbconvert_exporter": "python",
   "pygments_lexer": "ipython3",
   "version": "3.9.13"
  }
 },
 "nbformat": 4,
 "nbformat_minor": 5
}
