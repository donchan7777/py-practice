{
 "cells": [
  {
   "cell_type": "code",
   "execution_count": 11,
   "id": "7c298d2e-8120-43aa-93e4-637ea3c547db",
   "metadata": {},
   "outputs": [
    {
     "name": "stdin",
     "output_type": "stream",
     "text": [
      "y/n 0\n"
     ]
    },
    {
     "name": "stdout",
     "output_type": "stream",
     "text": [
      "my error occurred\n"
     ]
    }
   ],
   "source": [
    "class MyError(Exception):\n",
    "    \n",
    "    def __str__(self):\n",
    "        return \"my error occurred\"\n",
    "\n",
    "if __name__ == \"__main__\":\n",
    "    \n",
    "    response = input(\"y/n\")\n",
    "    try:\n",
    "        if response != \"y\" and response != \"n\":\n",
    "            raise MyError\n",
    "    except MyError as e:\n",
    "        print(e)\n",
    "    "
   ]
  },
  {
   "cell_type": "code",
   "execution_count": null,
   "id": "7f303b36-e22d-489a-93d6-60385fc6fc54",
   "metadata": {},
   "outputs": [],
   "source": []
  }
 ],
 "metadata": {
  "kernelspec": {
   "display_name": "Python 3 (ipykernel)",
   "language": "python",
   "name": "python3"
  },
  "language_info": {
   "codemirror_mode": {
    "name": "ipython",
    "version": 3
   },
   "file_extension": ".py",
   "mimetype": "text/x-python",
   "name": "python",
   "nbconvert_exporter": "python",
   "pygments_lexer": "ipython3",
   "version": "3.9.13"
  }
 },
 "nbformat": 4,
 "nbformat_minor": 5
}
