{
 "cells": [
  {
   "cell_type": "code",
   "execution_count": 5,
   "id": "845bc045-d4b8-42aa-8f36-7cd31b9a134e",
   "metadata": {},
   "outputs": [
    {
     "name": "stdout",
     "output_type": "stream",
     "text": [
      "48\n",
      "152\n"
     ]
    }
   ],
   "source": [
    "import sys\n",
    "\n",
    "range_nums = range(10)\n",
    "# for i in range_nums:\n",
    "\n",
    "list_nums = [0, 1, 2, 3, 4, 5, 6, 7, 8, 9, 10]\n",
    "# for i in list_nums:\n",
    "\n",
    "print(sys.getsizeof(range_nums))\n",
    "print(sys.getsizeof(list_nums))\n"
   ]
  },
  {
   "cell_type": "code",
   "execution_count": null,
   "id": "775f908a-0c05-46c8-991d-5dad1b7221e9",
   "metadata": {},
   "outputs": [],
   "source": []
  }
 ],
 "metadata": {
  "kernelspec": {
   "display_name": "Python 3 (ipykernel)",
   "language": "python",
   "name": "python3"
  },
  "language_info": {
   "codemirror_mode": {
    "name": "ipython",
    "version": 3
   },
   "file_extension": ".py",
   "mimetype": "text/x-python",
   "name": "python",
   "nbconvert_exporter": "python",
   "pygments_lexer": "ipython3",
   "version": "3.9.13"
  }
 },
 "nbformat": 4,
 "nbformat_minor": 5
}
