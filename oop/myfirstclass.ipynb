{
 "cells": [
  {
   "cell_type": "code",
   "execution_count": 13,
   "id": "92a9f724-25a3-477d-b31b-dabbc6e55968",
   "metadata": {},
   "outputs": [],
   "source": [
    "class Person:\n",
    "    def __init__(self, name, age, gender):\n",
    "        self.name = name\n",
    "        self.age = age\n",
    "        self.gender = gender\n",
    "        \n",
    "    def walk(self):\n",
    "        print(f\"{self.name} is walking\")\n",
    "        \n",
    "    def run(self):\n",
    "        print(f\"{self.name} is running\")  \n",
    "        \n",
    "\n",
    "john = Person(\"J\", 28, \"M\")\n",
    "taro = Person(\"T\", 18, \"M\")\n",
    "ema= Person(\"E\", 18, \"FE\")\n",
    "\n"
   ]
  },
  {
   "cell_type": "code",
   "execution_count": 14,
   "id": "d6812107-f827-4b0b-843d-e11c83767fed",
   "metadata": {},
   "outputs": [
    {
     "name": "stdout",
     "output_type": "stream",
     "text": [
      "J is walking\n",
      "E is walking\n",
      "J is running\n",
      "E is running\n"
     ]
    }
   ],
   "source": [
    "\n",
    "john.walk()\n",
    "ema.walk()\n",
    "john.run()\n",
    "ema.run()"
   ]
  },
  {
   "cell_type": "code",
   "execution_count": null,
   "id": "40293605-0161-4118-9978-958dca109685",
   "metadata": {},
   "outputs": [],
   "source": []
  }
 ],
 "metadata": {
  "kernelspec": {
   "display_name": "Python 3 (ipykernel)",
   "language": "python",
   "name": "python3"
  },
  "language_info": {
   "codemirror_mode": {
    "name": "ipython",
    "version": 3
   },
   "file_extension": ".py",
   "mimetype": "text/x-python",
   "name": "python",
   "nbconvert_exporter": "python",
   "pygments_lexer": "ipython3",
   "version": "3.9.13"
  }
 },
 "nbformat": 4,
 "nbformat_minor": 5
}
