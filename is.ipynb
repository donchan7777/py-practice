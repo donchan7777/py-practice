{
 "cells": [
  {
   "cell_type": "markdown",
   "id": "293d6456-54f6-429a-bbf3-7f2336977fff",
   "metadata": {},
   "source": [
    "# is演算子"
   ]
  },
  {
   "cell_type": "code",
   "execution_count": 8,
   "id": "de2c9b90-4d24-4630-9949-19df401ac034",
   "metadata": {},
   "outputs": [],
   "source": [
    "a = 1\n",
    "b = 1\n",
    "c = 3\n",
    "d = a"
   ]
  },
  {
   "cell_type": "code",
   "execution_count": 3,
   "id": "f72e4428-6bb8-40a9-9b99-59a2fd6c424b",
   "metadata": {},
   "outputs": [
    {
     "name": "stdout",
     "output_type": "stream",
     "text": [
      "True\n"
     ]
    }
   ],
   "source": [
    "print(a is b)"
   ]
  },
  {
   "cell_type": "code",
   "execution_count": 6,
   "id": "08a3cdde-2a3a-4ce8-aea4-121a6262ab66",
   "metadata": {},
   "outputs": [
    {
     "name": "stdout",
     "output_type": "stream",
     "text": [
      "True\n"
     ]
    }
   ],
   "source": [
    "print(a is not c)"
   ]
  },
  {
   "cell_type": "code",
   "execution_count": 9,
   "id": "00a6ecca-a818-4675-9bf0-45e6ad0fecbb",
   "metadata": {},
   "outputs": [
    {
     "name": "stdout",
     "output_type": "stream",
     "text": [
      "281473613953328\n",
      "281473613953328\n",
      "281473613953392\n",
      "281473613953328\n"
     ]
    }
   ],
   "source": [
    "print(id(1))\n",
    "print(id(a))\n",
    "print(id(c))\n",
    "print(id(d))\n",
    "\n"
   ]
  },
  {
   "cell_type": "code",
   "execution_count": null,
   "id": "6add2c72-a637-4a9f-b784-617d5c5a5eec",
   "metadata": {},
   "outputs": [],
   "source": []
  }
 ],
 "metadata": {
  "kernelspec": {
   "display_name": "Python 3 (ipykernel)",
   "language": "python",
   "name": "python3"
  },
  "language_info": {
   "codemirror_mode": {
    "name": "ipython",
    "version": 3
   },
   "file_extension": ".py",
   "mimetype": "text/x-python",
   "name": "python",
   "nbconvert_exporter": "python",
   "pygments_lexer": "ipython3",
   "version": "3.9.13"
  }
 },
 "nbformat": 4,
 "nbformat_minor": 5
}
