{
 "cells": [
  {
   "cell_type": "markdown",
   "id": "a790833f-9a80-46a8-aac5-38dd005b1c76",
   "metadata": {},
   "source": [
    "# whileループ"
   ]
  },
  {
   "cell_type": "code",
   "execution_count": 1,
   "id": "c130617f-a6b4-4353-a6dd-986b22d54d5f",
   "metadata": {},
   "outputs": [
    {
     "name": "stdout",
     "output_type": "stream",
     "text": [
      "0\n",
      "1\n",
      "2\n",
      "3\n",
      "4\n",
      "5\n",
      "6\n",
      "7\n",
      "8\n",
      "9\n"
     ]
    }
   ],
   "source": [
    "count = 0\n",
    "while count < 10:\n",
    "    print(count)\n",
    "    count += 1"
   ]
  },
  {
   "cell_type": "code",
   "execution_count": 2,
   "id": "d739cbb6-27dd-43ee-9a6c-4c2db29a318f",
   "metadata": {},
   "outputs": [
    {
     "name": "stdin",
     "output_type": "stream",
     "text": [
      "how old are you 190\n"
     ]
    },
    {
     "name": "stdout",
     "output_type": "stream",
     "text": [
      "NG\n"
     ]
    },
    {
     "name": "stdin",
     "output_type": "stream",
     "text": [
      "how old are you 100\n"
     ]
    },
    {
     "name": "stdout",
     "output_type": "stream",
     "text": [
      "you are 100\n"
     ]
    }
   ],
   "source": [
    "while True:\n",
    "    age = int(input(\"how old are you\"))\n",
    "    if not 0 <= age < 120:\n",
    "        print(\"NG\")\n",
    "        continue\n",
    "    else:\n",
    "        print(\"you are {}\".format(age))\n",
    "        break\n",
    "              "
   ]
  },
  {
   "cell_type": "code",
   "execution_count": 29,
   "id": "28996a97-5769-4fa8-b100-3880bcb51585",
   "metadata": {},
   "outputs": [
    {
     "name": "stdin",
     "output_type": "stream",
     "text": [
      "how old are you 30\n"
     ]
    },
    {
     "name": "stdout",
     "output_type": "stream",
     "text": [
      "OK\n"
     ]
    },
    {
     "name": "stdin",
     "output_type": "stream",
     "text": [
      "chose\n",
      "1:R\n",
      "2:B\n",
      "3:P\n",
      ": G\n"
     ]
    },
    {
     "name": "stdout",
     "output_type": "stream",
     "text": [
      "chose\n"
     ]
    },
    {
     "name": "stdin",
     "output_type": "stream",
     "text": [
      "chose\n",
      "1:R\n",
      "2:B\n",
      "3:P\n",
      ": O\n"
     ]
    },
    {
     "name": "stdout",
     "output_type": "stream",
     "text": [
      "chose\n"
     ]
    },
    {
     "name": "stdin",
     "output_type": "stream",
     "text": [
      "chose\n",
      "1:R\n",
      "2:B\n",
      "3:P\n",
      ": I\n"
     ]
    },
    {
     "name": "stdout",
     "output_type": "stream",
     "text": [
      "chose\n"
     ]
    },
    {
     "name": "stdin",
     "output_type": "stream",
     "text": [
      "chose\n",
      "1:R\n",
      "2:B\n",
      "3:P\n",
      ": R\n"
     ]
    },
    {
     "name": "stdout",
     "output_type": "stream",
     "text": [
      "chose\n"
     ]
    },
    {
     "name": "stdin",
     "output_type": "stream",
     "text": [
      "chose\n",
      "1:R\n",
      "2:B\n",
      "3:P\n",
      ": R\n"
     ]
    },
    {
     "name": "stdout",
     "output_type": "stream",
     "text": [
      "chose\n"
     ]
    },
    {
     "name": "stdin",
     "output_type": "stream",
     "text": [
      "chose\n",
      "1:R\n",
      "2:B\n",
      "3:P\n",
      ": R\n"
     ]
    },
    {
     "name": "stdout",
     "output_type": "stream",
     "text": [
      "chose\n"
     ]
    },
    {
     "name": "stdin",
     "output_type": "stream",
     "text": [
      "chose\n",
      "1:R\n",
      "2:B\n",
      "3:P\n",
      ": 2\n"
     ]
    },
    {
     "name": "stdout",
     "output_type": "stream",
     "text": [
      "B OK\n"
     ]
    }
   ],
   "source": [
    "age = int(input(\"how old are you\"))\n",
    "casino_age = 18\n",
    "chosegame = \"\"\"chose\n",
    "1:R\n",
    "2:B\n",
    "3:P\n",
    ":\"\"\"\n",
    "\n",
    "if age >= casino_age:\n",
    "    print(\"OK\")\n",
    "    while True:\n",
    "        game = input(chosegame)\n",
    "        if game == \"1\":\n",
    "                print(\"R OK\")\n",
    "                break\n",
    "        elif game == \"2\":\n",
    "                print(\"B OK\")\n",
    "                break\n",
    "        elif game == \"3\":\n",
    "                print(\"P OK\")\n",
    "                break\n",
    "        else:\n",
    "            print(\"chose\")\n",
    "else:\n",
    "    print(\"NG\")"
   ]
  },
  {
   "cell_type": "code",
   "execution_count": null,
   "id": "9f7c9bb0-c8be-4c5b-8e7b-d719fb838b00",
   "metadata": {},
   "outputs": [],
   "source": []
  }
 ],
 "metadata": {
  "kernelspec": {
   "display_name": "Python 3 (ipykernel)",
   "language": "python",
   "name": "python3"
  },
  "language_info": {
   "codemirror_mode": {
    "name": "ipython",
    "version": 3
   },
   "file_extension": ".py",
   "mimetype": "text/x-python",
   "name": "python",
   "nbconvert_exporter": "python",
   "pygments_lexer": "ipython3",
   "version": "3.9.13"
  }
 },
 "nbformat": 4,
 "nbformat_minor": 5
}
