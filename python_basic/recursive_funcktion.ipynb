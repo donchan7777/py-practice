{
 "cells": [
  {
   "cell_type": "markdown",
   "id": "b5b79f6d-1b4c-4dc2-bb63-dc05f85fb096",
   "metadata": {},
   "source": [
    "## recursive function"
   ]
  },
  {
   "cell_type": "code",
   "execution_count": 2,
   "id": "723f7c49-4e62-4aef-9b7d-5c33833b0fd1",
   "metadata": {},
   "outputs": [
    {
     "name": "stdout",
     "output_type": "stream",
     "text": [
      "6\n"
     ]
    }
   ],
   "source": [
    "def factorial(n):\n",
    "    if n == 1:\n",
    "        return 1\n",
    "    else:\n",
    "        return n * factorial(n-1)\n",
    "\n",
    "\n",
    "print(factorial(3))\n",
    "    "
   ]
  },
  {
   "cell_type": "code",
   "execution_count": 5,
   "id": "33be8a9f-aa5c-4792-a812-c0b3209ccee7",
   "metadata": {},
   "outputs": [
    {
     "name": "stdout",
     "output_type": "stream",
     "text": [
      "55\n"
     ]
    }
   ],
   "source": [
    "def fibonacci_recursive(n):\n",
    "    if n < 2:\n",
    "        return n\n",
    "    else:\n",
    "        return fibonacci_recursive(n-1) + fibonacci_recursive(n-2)\n",
    "\n",
    "    \n",
    "print(fibonacci_recursive(10))"
   ]
  },
  {
   "cell_type": "code",
   "execution_count": 13,
   "id": "cc14377e-e5e6-4698-bd98-755c690c86ac",
   "metadata": {},
   "outputs": [
    {
     "name": "stdout",
     "output_type": "stream",
     "text": [
      "8\n"
     ]
    }
   ],
   "source": [
    "def fibonacci(n):\n",
    "    if n < 2:\n",
    "        return n\n",
    "    else:\n",
    "        n_1 = 1\n",
    "        n_2 = 0\n",
    "        for _ in range(n-1):\n",
    "            result = n_2 + n_1\n",
    "            n_2 = n_1\n",
    "            n_1 = result\n",
    "        return result\n",
    "\n",
    "\n",
    "print(fibonacci(6))"
   ]
  },
  {
   "cell_type": "code",
   "execution_count": 16,
   "id": "ab9055ec-92ce-44db-800a-e7efa7c9407f",
   "metadata": {},
   "outputs": [
    {
     "name": "stdout",
     "output_type": "stream",
     "text": [
      "0 0\n",
      "1 1\n",
      "2 1\n",
      "3 2\n",
      "4 3\n",
      "5 5\n",
      "6 8\n",
      "7 13\n",
      "8 21\n",
      "9 34\n",
      "10 55\n",
      "11 89\n",
      "12 144\n",
      "13 233\n",
      "14 377\n",
      "15 610\n",
      "16 987\n",
      "17 1597\n",
      "18 2584\n",
      "19 4181\n",
      "20 6765\n",
      "21 10946\n",
      "22 17711\n",
      "23 28657\n",
      "24 46368\n",
      "25 75025\n",
      "26 121393\n",
      "27 196418\n",
      "28 317811\n",
      "29 514229\n",
      "30 832040\n",
      "31 1346269\n",
      "32 2178309\n",
      "33 3524578\n",
      "34 5702887\n",
      "35 9227465\n",
      "36 14930352\n",
      "37 24157817\n",
      "38 39088169\n",
      "39 63245986\n",
      "40 102334155\n",
      "41 165580141\n",
      "42 267914296\n",
      "43 433494437\n",
      "44 701408733\n",
      "45 1134903170\n",
      "46 1836311903\n",
      "47 2971215073\n",
      "48 4807526976\n",
      "49 7778742049\n"
     ]
    }
   ],
   "source": [
    "for i in range(50):\n",
    "    print(i, fibonacci(i))"
   ]
  },
  {
   "cell_type": "code",
   "execution_count": null,
   "id": "98974352-0601-41c6-8c8f-5c324d4f3c43",
   "metadata": {},
   "outputs": [],
   "source": []
  }
 ],
 "metadata": {
  "kernelspec": {
   "display_name": "Python 3 (ipykernel)",
   "language": "python",
   "name": "python3"
  },
  "language_info": {
   "codemirror_mode": {
    "name": "ipython",
    "version": 3
   },
   "file_extension": ".py",
   "mimetype": "text/x-python",
   "name": "python",
   "nbconvert_exporter": "python",
   "pygments_lexer": "ipython3",
   "version": "3.9.13"
  }
 },
 "nbformat": 4,
 "nbformat_minor": 5
}
