{
 "cells": [
  {
   "cell_type": "markdown",
   "id": "6d4c9600-f007-460e-bf8f-5efb0d98fc09",
   "metadata": {},
   "source": [
    "## encapsulation"
   ]
  },
  {
   "cell_type": "code",
   "execution_count": 9,
   "id": "2d694db2-203b-4837-a618-d7ed3f70d9b5",
   "metadata": {},
   "outputs": [
    {
     "name": "stdout",
     "output_type": "stream",
     "text": [
      "21 NG\n"
     ]
    }
   ],
   "source": [
    "def casion_entrance(age, min_age=21):\n",
    "    if age < min_age:\n",
    "        print(f\"{min_age} NG\")\n",
    "        return\n",
    "    \n",
    "    \n",
    "    def inner_casion_entrance():\n",
    "        print(\"well come\")\n",
    "        \n",
    "    return inner_casion_entrance()\n",
    "\n",
    "    \n",
    "casion_entrance(19)"
   ]
  },
  {
   "cell_type": "code",
   "execution_count": null,
   "id": "b54ba484-3639-4a03-9805-d836c48f9166",
   "metadata": {},
   "outputs": [],
   "source": []
  }
 ],
 "metadata": {
  "kernelspec": {
   "display_name": "Python 3 (ipykernel)",
   "language": "python",
   "name": "python3"
  },
  "language_info": {
   "codemirror_mode": {
    "name": "ipython",
    "version": 3
   },
   "file_extension": ".py",
   "mimetype": "text/x-python",
   "name": "python",
   "nbconvert_exporter": "python",
   "pygments_lexer": "ipython3",
   "version": "3.9.13"
  }
 },
 "nbformat": 4,
 "nbformat_minor": 5
}
