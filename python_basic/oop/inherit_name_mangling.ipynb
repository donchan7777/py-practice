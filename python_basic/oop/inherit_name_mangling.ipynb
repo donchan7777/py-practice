{
 "cells": [
  {
   "cell_type": "code",
   "execution_count": 10,
   "id": "d46e4c55-06c0-4340-b51c-fc6380c32065",
   "metadata": {},
   "outputs": [
    {
     "name": "stdout",
     "output_type": "stream",
     "text": [
      "Person method is called\n",
      "T\n",
      "Baby method is called\n"
     ]
    }
   ],
   "source": [
    "class Person:\n",
    "    def __init__(self, name):\n",
    "        self.name = name\n",
    "        self.__mymethod()\n",
    "\n",
    "    def mymethod(self):\n",
    "        print(\"Person method is called\")\n",
    "\n",
    "    __mymethod = mymethod\n",
    "    \n",
    "class Baby(Person):\n",
    "    def mymethod(self):\n",
    "        print(\"Baby method is called\")\n",
    "\n",
    "        \n",
    "        \n",
    "taro_baby = Baby(\"T\")\n",
    "print(taro_baby.name)\n",
    "taro_baby.mymethod()"
   ]
  },
  {
   "cell_type": "raw",
   "id": "c8677597-8f0c-4617-8105-7289482b3e31",
   "metadata": {},
   "source": []
  }
 ],
 "metadata": {
  "kernelspec": {
   "display_name": "Python 3 (ipykernel)",
   "language": "python",
   "name": "python3"
  },
  "language_info": {
   "codemirror_mode": {
    "name": "ipython",
    "version": 3
   },
   "file_extension": ".py",
   "mimetype": "text/x-python",
   "name": "python",
   "nbconvert_exporter": "python",
   "pygments_lexer": "ipython3",
   "version": "3.9.13"
  }
 },
 "nbformat": 4,
 "nbformat_minor": 5
}
