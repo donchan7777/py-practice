{
 "cells": [
  {
   "cell_type": "code",
   "execution_count": 2,
   "id": "7711b3e3-979a-43c9-84a7-c04e59abf659",
   "metadata": {},
   "outputs": [
    {
     "name": "stdout",
     "output_type": "stream",
     "text": [
      "Introduction\n",
      "This document gives coding conventions for the Python code comprising the standard library in the main Python distribution. Please see the companion informational PEP describing style guidelines for the C code in the C implementation of Python [1].\n",
      "\n",
      "This document and PEP 257 (Docstring Conventions) were adapted from Guido's original Python Style Guide essay, with some additions from Barry's style guide [2].\n",
      "\n",
      "This style guide evolves over time as additional conventions are identified and past conventions are rendered obsolete by changes in the language itself.\n",
      "\n",
      "Many projects have their own coding style guidelines. In the event of any conflicts, such project-specific guides take precedence for that project."
     ]
    }
   ],
   "source": [
    "with open(\"pep8_introduction.txt\") as f:\n",
    "    for line in f:\n",
    "        print(line, end=\"\")"
   ]
  },
  {
   "cell_type": "code",
   "execution_count": 4,
   "id": "c9313e86-c19d-4c79-9e85-82ae0e729120",
   "metadata": {},
   "outputs": [
    {
     "name": "stdout",
     "output_type": "stream",
     "text": [
      "Introduction\n",
      "This document gives coding conventions for the Python code comprising the standard library in the main Python distribution. Please see the companion informational PEP describing style guidelines for the C code in the C implementation of Python [1].\n",
      "\n",
      "This document and PEP 257 (Docstring Conventions) were adapted from Guido's original Python Style Guide essay, with some additions from Barry's style guide [2].\n",
      "\n",
      "This style guide evolves over time as additional conventions are identified and past conventions are rendered obsolete by changes in the language itself.\n",
      "\n",
      "Many projects have their own coding style guidelines. In the event of any conflicts, such project-specific guides take precedence for that project.\n"
     ]
    }
   ],
   "source": [
    "with open(\"pep8_introduction.txt\") as f:\n",
    "    print(f.read())"
   ]
  },
  {
   "cell_type": "code",
   "execution_count": 7,
   "id": "4fbc678a-92b5-43f9-99d4-f7f556e60c68",
   "metadata": {},
   "outputs": [
    {
     "name": "stdout",
     "output_type": "stream",
     "text": [
      "Introduction\n",
      "This document gives coding conventions for the Python code comprising the standard library in the main Python distribution. Please see the companion informational PEP describing style guidelines for the C code in the C implementation of Python [1].\n",
      "\n",
      "This document and PEP 257 (Docstring Conventions) were adapted from Guido's original Python Style Guide essay, with some additions from Barry's style guide [2].\n",
      "\n",
      "This style guide evolves over time as additional conventions are identified and past conventions are rendered obsolete by changes in the language itself.\n",
      "\n",
      "Many projects have their own coding style guidelines. In the event of any conflicts, such project-specific guides take precedence for that project."
     ]
    }
   ],
   "source": [
    "with open(\"pep8_introduction.txt\") as f:\n",
    "    line = f.readline()\n",
    "    while line:\n",
    "        print(line, end=\"\")\n",
    "        line = f.readline()"
   ]
  },
  {
   "cell_type": "code",
   "execution_count": 8,
   "id": "76e23835-faae-4acf-a193-c75a07485fc2",
   "metadata": {},
   "outputs": [
    {
     "name": "stdout",
     "output_type": "stream",
     "text": [
      "['Introduction\\n', 'This document gives coding conventions for the Python code comprising the standard library in the main Python distribution. Please see the companion informational PEP describing style guidelines for the C code in the C implementation of Python [1].\\n', '\\n', \"This document and PEP 257 (Docstring Conventions) were adapted from Guido's original Python Style Guide essay, with some additions from Barry's style guide [2].\\n\", '\\n', 'This style guide evolves over time as additional conventions are identified and past conventions are rendered obsolete by changes in the language itself.\\n', '\\n', 'Many projects have their own coding style guidelines. In the event of any conflicts, such project-specific guides take precedence for that project.']\n"
     ]
    }
   ],
   "source": [
    "with open(\"pep8_introduction.txt\") as f:\n",
    "    lines = f.readlines()\n",
    "    print(lines)"
   ]
  },
  {
   "cell_type": "code",
   "execution_count": null,
   "id": "e61e0003-fc2c-42d1-b813-d4a1a8be418f",
   "metadata": {},
   "outputs": [],
   "source": []
  }
 ],
 "metadata": {
  "kernelspec": {
   "display_name": "Python 3 (ipykernel)",
   "language": "python",
   "name": "python3"
  },
  "language_info": {
   "codemirror_mode": {
    "name": "ipython",
    "version": 3
   },
   "file_extension": ".py",
   "mimetype": "text/x-python",
   "name": "python",
   "nbconvert_exporter": "python",
   "pygments_lexer": "ipython3",
   "version": "3.9.13"
  }
 },
 "nbformat": 4,
 "nbformat_minor": 5
}
