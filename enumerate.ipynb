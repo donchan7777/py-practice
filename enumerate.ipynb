{
 "cells": [
  {
   "cell_type": "markdown",
   "id": "4299cc98-eb08-446c-b35b-4e96bf7f5825",
   "metadata": {},
   "source": [
    "# enumerate"
   ]
  },
  {
   "cell_type": "code",
   "execution_count": 5,
   "id": "ff87b34d-40dc-453c-94f0-dcbfd91538a1",
   "metadata": {},
   "outputs": [
    {
     "name": "stdout",
     "output_type": "stream",
     "text": [
      "apple\n",
      "0\n",
      "peach\n",
      "1\n",
      "grapes\n",
      "2\n",
      "banana\n",
      "3\n"
     ]
    }
   ],
   "source": [
    "fruits = [\"apple\", \"peach\", \"grapes\", \"banana\"]\n",
    "\n",
    "for idx, fruit in enumerate(fruits):\n",
    "    print(fruit)\n",
    "    print(idx)"
   ]
  },
  {
   "cell_type": "code",
   "execution_count": 6,
   "id": "1da6c3dc-d4cf-4cd9-a49f-106b05a72ab5",
   "metadata": {},
   "outputs": [
    {
     "name": "stdout",
     "output_type": "stream",
     "text": [
      "(0, 'apple')\n",
      "(1, 'peach')\n",
      "(2, 'grapes')\n",
      "(3, 'banana')\n"
     ]
    }
   ],
   "source": [
    "for x in enumerate(fruits):\n",
    "    print(x)"
   ]
  },
  {
   "cell_type": "code",
   "execution_count": null,
   "id": "ecac8680-df28-486e-8bc1-223172093c05",
   "metadata": {},
   "outputs": [],
   "source": []
  },
  {
   "cell_type": "code",
   "execution_count": null,
   "id": "5a668808-d7f7-4ca7-8ebc-4b51b8e714a5",
   "metadata": {},
   "outputs": [],
   "source": []
  },
  {
   "cell_type": "code",
   "execution_count": null,
   "id": "7d86192a-69b2-40d3-8c22-53717c3902d1",
   "metadata": {},
   "outputs": [],
   "source": []
  }
 ],
 "metadata": {
  "kernelspec": {
   "display_name": "Python 3 (ipykernel)",
   "language": "python",
   "name": "python3"
  },
  "language_info": {
   "codemirror_mode": {
    "name": "ipython",
    "version": 3
   },
   "file_extension": ".py",
   "mimetype": "text/x-python",
   "name": "python",
   "nbconvert_exporter": "python",
   "pygments_lexer": "ipython3",
   "version": "3.9.13"
  }
 },
 "nbformat": 4,
 "nbformat_minor": 5
}
