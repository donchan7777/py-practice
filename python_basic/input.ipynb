{
 "cells": [
  {
   "cell_type": "markdown",
   "id": "174a1d7e-e005-4293-82b5-7a861042317d",
   "metadata": {},
   "source": [
    "# inpurt()"
   ]
  },
  {
   "cell_type": "code",
   "execution_count": 3,
   "id": "046bfb72-39dc-4a92-992d-ab4b082c37a5",
   "metadata": {},
   "outputs": [
    {
     "name": "stdin",
     "output_type": "stream",
     "text": [
      "how old are you 12\n"
     ]
    },
    {
     "name": "stdout",
     "output_type": "stream",
     "text": [
      "you are 12\n"
     ]
    }
   ],
   "source": [
    "age = input(\"how old are you\")\n",
    "print(\"you are {}\".format(age))"
   ]
  },
  {
   "cell_type": "code",
   "execution_count": 12,
   "id": "371eeb19-7217-4d24-9af4-80a1a2886aa9",
   "metadata": {},
   "outputs": [
    {
     "name": "stdin",
     "output_type": "stream",
     "text": [
      "how old are you 20\n"
     ]
    },
    {
     "name": "stdout",
     "output_type": "stream",
     "text": [
      "ok\n"
     ]
    },
    {
     "name": "stdin",
     "output_type": "stream",
     "text": [
      "play game\n",
      "1: routed\n",
      "2: BJ\n",
      "3: poker\n",
      " 3\n"
     ]
    }
   ],
   "source": [
    "age = int(input(\"how old are you\"))\n",
    "casino_age = 18\n",
    "game_text = \"\"\"play game\n",
    "1: routed\n",
    "2: BJ\n",
    "3: poker\n",
    "\"\"\"\n",
    "\n",
    "if age >= casino_age:\n",
    "    print(\"ok\")\n",
    "    game = input(game_text)\n",
    "    if game == \"1\":\n",
    "        print()\n",
    "    \n",
    "else:\n",
    "    print(\"ng\")"
   ]
  },
  {
   "cell_type": "code",
   "execution_count": null,
   "id": "afe8898f-fe64-44e2-8e5a-8466b92302a3",
   "metadata": {},
   "outputs": [],
   "source": []
  },
  {
   "cell_type": "code",
   "execution_count": null,
   "id": "f54ef89e-fd1a-48d7-a8d1-0303472edbc9",
   "metadata": {},
   "outputs": [],
   "source": []
  },
  {
   "cell_type": "code",
   "execution_count": null,
   "id": "a6bd7853-3b49-4cd7-a28e-fca56265d99e",
   "metadata": {},
   "outputs": [],
   "source": []
  },
  {
   "cell_type": "code",
   "execution_count": null,
   "id": "00b2562f-353e-4dda-a27e-3143c0792ab5",
   "metadata": {},
   "outputs": [],
   "source": []
  },
  {
   "cell_type": "code",
   "execution_count": null,
   "id": "03121280-75fa-4d03-a207-24e10716b08c",
   "metadata": {},
   "outputs": [],
   "source": []
  },
  {
   "cell_type": "code",
   "execution_count": null,
   "id": "96e01623-7b29-4c19-a398-80eb3a63f796",
   "metadata": {},
   "outputs": [],
   "source": []
  },
  {
   "cell_type": "code",
   "execution_count": null,
   "id": "65827bc6-cb27-42fe-9d96-e7f3ca19e26d",
   "metadata": {},
   "outputs": [],
   "source": []
  }
 ],
 "metadata": {
  "kernelspec": {
   "display_name": "Python 3 (ipykernel)",
   "language": "python",
   "name": "python3"
  },
  "language_info": {
   "codemirror_mode": {
    "name": "ipython",
    "version": 3
   },
   "file_extension": ".py",
   "mimetype": "text/x-python",
   "name": "python",
   "nbconvert_exporter": "python",
   "pygments_lexer": "ipython3",
   "version": "3.9.13"
  }
 },
 "nbformat": 4,
 "nbformat_minor": 5
}
