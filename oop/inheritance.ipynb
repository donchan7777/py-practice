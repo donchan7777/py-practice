{
 "cells": [
  {
   "cell_type": "code",
   "execution_count": 12,
   "id": "32e2e892-f6bc-4fd7-949d-2bbfd4f7b1a6",
   "metadata": {},
   "outputs": [
    {
     "name": "stdout",
     "output_type": "stream",
     "text": [
      "Animal init is calles\n",
      "Dog init is called\n"
     ]
    }
   ],
   "source": [
    "class Animal:\n",
    "    def __init__(self, name):\n",
    "        self.name = name\n",
    "        print(\"Animal init is calles\")\n",
    "        \n",
    "        \n",
    "    def breath(self):\n",
    "        print(f\"{self.name} is breathing\")\n",
    "        \n",
    "class Dog(Animal):\n",
    "    def __init__(self, name):\n",
    "        super().__init__(name=name)\n",
    "        print(\"Dog init is called\")\n",
    "\n",
    "\n",
    "\n",
    "\n",
    "\n",
    "\n",
    "\n",
    "\n",
    "pochi = Dog(\"pochi\")\n"
   ]
  },
  {
   "cell_type": "code",
   "execution_count": 13,
   "id": "97d9b759-fccf-45d6-b929-f3d3524a0496",
   "metadata": {},
   "outputs": [
    {
     "name": "stdout",
     "output_type": "stream",
     "text": [
      "pochi\n",
      "pochi is breathing\n"
     ]
    }
   ],
   "source": [
    "print(pochi.name)\n",
    "pochi.breath()\n"
   ]
  },
  {
   "cell_type": "code",
   "execution_count": null,
   "id": "d2b42434-0021-45c0-b32e-e747cf728ca0",
   "metadata": {},
   "outputs": [],
   "source": []
  },
  {
   "cell_type": "code",
   "execution_count": null,
   "id": "51a0f26b-4464-4b4f-ad6d-5ca1bac56705",
   "metadata": {},
   "outputs": [],
   "source": []
  }
 ],
 "metadata": {
  "kernelspec": {
   "display_name": "Python 3 (ipykernel)",
   "language": "python",
   "name": "python3"
  },
  "language_info": {
   "codemirror_mode": {
    "name": "ipython",
    "version": 3
   },
   "file_extension": ".py",
   "mimetype": "text/x-python",
   "name": "python",
   "nbconvert_exporter": "python",
   "pygments_lexer": "ipython3",
   "version": "3.9.13"
  }
 },
 "nbformat": 4,
 "nbformat_minor": 5
}
