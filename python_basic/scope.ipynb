{
 "cells": [
  {
   "cell_type": "markdown",
   "id": "79a2c0ed-7e38-4b29-b725-979515761713",
   "metadata": {},
   "source": [
    "# scope"
   ]
  },
  {
   "cell_type": "code",
   "execution_count": 5,
   "id": "91945687-8198-4727-bb28-c7f4dd3990ee",
   "metadata": {},
   "outputs": [
    {
     "name": "stdout",
     "output_type": "stream",
     "text": [
      "Im T Y\n"
     ]
    }
   ],
   "source": [
    "def print_name_local():\n",
    "    first_name = \"T\"\n",
    "    last_name = \"Y\"\n",
    "    print(f\"Im {first_name} {last_name}\")\n",
    "\n",
    "print_name_local()"
   ]
  },
  {
   "cell_type": "code",
   "execution_count": 10,
   "id": "09ed06eb-996c-43cd-9e9e-baa326f57591",
   "metadata": {},
   "outputs": [
    {
     "name": "stdout",
     "output_type": "stream",
     "text": [
      "Im 20\n",
      "20\n"
     ]
    }
   ],
   "source": [
    "age = 30\n",
    "\n",
    "def print_age():\n",
    "    global age\n",
    "    age = 20\n",
    "    print(f\"Im {age}\")\n",
    "\n",
    "          \n",
    "print_age()\n",
    "print(age)"
   ]
  },
  {
   "cell_type": "code",
   "execution_count": null,
   "id": "5cbfc613-00c9-4eec-8a8f-5e50adb3ff27",
   "metadata": {},
   "outputs": [],
   "source": []
  },
  {
   "cell_type": "code",
   "execution_count": null,
   "id": "0c5a8f1b-1bf2-4af7-a562-ceffefc1d503",
   "metadata": {},
   "outputs": [],
   "source": []
  },
  {
   "cell_type": "code",
   "execution_count": null,
   "id": "d8c2585b-46bf-4f4a-bb9e-71af8cade867",
   "metadata": {},
   "outputs": [],
   "source": []
  },
  {
   "cell_type": "code",
   "execution_count": null,
   "id": "a38a8572-c499-43a0-b3d5-8305c1500411",
   "metadata": {},
   "outputs": [],
   "source": []
  },
  {
   "cell_type": "code",
   "execution_count": null,
   "id": "784a47fa-2da5-49e0-bd0d-33de84c16b0b",
   "metadata": {},
   "outputs": [],
   "source": []
  },
  {
   "cell_type": "code",
   "execution_count": null,
   "id": "8c1b2d12-8af4-48e3-82d3-ca0ff46473bd",
   "metadata": {},
   "outputs": [],
   "source": []
  }
 ],
 "metadata": {
  "kernelspec": {
   "display_name": "Python 3 (ipykernel)",
   "language": "python",
   "name": "python3"
  },
  "language_info": {
   "codemirror_mode": {
    "name": "ipython",
    "version": 3
   },
   "file_extension": ".py",
   "mimetype": "text/x-python",
   "name": "python",
   "nbconvert_exporter": "python",
   "pygments_lexer": "ipython3",
   "version": "3.9.13"
  }
 },
 "nbformat": 4,
 "nbformat_minor": 5
}
