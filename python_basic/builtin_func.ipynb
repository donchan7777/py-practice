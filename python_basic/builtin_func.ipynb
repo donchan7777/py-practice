{
 "cells": [
  {
   "cell_type": "markdown",
   "id": "7e05b381-4164-4e07-b0b8-277177a5d91c",
   "metadata": {},
   "source": [
    "# built in function"
   ]
  },
  {
   "cell_type": "markdown",
   "id": "b2df41d4-7b83-4df8-9c54-bc962389c70a",
   "metadata": {},
   "source": [
    "# type"
   ]
  },
  {
   "cell_type": "code",
   "execution_count": 3,
   "id": "eea87068-269c-4b6f-9ca3-d6d4afab645f",
   "metadata": {},
   "outputs": [],
   "source": [
    "hellow_type = type(\"Hello\")"
   ]
  },
  {
   "cell_type": "code",
   "execution_count": 4,
   "id": "cd5e8ce8-e5e2-4783-9c50-1a5b92065f2b",
   "metadata": {},
   "outputs": [
    {
     "name": "stdout",
     "output_type": "stream",
     "text": [
      "<class 'str'>\n"
     ]
    }
   ],
   "source": [
    "print(hellow_type)"
   ]
  },
  {
   "cell_type": "code",
   "execution_count": 5,
   "id": "8f282d78-4880-46cf-9370-425d34c99dff",
   "metadata": {},
   "outputs": [
    {
     "name": "stdout",
     "output_type": "stream",
     "text": [
      "<class 'int'>\n"
     ]
    }
   ],
   "source": [
    "print(type(1))"
   ]
  },
  {
   "cell_type": "code",
   "execution_count": 6,
   "id": "782fbc4c-7708-439b-a4bc-a7adc584f643",
   "metadata": {},
   "outputs": [],
   "source": [
    "hello_id = id(\"hello\")"
   ]
  },
  {
   "cell_type": "code",
   "execution_count": 7,
   "id": "ef8890a6-9b3e-4ff1-ad88-2784651c1288",
   "metadata": {},
   "outputs": [
    {
     "name": "stdout",
     "output_type": "stream",
     "text": [
      "281472849422128\n"
     ]
    }
   ],
   "source": [
    "print(hello_id)"
   ]
  },
  {
   "cell_type": "code",
   "execution_count": 8,
   "id": "c9b3e0d2-f1a0-4d62-a4a4-2a48452005f4",
   "metadata": {},
   "outputs": [
    {
     "name": "stdout",
     "output_type": "stream",
     "text": [
      "281472849422128\n",
      "281472849422128\n"
     ]
    }
   ],
   "source": [
    "hello = \"hello\"\n",
    "hello2 = \"hello\"\n",
    "print(id(hello))\n",
    "print(id(hello2))"
   ]
  },
  {
   "cell_type": "code",
   "execution_count": null,
   "id": "b41deccb-6053-41b5-a09c-2e37bca1f4b2",
   "metadata": {},
   "outputs": [],
   "source": []
  }
 ],
 "metadata": {
  "kernelspec": {
   "display_name": "Python 3 (ipykernel)",
   "language": "python",
   "name": "python3"
  },
  "language_info": {
   "codemirror_mode": {
    "name": "ipython",
    "version": 3
   },
   "file_extension": ".py",
   "mimetype": "text/x-python",
   "name": "python",
   "nbconvert_exporter": "python",
   "pygments_lexer": "ipython3",
   "version": "3.9.13"
  }
 },
 "nbformat": 4,
 "nbformat_minor": 5
}
