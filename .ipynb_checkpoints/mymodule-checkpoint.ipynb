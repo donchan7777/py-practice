{
 "cells": [
  {
   "cell_type": "markdown",
   "id": "07af7ef2-dd37-4b4e-a2de-bf8632016db2",
   "metadata": {},
   "source": [
    "## my module"
   ]
  },
  {
   "cell_type": "code",
   "execution_count": 1,
   "id": "78ccccc3-3fc1-4485-8ca2-3185310514f6",
   "metadata": {},
   "outputs": [],
   "source": [
    "myvariable  = \"This is global variable\"\n",
    "\n",
    "\n",
    "def myfunc():\n",
    "    print(\"This is OK\")\n",
    "\n"
   ]
  },
  {
   "cell_type": "code",
   "execution_count": null,
   "id": "184e2b05-1646-45c2-9a10-f15a9604a8f6",
   "metadata": {},
   "outputs": [],
   "source": []
  },
  {
   "cell_type": "code",
   "execution_count": null,
   "id": "6933a62c-2164-419a-b911-69ee687f5122",
   "metadata": {},
   "outputs": [],
   "source": []
  },
  {
   "cell_type": "code",
   "execution_count": null,
   "id": "93ee7a28-4267-4551-94c9-b81a6d86464a",
   "metadata": {},
   "outputs": [],
   "source": []
  },
  {
   "cell_type": "code",
   "execution_count": null,
   "id": "253229d4-d6fb-454c-9891-c61357c01c14",
   "metadata": {},
   "outputs": [],
   "source": []
  },
  {
   "cell_type": "code",
   "execution_count": null,
   "id": "ce98226d-1939-4133-be63-60e79bf87b0d",
   "metadata": {},
   "outputs": [],
   "source": []
  }
 ],
 "metadata": {
  "kernelspec": {
   "display_name": "Python 3 (ipykernel)",
   "language": "python",
   "name": "python3"
  },
  "language_info": {
   "codemirror_mode": {
    "name": "ipython",
    "version": 3
   },
   "file_extension": ".py",
   "mimetype": "text/x-python",
   "name": "python",
   "nbconvert_exporter": "python",
   "pygments_lexer": "ipython3",
   "version": "3.9.13"
  }
 },
 "nbformat": 4,
 "nbformat_minor": 5
}
