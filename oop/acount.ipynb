{
 "cells": [
  {
   "cell_type": "code",
   "execution_count": 2,
   "id": "81eb2c38-8b01-44e7-9045-f90786a8dde1",
   "metadata": {},
   "outputs": [],
   "source": [
    "import time\n",
    "\n",
    "\n",
    "class Account:\n",
    "    \n",
    "    count = 0\n",
    "    \n",
    "    def __init__(self, balance ,name):\n",
    "        self.balance = balance\n",
    "        self.name = name\n",
    "        self.account_number = Account.count\n",
    "        self.transanction_history = []\n",
    "        Account.count += 1\n",
    "        \n",
    "    \n",
    "    def withdraw(self, price):\n",
    "        if price <= self.balance:\n",
    "            self.balance -= price\n",
    "            self.show_balance()\n",
    "            self.add_transaction(-price)\n",
    "        else:\n",
    "            print(f\"{self.balance} 残高が足りません\")\n",
    "        # self.balance = self.balance - price\n",
    "        # print(f\"self.balance:{self.balance}足りません\")\n",
    "    \n",
    "    \n",
    "    def deposit(self):\n",
    "        self.balance += price\n",
    "        self.show_balance()\n",
    "        self.add_transaction(price)\n",
    "\n",
    "\n",
    "        \n",
    "    def show_balance(self):\n",
    "        print(\"{0.name}(口座番号:{0.account_number})残高は {0.balance}\".format(self))\n",
    "        \n",
    "    \n",
    "    def add_transaction(self, price):\n",
    "        transaction = {\n",
    "            \"withdraw/deposit\": price,\n",
    "            \"new_balance\": self.balance,\n",
    "            \"time\": Account.get_time_str()\n",
    "        }\n",
    "        self.transanction_history.append(transaction)\n",
    "        \n",
    "    \n",
    "    @staticmethod\n",
    "    def get_time_str():\n",
    "        current_time = time.localtime()\n",
    "        return \"{0.tm_year}年{0.tm_mon}月{0.tm_mday}日{0.tm_hour}時{0.tm_min}分\".format(current_time)\n",
    "        \n",
    "        \n",
    "    def show_transaction_history(self):\n",
    "        for transaction in self.transanction_history:\n",
    "            transaction_str_list = []\n",
    "            for k, v in transaction.items():\n",
    "                transaction_str_list.append(f\"{k}: {v}\")\n",
    "            print(\", \".join(transaction_str_list))\n",
    "    \n",
    "\n",
    "                  \n",
    "myaccount = Account(name=\"myaccount\", balance=100000)"
   ]
  },
  {
   "cell_type": "code",
   "execution_count": 3,
   "id": "a4ce568e-3445-4f03-8e69-6e7bd2863df3",
   "metadata": {},
   "outputs": [
    {
     "name": "stdout",
     "output_type": "stream",
     "text": [
      "myaccount\n",
      "100000\n"
     ]
    }
   ],
   "source": [
    "print(myaccount.name)\n",
    "print(myaccount.balance)"
   ]
  },
  {
   "cell_type": "code",
   "execution_count": 4,
   "id": "12a20d70-05b7-4f1f-929f-774a97d96b1f",
   "metadata": {},
   "outputs": [
    {
     "name": "stdout",
     "output_type": "stream",
     "text": [
      "myaccount(口座番号:0)残高は 99000\n",
      "myaccount(口座番号:0)残高は 94000\n",
      "2023年1月20日9時43分\n",
      "[{'withdraw/deposit': -1000, 'new_balance': 99000, 'time': '2023年1月20日9時43分'}, {'withdraw/deposit': -5000, 'new_balance': 94000, 'time': '2023年1月20日9時43分'}]\n"
     ]
    }
   ],
   "source": [
    "myaccount.withdraw(1000)\n",
    "myaccount.withdraw(5000)\n",
    "# myaccount.deposit(4000)\n",
    "print(Account.get_time_str())\n",
    "print(myaccount.transanction_history)"
   ]
  },
  {
   "cell_type": "code",
   "execution_count": 5,
   "id": "efd3d9a5-b982-44d1-96a3-6028e973b4cf",
   "metadata": {},
   "outputs": [
    {
     "name": "stdout",
     "output_type": "stream",
     "text": [
      "withdraw/deposit: -1000, new_balance: 99000, time: 2023年1月20日9時43分\n",
      "withdraw/deposit: -5000, new_balance: 94000, time: 2023年1月20日9時43分\n"
     ]
    }
   ],
   "source": [
    "myaccount.show_transaction_history()\n"
   ]
  },
  {
   "cell_type": "code",
   "execution_count": null,
   "id": "2882c083-c9e9-46cf-8648-b83a9d4c0631",
   "metadata": {},
   "outputs": [],
   "source": []
  }
 ],
 "metadata": {
  "kernelspec": {
   "display_name": "Python 3 (ipykernel)",
   "language": "python",
   "name": "python3"
  },
  "language_info": {
   "codemirror_mode": {
    "name": "ipython",
    "version": 3
   },
   "file_extension": ".py",
   "mimetype": "text/x-python",
   "name": "python",
   "nbconvert_exporter": "python",
   "pygments_lexer": "ipython3",
   "version": "3.9.13"
  }
 },
 "nbformat": 4,
 "nbformat_minor": 5
}
