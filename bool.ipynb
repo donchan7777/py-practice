{
 "cells": [
  {
   "cell_type": "markdown",
   "id": "0307e50c-978b-4744-afca-216d3b71bae6",
   "metadata": {},
   "source": [
    "#Boolean"
   ]
  },
  {
   "cell_type": "code",
   "execution_count": 2,
   "id": "124a5d61-bbda-47ef-a644-250eaafb7e08",
   "metadata": {},
   "outputs": [
    {
     "name": "stdout",
     "output_type": "stream",
     "text": [
      "True\n",
      "False\n"
     ]
    }
   ],
   "source": [
    "print(True)\n",
    "print(False)"
   ]
  },
  {
   "cell_type": "code",
   "execution_count": 3,
   "id": "74790568-d45c-4a2d-b771-189013451124",
   "metadata": {},
   "outputs": [
    {
     "name": "stdout",
     "output_type": "stream",
     "text": [
      "True\n"
     ]
    }
   ],
   "source": [
    "balance = 1000\n",
    "withdrawal = 500\n",
    "print(balance > withdrawal)"
   ]
  },
  {
   "cell_type": "code",
   "execution_count": 4,
   "id": "4430ecad-0b6a-4a78-958c-27d81da69c9b",
   "metadata": {},
   "outputs": [
    {
     "name": "stdout",
     "output_type": "stream",
     "text": [
      "2\n"
     ]
    }
   ],
   "source": [
    "print(True + True)"
   ]
  },
  {
   "cell_type": "code",
   "execution_count": null,
   "id": "a9887fba-eb9e-4307-91fb-3bf1e0d3410b",
   "metadata": {},
   "outputs": [],
   "source": []
  }
 ],
 "metadata": {
  "kernelspec": {
   "display_name": "Python 3 (ipykernel)",
   "language": "python",
   "name": "python3"
  },
  "language_info": {
   "codemirror_mode": {
    "name": "ipython",
    "version": 3
   },
   "file_extension": ".py",
   "mimetype": "text/x-python",
   "name": "python",
   "nbconvert_exporter": "python",
   "pygments_lexer": "ipython3",
   "version": "3.9.13"
  }
 },
 "nbformat": 4,
 "nbformat_minor": 5
}
