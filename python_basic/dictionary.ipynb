{
 "cells": [
  {
   "cell_type": "markdown",
   "id": "60fc4a64-2416-47e2-8c6c-4d4d7c5246b6",
   "metadata": {},
   "source": [
    "# dictionary"
   ]
  },
  {
   "cell_type": "code",
   "execution_count": 2,
   "id": "4f3acf39-fca1-4e69-aafe-eec11cde25c0",
   "metadata": {},
   "outputs": [
    {
     "name": "stdout",
     "output_type": "stream",
     "text": [
      "red\n"
     ]
    }
   ],
   "source": [
    "fruits_colors = {\"apple\": \"red\", \"lemon\": \"yellow\", \"grapes\": \"purple\"}\n",
    "print(fruits_colors[\"apple\"])"
   ]
  },
  {
   "cell_type": "code",
   "execution_count": 4,
   "id": "28378a9f-4b46-4458-be2e-f9ea7a918fbd",
   "metadata": {},
   "outputs": [
    {
     "name": "stdout",
     "output_type": "stream",
     "text": [
      "{'apple': 'red', 'lemon': 'yellow', 'grapes': 'purple', 'peach': 'pink'}\n"
     ]
    }
   ],
   "source": [
    "fruits_colors[\"peach\"] = \"pink\"\n",
    "print(fruits_colors)"
   ]
  },
  {
   "cell_type": "code",
   "execution_count": 13,
   "id": "3dc130e6-d22d-4c8e-8a25-e8788b4c58df",
   "metadata": {},
   "outputs": [
    {
     "name": "stdout",
     "output_type": "stream",
     "text": [
      "red\n",
      "yellow\n",
      "purple\n",
      "pink\n"
     ]
    }
   ],
   "source": [
    "for fruit in fruits_colors.values():\n",
    "    print(fruit)"
   ]
  },
  {
   "cell_type": "code",
   "execution_count": 14,
   "id": "829f9573-7020-4d24-857b-d3d6e3921f11",
   "metadata": {},
   "outputs": [
    {
     "name": "stdout",
     "output_type": "stream",
     "text": [
      "apple is red\n",
      "lemon is yellow\n",
      "grapes is purple\n",
      "peach is pink\n"
     ]
    }
   ],
   "source": [
    "for fruit, color in fruits_colors.items():\n",
    "    print(f\"{fruit} is {color}\")"
   ]
  },
  {
   "cell_type": "code",
   "execution_count": null,
   "id": "7b59a768-c623-40b4-a99b-aaff176d8cfc",
   "metadata": {},
   "outputs": [],
   "source": []
  },
  {
   "cell_type": "code",
   "execution_count": null,
   "id": "3463ae40-7770-4958-a1f6-8a70d7f8f591",
   "metadata": {},
   "outputs": [],
   "source": []
  },
  {
   "cell_type": "code",
   "execution_count": null,
   "id": "22cbef7c-66ba-40bf-9ada-f4dc4fc0ea00",
   "metadata": {},
   "outputs": [],
   "source": []
  },
  {
   "cell_type": "code",
   "execution_count": null,
   "id": "8f9544f5-ccd2-4050-b882-bc5a25cfaff9",
   "metadata": {},
   "outputs": [],
   "source": []
  }
 ],
 "metadata": {
  "kernelspec": {
   "display_name": "Python 3 (ipykernel)",
   "language": "python",
   "name": "python3"
  },
  "language_info": {
   "codemirror_mode": {
    "name": "ipython",
    "version": 3
   },
   "file_extension": ".py",
   "mimetype": "text/x-python",
   "name": "python",
   "nbconvert_exporter": "python",
   "pygments_lexer": "ipython3",
   "version": "3.9.13"
  }
 },
 "nbformat": 4,
 "nbformat_minor": 5
}
