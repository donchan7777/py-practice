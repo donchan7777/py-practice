{
 "cells": [
  {
   "cell_type": "markdown",
   "id": "6e70fbad-24ea-47e3-89c3-51986ec4427d",
   "metadata": {},
   "source": [
    "# list"
   ]
  },
  {
   "cell_type": "code",
   "execution_count": 1,
   "id": "6e89530b-55c6-47e2-8cfd-50bbe4e4c591",
   "metadata": {},
   "outputs": [],
   "source": [
    "fruits = [\"apple\", \"peach\", \"melon\", \"grapes\"]"
   ]
  },
  {
   "cell_type": "code",
   "execution_count": 4,
   "id": "88f5d57b-077e-4387-a609-16c918612643",
   "metadata": {},
   "outputs": [],
   "source": [
    "letro_list = [\"string\", 1, 3.4, True, fruits]"
   ]
  },
  {
   "cell_type": "code",
   "execution_count": 5,
   "id": "081f085b-6f3d-4052-b471-1df8e58849da",
   "metadata": {},
   "outputs": [
    {
     "name": "stdout",
     "output_type": "stream",
     "text": [
      "['string', 1, 3.4, True, ['apple', 'peach', 'melon', 'grapes']]\n"
     ]
    }
   ],
   "source": [
    "print(letro_list)"
   ]
  },
  {
   "cell_type": "code",
   "execution_count": 7,
   "id": "0fffcf87-150c-4489-926e-3ddad0e78fe3",
   "metadata": {},
   "outputs": [
    {
     "name": "stdout",
     "output_type": "stream",
     "text": [
      "grapes\n"
     ]
    }
   ],
   "source": [
    "print(fruits[-1])"
   ]
  },
  {
   "cell_type": "code",
   "execution_count": 9,
   "id": "c6d742d9-a041-429c-8e4e-029f0a9a7f90",
   "metadata": {},
   "outputs": [
    {
     "name": "stdout",
     "output_type": "stream",
     "text": [
      "grapes\n"
     ]
    }
   ],
   "source": [
    "print(letro_list[-1][-1])"
   ]
  },
  {
   "cell_type": "code",
   "execution_count": 10,
   "id": "4a542739-9d0f-4287-a644-7e13f5f1195c",
   "metadata": {},
   "outputs": [
    {
     "name": "stdout",
     "output_type": "stream",
     "text": [
      "['apple', 'peach', 'melon', 'grapes', 'banana']\n"
     ]
    }
   ],
   "source": [
    "fruits.append(\"banana\")\n",
    "print(fruits)"
   ]
  },
  {
   "cell_type": "code",
   "execution_count": 12,
   "id": "086483d9-5e74-415f-8a2d-bc6fa988f30b",
   "metadata": {},
   "outputs": [
    {
     "name": "stdout",
     "output_type": "stream",
     "text": [
      "['apple', 'peach', 'melon', 'lemon', 'lemon', 'grapes', 'banana']\n"
     ]
    }
   ],
   "source": [
    "fruits.insert(3, \"lemon\")\n",
    "print(fruits)"
   ]
  },
  {
   "cell_type": "code",
   "execution_count": 13,
   "id": "b62565ca-9679-4333-9a40-beb8da27e9c4",
   "metadata": {},
   "outputs": [
    {
     "name": "stdout",
     "output_type": "stream",
     "text": [
      "['apple', 'melon', 'lemon', 'lemon', 'grapes', 'banana']\n"
     ]
    }
   ],
   "source": [
    "fruits.remove(\"peach\")\n",
    "print(fruits)"
   ]
  },
  {
   "cell_type": "code",
   "execution_count": 14,
   "id": "3a9d4a01-ef57-45d4-8a46-8a6057ec0a99",
   "metadata": {},
   "outputs": [
    {
     "name": "stdout",
     "output_type": "stream",
     "text": [
      "['apple', 'banana', 'grapes', 'lemon', 'lemon', 'melon']\n"
     ]
    }
   ],
   "source": [
    "fruits.sort()\n",
    "print(fruits)"
   ]
  },
  {
   "cell_type": "code",
   "execution_count": 16,
   "id": "b4a1c6f3-805c-49dc-a72c-a0166cbe7355",
   "metadata": {},
   "outputs": [
    {
     "name": "stdout",
     "output_type": "stream",
     "text": [
      "['melon', 'lemon', 'lemon', 'grapes', 'banana', 'apple']\n"
     ]
    }
   ],
   "source": [
    "fruits.sort(reverse=True)\n",
    "print(fruits)"
   ]
  },
  {
   "cell_type": "code",
   "execution_count": 17,
   "id": "039c615d-41ba-418d-91c1-6cccf011b4ac",
   "metadata": {},
   "outputs": [
    {
     "data": {
      "text/plain": [
       "6"
      ]
     },
     "execution_count": 17,
     "metadata": {},
     "output_type": "execute_result"
    }
   ],
   "source": [
    "len(fruits)"
   ]
  },
  {
   "cell_type": "code",
   "execution_count": null,
   "id": "b7fc5f29-5ef4-470c-8a3b-9eb4f12bb36d",
   "metadata": {},
   "outputs": [],
   "source": []
  }
 ],
 "metadata": {
  "kernelspec": {
   "display_name": "Python 3 (ipykernel)",
   "language": "python",
   "name": "python3"
  },
  "language_info": {
   "codemirror_mode": {
    "name": "ipython",
    "version": 3
   },
   "file_extension": ".py",
   "mimetype": "text/x-python",
   "name": "python",
   "nbconvert_exporter": "python",
   "pygments_lexer": "ipython3",
   "version": "3.9.13"
  }
 },
 "nbformat": 4,
 "nbformat_minor": 5
}
