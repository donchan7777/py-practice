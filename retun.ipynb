{
 "cells": [
  {
   "cell_type": "markdown",
   "id": "f4cb0e91-283f-49e3-ac70-3e04b470d656",
   "metadata": {},
   "source": [
    "# retun"
   ]
  },
  {
   "cell_type": "code",
   "execution_count": 1,
   "id": "ead7d935-c019-432e-9256-97c8e25daf0a",
   "metadata": {},
   "outputs": [
    {
     "name": "stdout",
     "output_type": "stream",
     "text": [
      "{'one': 1, 'two': 2}\n"
     ]
    }
   ],
   "source": [
    "def print_dict(input_dict):\n",
    "    for k, v in input_dict.items():\n",
    "        print(f'key: {k}, value:{v}')\n",
    "\n",
    "a = {'one': 1, \"two\": 2}\n",
    "print(a)"
   ]
  },
  {
   "cell_type": "code",
   "execution_count": 3,
   "id": "21b3b5fc-c389-45d4-92b5-ac87aff8ed1f",
   "metadata": {},
   "outputs": [
    {
     "name": "stdout",
     "output_type": "stream",
     "text": [
      "key: one, value:1\n",
      "key: two, value:2\n",
      "key: one, value:1\n",
      "key: two, value:2\n"
     ]
    }
   ],
   "source": [
    "print_dict(a)\n",
    "return_value = print_dict(a)\n",
    "\n"
   ]
  },
  {
   "cell_type": "code",
   "execution_count": 27,
   "id": "bf40c979-5d7f-4875-b303-663845e74cf5",
   "metadata": {},
   "outputs": [
    {
     "name": "stdout",
     "output_type": "stream",
     "text": [
      "first word is hello, last word is Mike\n"
     ]
    }
   ],
   "source": [
    "def get_first_last_word(text):\n",
    "    text = text.replace(\",\", \"\")\n",
    "    words = text.split()\n",
    "    return words[0], words[-1]\n",
    "\n",
    "\n",
    "text = \"hello, my name is Mike\"\n",
    "first, last = get_first_last_word(text)\n",
    "print(f\"first word is {first}, last word is {last}\")"
   ]
  },
  {
   "cell_type": "code",
   "execution_count": 14,
   "id": "1c4a36b5-88ac-4e72-aa1f-40fe37ca6192",
   "metadata": {},
   "outputs": [
    {
     "name": "stdout",
     "output_type": "stream",
     "text": [
      "1\n"
     ]
    }
   ],
   "source": [
    "a, b, c = (1, 2, 3)\n",
    "print(a)"
   ]
  },
  {
   "cell_type": "code",
   "execution_count": null,
   "id": "070a5928-c5ab-4e52-9c66-1c8c141524d5",
   "metadata": {},
   "outputs": [],
   "source": []
  },
  {
   "cell_type": "code",
   "execution_count": null,
   "id": "ae3d9dbe-0d72-4599-8a0d-0fceb08cef31",
   "metadata": {},
   "outputs": [],
   "source": []
  },
  {
   "cell_type": "code",
   "execution_count": null,
   "id": "7549d492-b0a5-4909-9d13-45d305a6cce6",
   "metadata": {},
   "outputs": [],
   "source": []
  },
  {
   "cell_type": "code",
   "execution_count": null,
   "id": "3ce023a2-5172-45af-a36e-0247b80ace0a",
   "metadata": {},
   "outputs": [],
   "source": []
  },
  {
   "cell_type": "code",
   "execution_count": null,
   "id": "393f4ffc-788a-49f0-b0cd-45f3546298dc",
   "metadata": {},
   "outputs": [],
   "source": []
  }
 ],
 "metadata": {
  "kernelspec": {
   "display_name": "Python 3 (ipykernel)",
   "language": "python",
   "name": "python3"
  },
  "language_info": {
   "codemirror_mode": {
    "name": "ipython",
    "version": 3
   },
   "file_extension": ".py",
   "mimetype": "text/x-python",
   "name": "python",
   "nbconvert_exporter": "python",
   "pygments_lexer": "ipython3",
   "version": "3.9.13"
  }
 },
 "nbformat": 4,
 "nbformat_minor": 5
}
