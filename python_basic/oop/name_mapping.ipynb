{
 "cells": [
  {
   "cell_type": "code",
   "execution_count": 8,
   "id": "bcab34df-0c69-403e-a286-6574e64d7b01",
   "metadata": {},
   "outputs": [
    {
     "name": "stdout",
     "output_type": "stream",
     "text": [
      "残高は10000円です。\n",
      "残高が足りません\n",
      "-1000\n"
     ]
    }
   ],
   "source": [
    "class Account:\n",
    "    \n",
    "    def __init__(self, balance):\n",
    "        self._balance = balance\n",
    "        \n",
    "    def deposit(self, price):\n",
    "        self.price = price\n",
    "        self.show_balance()\n",
    "    \n",
    "    def withdraw(self, price):\n",
    "        if self._balance < price:\n",
    "            print(\"残高が足りません\")\n",
    "        else:\n",
    "            self._balance -= price\n",
    "            self.show_balance()\n",
    "\n",
    "\n",
    "    \n",
    "    def show_balance(self):\n",
    "        print(f\"残高は{self._balance}円です。\")\n",
    "\n",
    "\n",
    "myaccount = Account(10000)\n",
    "myaccount.deposit(1000)\n",
    "myaccount.withdraw(50000)\n",
    "myaccount._balance = -1000\n",
    "print(myaccount._balance)"
   ]
  },
  {
   "cell_type": "code",
   "execution_count": 7,
   "id": "972f579a-8d41-4a24-9141-58d9f42cc9e1",
   "metadata": {},
   "outputs": [
    {
     "name": "stdout",
     "output_type": "stream",
     "text": [
      "['__class__', '__delattr__', '__dict__', '__dir__', '__doc__', '__eq__', '__format__', '__ge__', '__getattribute__', '__gt__', '__hash__', '__init__', '__init_subclass__', '__le__', '__lt__', '__module__', '__ne__', '__new__', '__reduce__', '__reduce_ex__', '__repr__', '__setattr__', '__sizeof__', '__str__', '__subclasshook__', '__weakref__', '_balance', 'deposit', 'price', 'show_balance', 'withdraw']\n"
     ]
    }
   ],
   "source": [
    "print(dir(myaccount))"
   ]
  },
  {
   "cell_type": "code",
   "execution_count": null,
   "id": "8692b11d-8e87-43c4-b705-a445764dd547",
   "metadata": {},
   "outputs": [],
   "source": []
  }
 ],
 "metadata": {
  "kernelspec": {
   "display_name": "Python 3 (ipykernel)",
   "language": "python",
   "name": "python3"
  },
  "language_info": {
   "codemirror_mode": {
    "name": "ipython",
    "version": 3
   },
   "file_extension": ".py",
   "mimetype": "text/x-python",
   "name": "python",
   "nbconvert_exporter": "python",
   "pygments_lexer": "ipython3",
   "version": "3.9.13"
  }
 },
 "nbformat": 4,
 "nbformat_minor": 5
}
