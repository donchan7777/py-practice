{
 "cells": [
  {
   "cell_type": "markdown",
   "id": "bd33c79c-d32d-43bf-9236-39a3674d5afa",
   "metadata": {},
   "source": [
    "# 比較演算子(relationa operator)"
   ]
  },
  {
   "cell_type": "code",
   "execution_count": 2,
   "id": "16de2a15-90ea-4a03-9aa7-f11f02dae755",
   "metadata": {},
   "outputs": [
    {
     "name": "stdout",
     "output_type": "stream",
     "text": [
      "True\n"
     ]
    }
   ],
   "source": [
    "print(5 > 3)"
   ]
  },
  {
   "cell_type": "code",
   "execution_count": 3,
   "id": "072ac059-0b49-4cc5-8b48-4de921638608",
   "metadata": {},
   "outputs": [
    {
     "name": "stdout",
     "output_type": "stream",
     "text": [
      "False\n"
     ]
    }
   ],
   "source": [
    "print(2.0 < 1)"
   ]
  },
  {
   "cell_type": "code",
   "execution_count": 4,
   "id": "5d53afcb-e395-4082-914a-bfd5f934c69c",
   "metadata": {},
   "outputs": [
    {
     "name": "stdout",
     "output_type": "stream",
     "text": [
      "False\n"
     ]
    }
   ],
   "source": [
    "print(2.0 < 2.0)"
   ]
  },
  {
   "cell_type": "code",
   "execution_count": 5,
   "id": "a6bf6a76-3e05-4324-93bf-6205b1b8ea68",
   "metadata": {},
   "outputs": [
    {
     "name": "stdout",
     "output_type": "stream",
     "text": [
      "True\n"
     ]
    }
   ],
   "source": [
    "print(2.0 <= 2.0)"
   ]
  },
  {
   "cell_type": "code",
   "execution_count": 6,
   "id": "9e66ded0-2528-4305-b109-f09a18585cb9",
   "metadata": {},
   "outputs": [
    {
     "name": "stdout",
     "output_type": "stream",
     "text": [
      "True\n"
     ]
    }
   ],
   "source": [
    "print(5 >= 3)"
   ]
  },
  {
   "cell_type": "code",
   "execution_count": 7,
   "id": "3d70e3b3-a88d-49dc-9102-d99a1e546314",
   "metadata": {},
   "outputs": [
    {
     "name": "stdout",
     "output_type": "stream",
     "text": [
      "False\n"
     ]
    }
   ],
   "source": [
    "print(5 == 3)"
   ]
  },
  {
   "cell_type": "code",
   "execution_count": 8,
   "id": "12fb488a-4c18-4041-825f-02b24fe0cf53",
   "metadata": {},
   "outputs": [
    {
     "name": "stdout",
     "output_type": "stream",
     "text": [
      "True\n"
     ]
    }
   ],
   "source": [
    "print(1 == 1.0)"
   ]
  },
  {
   "cell_type": "code",
   "execution_count": 10,
   "id": "3242a4bb-3e3f-480d-a5ce-455b65cc7d29",
   "metadata": {},
   "outputs": [
    {
     "name": "stdout",
     "output_type": "stream",
     "text": [
      "False\n"
     ]
    }
   ],
   "source": [
    "print(1 == \"1\")"
   ]
  },
  {
   "cell_type": "code",
   "execution_count": 11,
   "id": "98afebcb-e84d-4a66-a662-b5184eafb456",
   "metadata": {},
   "outputs": [
    {
     "name": "stdout",
     "output_type": "stream",
     "text": [
      "True\n"
     ]
    }
   ],
   "source": [
    "print(\"1\" == \"1\")"
   ]
  },
  {
   "cell_type": "code",
   "execution_count": null,
   "id": "938a72ac-545f-4698-b84b-7e41156f3490",
   "metadata": {},
   "outputs": [],
   "source": []
  }
 ],
 "metadata": {
  "kernelspec": {
   "display_name": "Python 3 (ipykernel)",
   "language": "python",
   "name": "python3"
  },
  "language_info": {
   "codemirror_mode": {
    "name": "ipython",
    "version": 3
   },
   "file_extension": ".py",
   "mimetype": "text/x-python",
   "name": "python",
   "nbconvert_exporter": "python",
   "pygments_lexer": "ipython3",
   "version": "3.9.13"
  }
 },
 "nbformat": 4,
 "nbformat_minor": 5
}
