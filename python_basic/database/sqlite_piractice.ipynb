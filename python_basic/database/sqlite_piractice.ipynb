{
 "cells": [
  {
   "cell_type": "code",
   "execution_count": 16,
   "id": "67436b67-98af-41b3-b7d9-0268c73558ec",
   "metadata": {},
   "outputs": [
    {
     "name": "stdout",
     "output_type": "stream",
     "text": [
      "<sqlite3.Connection object at 0xffff5b399120>\n"
     ]
    },
    {
     "ename": "OperationalError",
     "evalue": "database is locked",
     "output_type": "error",
     "traceback": [
      "\u001b[0;31m---------------------------------------------------------------------------\u001b[0m",
      "\u001b[0;31mOperationalError\u001b[0m                          Traceback (most recent call last)",
      "\u001b[0;32m/tmp/ipykernel_576/3448001125.py\u001b[0m in \u001b[0;36m<module>\u001b[0;34m\u001b[0m\n\u001b[1;32m     23\u001b[0m \"\"\"\n\u001b[1;32m     24\u001b[0m \u001b[0;34m\u001b[0m\u001b[0m\n\u001b[0;32m---> 25\u001b[0;31m \u001b[0mcursor\u001b[0m\u001b[0;34m.\u001b[0m\u001b[0mexecutescript\u001b[0m\u001b[0;34m(\u001b[0m\u001b[0minsert_user_query\u001b[0m\u001b[0;34m)\u001b[0m\u001b[0;34m\u001b[0m\u001b[0;34m\u001b[0m\u001b[0m\n\u001b[0m",
      "\u001b[0;31mOperationalError\u001b[0m: database is locked"
     ]
    }
   ],
   "source": [
    "import sqlite3\n",
    "\n",
    "con = sqlite3.connect(\"sample.db\")\n",
    "print(con)\n",
    "cursor = con.cursor()\n",
    "\n",
    "create_user_table_query = \"\"\"\n",
    "CREATE TABLE IF NOT EXISTS User (\n",
    "    UserId INTEGER PRIMARY KEY NOT NULL,\n",
    "    Name TEXT DEFAULT \"anonymous\",\n",
    "    Email TEXT NOT NULL,\n",
    "    Age INTEGER CHECK(Age > 0)\n",
    ")\n",
    "\"\"\"\n",
    "\n",
    "cursor.execute(create_user_table_query)\n",
    "\n",
    "\n",
    "insert_user_query = \"\"\"\n",
    "INSERT INTO User VALUES (1, 'John', 'john@gmail.com', 30);\n",
    "INSERT INTO User VALUES (2, 'Emily', 'Emily@gmail.com', 28);\n",
    "INSERT INTO User VALUES (3, 'Taro', 'taro@gmail.com', 25);\n",
    "\"\"\"\n",
    "\n",
    "cursor.executescript(insert_user_query)\n"
   ]
  },
  {
   "cell_type": "code",
   "execution_count": null,
   "id": "8e7da914-c360-4cd9-bf9f-719795699fdd",
   "metadata": {},
   "outputs": [],
   "source": []
  }
 ],
 "metadata": {
  "kernelspec": {
   "display_name": "Python 3 (ipykernel)",
   "language": "python",
   "name": "python3"
  },
  "language_info": {
   "codemirror_mode": {
    "name": "ipython",
    "version": 3
   },
   "file_extension": ".py",
   "mimetype": "text/x-python",
   "name": "python",
   "nbconvert_exporter": "python",
   "pygments_lexer": "ipython3",
   "version": "3.9.13"
  }
 },
 "nbformat": 4,
 "nbformat_minor": 5
}
