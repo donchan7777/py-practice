{
 "cells": [
  {
   "cell_type": "code",
   "execution_count": 7,
   "id": "5e056223-a153-4cb1-b482-3180c37ccbc0",
   "metadata": {},
   "outputs": [
    {
     "name": "stdin",
     "output_type": "stream",
     "text": [
      "how old are you 30\n"
     ]
    },
    {
     "name": "stdout",
     "output_type": "stream",
     "text": [
      "OK\n"
     ]
    },
    {
     "name": "stdin",
     "output_type": "stream",
     "text": [
      "chose\n",
      "1:R\n",
      "2:B\n",
      "3:P\n",
      ": 3\n"
     ]
    },
    {
     "name": "stdout",
     "output_type": "stream",
     "text": [
      "1: R\n",
      "2: B\n",
      "3: P\n",
      "you chose P\n"
     ]
    }
   ],
   "source": [
    "age = int(input(\"how old are you\"))\n",
    "casino_age = 18\n",
    "chosegame = \"\"\"chose\n",
    "1:R\n",
    "2:B\n",
    "3:P\n",
    ":\"\"\"\n",
    "\n",
    "game_dict = {'1': 'R', '2': 'B', '3': 'P'}\n",
    "\n",
    "if age >= casino_age:\n",
    "    print(\"OK\")\n",
    "    while True:\n",
    "        game = input(chosegame)\n",
    "        for num, game_name in game_dict.items():\n",
    "            print(f'{num}: {game_name}')\n",
    "        # game = input(':')\n",
    "        \n",
    "        if game in game_dict:\n",
    "            print(f'you chose {game_dict[game]}')\n",
    "            break\n",
    "        else:\n",
    "            print('chise1-3')\n",
    "        \n",
    "        \n",
    "        \n",
    "        # if game == \"1\":\n",
    "        #         print(\"R OK\")\n",
    "        #         break\n",
    "        # elif game == \"2\":\n",
    "        #         print(\"B OK\")\n",
    "        #         break\n",
    "        # elif game == \"3\":\n",
    "        #         print(\"P OK\")\n",
    "        #         break\n",
    "        # else:\n",
    "        #     print(\"chose\")\n",
    "else:\n",
    "    print(\"NG\")"
   ]
  },
  {
   "cell_type": "code",
   "execution_count": null,
   "id": "65856a54-4361-4e80-992e-9c7e6a643808",
   "metadata": {},
   "outputs": [],
   "source": []
  }
 ],
 "metadata": {
  "kernelspec": {
   "display_name": "Python 3 (ipykernel)",
   "language": "python",
   "name": "python3"
  },
  "language_info": {
   "codemirror_mode": {
    "name": "ipython",
    "version": 3
   },
   "file_extension": ".py",
   "mimetype": "text/x-python",
   "name": "python",
   "nbconvert_exporter": "python",
   "pygments_lexer": "ipython3",
   "version": "3.9.13"
  }
 },
 "nbformat": 4,
 "nbformat_minor": 5
}
