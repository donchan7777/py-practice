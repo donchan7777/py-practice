{
 "cells": [
  {
   "cell_type": "markdown",
   "id": "5a5f7b61-3970-4665-a0f5-babcdadbaf06",
   "metadata": {},
   "source": [
    "## lambda"
   ]
  },
  {
   "cell_type": "code",
   "execution_count": 1,
   "id": "0854fc31-8c58-400a-8def-ff7f7d7fa27e",
   "metadata": {},
   "outputs": [
    {
     "name": "stdout",
     "output_type": "stream",
     "text": [
      "9\n"
     ]
    }
   ],
   "source": [
    "def square(x):\n",
    "    return x * x\n",
    "\n",
    "\n",
    "print(square(3))"
   ]
  },
  {
   "cell_type": "code",
   "execution_count": 2,
   "id": "8bab4c97-19c4-4229-9462-aeabc9baba67",
   "metadata": {},
   "outputs": [
    {
     "name": "stdout",
     "output_type": "stream",
     "text": [
      "25\n"
     ]
    }
   ],
   "source": [
    "s = lambda x: x * x\n",
    "print(s(5))\n",
    "\n",
    "\n",
    "\n",
    "\n"
   ]
  },
  {
   "cell_type": "code",
   "execution_count": 6,
   "id": "84eb20c6-a394-4459-87c6-2d82bf946229",
   "metadata": {},
   "outputs": [
    {
     "name": "stdout",
     "output_type": "stream",
     "text": [
      "False\n",
      "False\n",
      "True\n",
      "False\n",
      "True\n",
      "True\n",
      "[5, 21, 22.65]\n"
     ]
    }
   ],
   "source": [
    "numbers = [6, 2, 5, 34, 21, 22.65]\n",
    "\n",
    "\n",
    "def filterfunc(num):\n",
    "    if num % 2 ==0:\n",
    "        return False\n",
    "    else:\n",
    "        return True\n",
    "\n",
    "\n",
    "for num in numbers:\n",
    "    print(filterfunc(num))\n",
    "    \n",
    "\n",
    "    \n",
    "    \n",
    "filtered_num = filter(filterfunc, numbers)\n",
    "print(list(filtered_num))"
   ]
  },
  {
   "cell_type": "code",
   "execution_count": null,
   "id": "20b548bf-d92b-4de5-98e8-35b315fbc81b",
   "metadata": {},
   "outputs": [],
   "source": []
  }
 ],
 "metadata": {
  "kernelspec": {
   "display_name": "Python 3 (ipykernel)",
   "language": "python",
   "name": "python3"
  },
  "language_info": {
   "codemirror_mode": {
    "name": "ipython",
    "version": 3
   },
   "file_extension": ".py",
   "mimetype": "text/x-python",
   "name": "python",
   "nbconvert_exporter": "python",
   "pygments_lexer": "ipython3",
   "version": "3.9.13"
  }
 },
 "nbformat": 4,
 "nbformat_minor": 5
}
