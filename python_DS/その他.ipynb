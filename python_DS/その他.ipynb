{
 "cells": [
  {
   "cell_type": "markdown",
   "id": "f40d2a06-01b0-4157-b268-6f3e86fafc29",
   "metadata": {},
   "source": [
    "## glob"
   ]
  },
  {
   "cell_type": "code",
   "execution_count": 63,
   "id": "7c5821d0-d5f9-4d45-99d0-93445e46e973",
   "metadata": {},
   "outputs": [],
   "source": [
    "import glob\n",
    "\n",
    "import numpy as np\n",
    "import pandas as pd\n",
    "import matplotlib.pyplot as plt\n",
    "import seaborn as sns\n",
    "%matplotlib inline"
   ]
  },
  {
   "cell_type": "code",
   "execution_count": 21,
   "id": "79e3f2b5-d381-45b9-833a-09c3584b73a4",
   "metadata": {},
   "outputs": [
    {
     "data": {
      "text/plain": [
       "['Dockerfile.txt',\n",
       " 'Matplotlib.ipynb',\n",
       " 'NumPy.ipynb',\n",
       " 'OpenCV.ipynb',\n",
       " 'Pandas.ipynb',\n",
       " 'Seaborn.ipynb',\n",
       " 'bimodal_sample.png',\n",
       " 'cos_sin.png',\n",
       " 'cropped_lenna.png',\n",
       " 'data',\n",
       " 'lenna.png',\n",
       " 'pdf_file.pdf',\n",
       " 'pythonの基本.ipynb',\n",
       " 'runtime_budget.png',\n",
       " 'sample_ndarray.npy',\n",
       " 'text_pic.jpg',\n",
       " 'tmdb_5000_credits.csv',\n",
       " 'tmdb_5000_movies.csv',\n",
       " 'tmdb_5000_profit.csv',\n",
       " 'その他.ipynb']"
      ]
     },
     "execution_count": 21,
     "metadata": {},
     "output_type": "execute_result"
    }
   ],
   "source": [
    "glob.glob('*')"
   ]
  },
  {
   "cell_type": "markdown",
   "id": "1269e79c-ed9d-47f2-b16b-a711361ffd19",
   "metadata": {},
   "source": [
    "## OSとpathlib"
   ]
  },
  {
   "cell_type": "code",
   "execution_count": 64,
   "id": "659a29bc-64a8-4626-b172-978537ea6188",
   "metadata": {},
   "outputs": [],
   "source": [
    "import os \n",
    "from pathlib import Path"
   ]
  },
  {
   "cell_type": "code",
   "execution_count": 65,
   "id": "1f6df64a-64f5-4e67-8833-bd6e59edb0c4",
   "metadata": {},
   "outputs": [],
   "source": [
    "p = Path('data/')"
   ]
  },
  {
   "cell_type": "code",
   "execution_count": 70,
   "id": "279ec8a8-f983-46b4-bdf8-5395d98a17c8",
   "metadata": {},
   "outputs": [],
   "source": [
    "sub_p = list(p.iterdir())[1]"
   ]
  },
  {
   "cell_type": "code",
   "execution_count": 71,
   "id": "e1999bc3-aa07-4d88-8570-1518c4c70be1",
   "metadata": {},
   "outputs": [
    {
     "data": {
      "text/plain": [
       "[PosixPath('data/rp_im/1.nii.gz'),\n",
       " PosixPath('data/rp_im/2.nii.gz'),\n",
       " PosixPath('data/rp_im/3.nii.gz'),\n",
       " PosixPath('data/rp_im/4.nii.gz'),\n",
       " PosixPath('data/rp_im/5.nii.gz'),\n",
       " PosixPath('data/rp_im/6.nii.gz'),\n",
       " PosixPath('data/rp_im/7.nii.gz'),\n",
       " PosixPath('data/rp_im/8.nii.gz'),\n",
       " PosixPath('data/rp_im/9.nii.gz')]"
      ]
     },
     "execution_count": 71,
     "metadata": {},
     "output_type": "execute_result"
    }
   ],
   "source": [
    "list(sub_p.iterdir())"
   ]
  },
  {
   "cell_type": "code",
   "execution_count": 89,
   "id": "d8116985-26a4-4c72-9b15-d13c82ebbfbe",
   "metadata": {},
   "outputs": [
    {
     "data": {
      "text/plain": [
       "[PosixPath('data/rp_im/6.nii.gz'),\n",
       " PosixPath('data/rp_im/7.nii.gz'),\n",
       " PosixPath('data/rp_im/8.nii.gz'),\n",
       " PosixPath('data/rp_im/9.nii.gz')]"
      ]
     },
     "execution_count": 89,
     "metadata": {},
     "output_type": "execute_result"
    }
   ],
   "source": [
    "taerget_file = list(sub_p.glob('*[6-9]*'))\n",
    "taerget_file"
   ]
  },
  {
   "cell_type": "code",
   "execution_count": 92,
   "id": "174bd7d3-75bb-426c-a7c2-398cbd92d1e6",
   "metadata": {},
   "outputs": [
    {
     "ename": "TypeError",
     "evalue": "expected str, bytes or os.PathLike object, not list",
     "output_type": "error",
     "traceback": [
      "\u001b[0;31m---------------------------------------------------------------------------\u001b[0m",
      "\u001b[0;31mTypeError\u001b[0m                                 Traceback (most recent call last)",
      "Cell \u001b[0;32mIn[92], line 1\u001b[0m\n\u001b[0;32m----> 1\u001b[0m folder_p, file_name \u001b[38;5;241m=\u001b[39m \u001b[43mos\u001b[49m\u001b[38;5;241;43m.\u001b[39;49m\u001b[43mpath\u001b[49m\u001b[38;5;241;43m.\u001b[39;49m\u001b[43msplit\u001b[49m\u001b[43m(\u001b[49m\u001b[43mtaerget_file\u001b[49m\u001b[43m)\u001b[49m\n",
      "File \u001b[0;32m/opt/anaconda3/lib/python3.10/posixpath.py:103\u001b[0m, in \u001b[0;36msplit\u001b[0;34m(p)\u001b[0m\n\u001b[1;32m    100\u001b[0m \u001b[38;5;28;01mdef\u001b[39;00m \u001b[38;5;21msplit\u001b[39m(p):\n\u001b[1;32m    101\u001b[0m     \u001b[38;5;124;03m\"\"\"Split a pathname.  Returns tuple \"(head, tail)\" where \"tail\" is\u001b[39;00m\n\u001b[1;32m    102\u001b[0m \u001b[38;5;124;03m    everything after the final slash.  Either part may be empty.\"\"\"\u001b[39;00m\n\u001b[0;32m--> 103\u001b[0m     p \u001b[38;5;241m=\u001b[39m \u001b[43mos\u001b[49m\u001b[38;5;241;43m.\u001b[39;49m\u001b[43mfspath\u001b[49m\u001b[43m(\u001b[49m\u001b[43mp\u001b[49m\u001b[43m)\u001b[49m\n\u001b[1;32m    104\u001b[0m     sep \u001b[38;5;241m=\u001b[39m _get_sep(p)\n\u001b[1;32m    105\u001b[0m     i \u001b[38;5;241m=\u001b[39m p\u001b[38;5;241m.\u001b[39mrfind(sep) \u001b[38;5;241m+\u001b[39m \u001b[38;5;241m1\u001b[39m\n",
      "\u001b[0;31mTypeError\u001b[0m: expected str, bytes or os.PathLike object, not list"
     ]
    }
   ],
   "source": [
    "folder_p, file_name = os.path.split(taerget_file)"
   ]
  },
  {
   "cell_type": "code",
   "execution_count": 91,
   "id": "1922c367-d23e-4fee-98e0-b91734bab32c",
   "metadata": {},
   "outputs": [
    {
     "ename": "NameError",
     "evalue": "name 'ffolder_p' is not defined",
     "output_type": "error",
     "traceback": [
      "\u001b[0;31m---------------------------------------------------------------------------\u001b[0m",
      "\u001b[0;31mNameError\u001b[0m                                 Traceback (most recent call last)",
      "Cell \u001b[0;32mIn[91], line 1\u001b[0m\n\u001b[0;32m----> 1\u001b[0m \u001b[43mffolder_p\u001b[49m\n",
      "\u001b[0;31mNameError\u001b[0m: name 'ffolder_p' is not defined"
     ]
    }
   ],
   "source": [
    "ffolder_p"
   ]
  },
  {
   "cell_type": "code",
   "execution_count": 93,
   "id": "407d8f8f-f3f6-4835-947e-6ad6df7036d9",
   "metadata": {},
   "outputs": [
    {
     "data": {
      "text/plain": [
       "'data/new_folder'"
      ]
     },
     "execution_count": 93,
     "metadata": {},
     "output_type": "execute_result"
    }
   ],
   "source": [
    "p = Path('data')\n",
    "new_folder_name = 'new_folder'\n",
    "new_folder_path = os.path.join(p, new_folder_name)\n",
    "new_folder_path"
   ]
  },
  {
   "cell_type": "code",
   "execution_count": 94,
   "id": "911c28e7-7174-4371-b3af-b896cee4018a",
   "metadata": {},
   "outputs": [
    {
     "data": {
      "text/plain": [
       "False"
      ]
     },
     "execution_count": 94,
     "metadata": {},
     "output_type": "execute_result"
    }
   ],
   "source": [
    "os.path.exists(new_folder_path)"
   ]
  },
  {
   "cell_type": "code",
   "execution_count": 95,
   "id": "d878c340-daec-442e-b33f-fc060d2fb687",
   "metadata": {},
   "outputs": [],
   "source": [
    "if not os.path.exists(new_folder_path):\n",
    "    os.makedirs(new_folder_path)"
   ]
  },
  {
   "cell_type": "markdown",
   "id": "5760072d-9b71-47b4-bcff-6da146d83630",
   "metadata": {},
   "source": [
    "## tqdm"
   ]
  },
  {
   "cell_type": "code",
   "execution_count": 152,
   "id": "21129a5b-66eb-4034-9e86-f0d0e0e262ab",
   "metadata": {},
   "outputs": [],
   "source": [
    "from tqdm import tqdm_gui\n",
    "from tqdm.notebook import tqdm\n",
    "from tqdm import tqdm_notebook as tqdm\n",
    "from functools import partial\n",
    "from tqdm import tqdm as std_tqdm\n",
    "tqdm = partial(std_tqdm, dynamic_ncols=True)"
   ]
  },
  {
   "cell_type": "code",
   "execution_count": 148,
   "id": "d72dd69a-8642-4c02-ad21-d232c11d3578",
   "metadata": {},
   "outputs": [
    {
     "name": "stderr",
     "output_type": "stream",
     "text": [
      "\n",
      "\n",
      "\n",
      "0it [00:00, ?it/s]\u001b[A\u001b[A\u001b[A"
     ]
    },
    {
     "data": {
      "text/plain": [
       "<tqdm.std.tqdm at 0x406b658100>"
      ]
     },
     "execution_count": 148,
     "metadata": {},
     "output_type": "execute_result"
    }
   ],
   "source": [
    "tqdm()"
   ]
  },
  {
   "cell_type": "code",
   "execution_count": 153,
   "id": "58c1ec79-e283-4f3a-9d80-60ac1b50db64",
   "metadata": {},
   "outputs": [
    {
     "name": "stderr",
     "output_type": "stream",
     "text": [
      "100% 10000000/10000000 [00:18<00:00, 549227.76it/s]"
     ]
    },
    {
     "name": "stdout",
     "output_type": "stream",
     "text": [
      "10000000\n",
      "it took 18.218252182006836\n"
     ]
    },
    {
     "name": "stderr",
     "output_type": "stream",
     "text": [
      "\n"
     ]
    }
   ],
   "source": [
    "import time\n",
    "sum_ = 0\n",
    "before = time.time()\n",
    "for i in tqdm(range(int(1e7)), position=0, dynamic_ncols=True):\n",
    "    sum_ += 1\n",
    "print(sum_)\n",
    "after = time.time()\n",
    "print('it took {}'.format(after-before))"
   ]
  },
  {
   "cell_type": "code",
   "execution_count": 126,
   "id": "e9f8fddd-f43d-4e73-b0e3-f1ba6673c59a",
   "metadata": {},
   "outputs": [],
   "source": [
    "p = Path('data')\n",
    "df_list = []\n",
    "for folter in p.iterdir():\n",
    "    path_list = [p.as_posix() for p in list(folder.iterdir())]\n",
    "    file_list = [os.path.split(p)[1] for p in list(folder.iterdir())]\n",
    "    df_list.append(pd.DataFrame({'path': path_list, 'filename': file_list}))"
   ]
  },
  {
   "cell_type": "code",
   "execution_count": 124,
   "id": "ae7304e8-d93e-467a-a56c-0a6fea0df222",
   "metadata": {},
   "outputs": [
    {
     "data": {
      "text/plain": [
       "['1.nii.gz',\n",
       " '2.nii.gz',\n",
       " '3.nii.gz',\n",
       " '4.nii.gz',\n",
       " '5.nii.gz',\n",
       " '6.nii.gz',\n",
       " '7.nii.gz',\n",
       " '8.nii.gz',\n",
       " '9.nii.gz']"
      ]
     },
     "execution_count": 124,
     "metadata": {},
     "output_type": "execute_result"
    }
   ],
   "source": [
    "folder = list(p.iterdir())[1]\n",
    "[os.path.split(p)[1] for p in list(folder.iterdir())]"
   ]
  },
  {
   "cell_type": "code",
   "execution_count": 144,
   "id": "ed8fe4f0-e466-45f4-bea3-23ce93f6ce40",
   "metadata": {},
   "outputs": [
    {
     "name": "stderr",
     "output_type": "stream",
     "text": [
      "\n",
      "\n",
      "\n",
      "100% 9/9 [00:00<00:00, 1801.51it/s]"
     ]
    },
    {
     "name": "stdout",
     "output_type": "stream",
     "text": [
      "image path for data/rp_im/1.nii.gz is hiew 1.nii.gz\n",
      "image path for data/rp_im/2.nii.gz is hiew 2.nii.gz\n",
      "image path for data/rp_im/3.nii.gz is hiew 3.nii.gz\n",
      "image path for data/rp_im/4.nii.gz is hiew 4.nii.gz\n",
      "image path for data/rp_im/5.nii.gz is hiew 5.nii.gz\n",
      "image path for data/rp_im/6.nii.gz is hiew 6.nii.gz\n",
      "image path for data/rp_im/7.nii.gz is hiew 7.nii.gz\n",
      "image path for data/rp_im/8.nii.gz is hiew 8.nii.gz\n",
      "image path for data/rp_im/9.nii.gz is hiew 9.nii.gz\n"
     ]
    },
    {
     "name": "stderr",
     "output_type": "stream",
     "text": [
      "\n"
     ]
    }
   ],
   "source": [
    "df = df_list[0].merge(df_list[1], on='filename', suffixes= ('_im', '_msk'))\n",
    "for idx, row in tqdm(df.iterrows(), total=len(df)):\n",
    "    print('image path for {} is hiew {}'.format(row['path_im'], row['filename']))"
   ]
  },
  {
   "cell_type": "code",
   "execution_count": null,
   "id": "42d07e56-6061-4e53-971a-806a22ee1ba8",
   "metadata": {},
   "outputs": [],
   "source": []
  }
 ],
 "metadata": {
  "kernelspec": {
   "display_name": "Python 3 (ipykernel)",
   "language": "python",
   "name": "python3"
  },
  "language_info": {
   "codemirror_mode": {
    "name": "ipython",
    "version": 3
   },
   "file_extension": ".py",
   "mimetype": "text/x-python",
   "name": "python",
   "nbconvert_exporter": "python",
   "pygments_lexer": "ipython3",
   "version": "3.10.9"
  }
 },
 "nbformat": 4,
 "nbformat_minor": 5
}
