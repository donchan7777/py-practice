{
 "cells": [
  {
   "cell_type": "markdown",
   "id": "78afc8a3-1eb6-463b-858f-df7940e202b4",
   "metadata": {},
   "source": [
    "# slicing"
   ]
  },
  {
   "cell_type": "code",
   "execution_count": 1,
   "id": "96a982bd-68a1-42b0-b99c-693b9fc0c92f",
   "metadata": {},
   "outputs": [],
   "source": [
    "even = [2, 4, 6, 8, 10, 12]"
   ]
  },
  {
   "cell_type": "code",
   "execution_count": 2,
   "id": "d7042c27-d014-4bcf-90b6-2ff1606910ef",
   "metadata": {},
   "outputs": [
    {
     "name": "stdout",
     "output_type": "stream",
     "text": [
      "[4, 6, 8]\n"
     ]
    }
   ],
   "source": [
    "print(even[1:4])"
   ]
  },
  {
   "cell_type": "code",
   "execution_count": 4,
   "id": "663b7cfe-d06e-42ba-b92f-7a93a89f6d6e",
   "metadata": {},
   "outputs": [
    {
     "name": "stdout",
     "output_type": "stream",
     "text": [
      "[2, 4, 6, 8]\n"
     ]
    }
   ],
   "source": [
    "print(even[:4])"
   ]
  },
  {
   "cell_type": "code",
   "execution_count": 6,
   "id": "c8b9ee19-66e9-462a-9969-d4959110a141",
   "metadata": {},
   "outputs": [
    {
     "name": "stdout",
     "output_type": "stream",
     "text": [
      "[12, 10, 8, 6, 4, 2]\n"
     ]
    }
   ],
   "source": [
    "print(even[::-1])"
   ]
  },
  {
   "cell_type": "code",
   "execution_count": null,
   "id": "bf94227f-cadb-4389-b50a-78d378996aa2",
   "metadata": {},
   "outputs": [],
   "source": []
  },
  {
   "cell_type": "code",
   "execution_count": null,
   "id": "28b48f3e-f713-4219-a7d0-00133e7cd6d5",
   "metadata": {},
   "outputs": [],
   "source": []
  }
 ],
 "metadata": {
  "kernelspec": {
   "display_name": "Python 3 (ipykernel)",
   "language": "python",
   "name": "python3"
  },
  "language_info": {
   "codemirror_mode": {
    "name": "ipython",
    "version": 3
   },
   "file_extension": ".py",
   "mimetype": "text/x-python",
   "name": "python",
   "nbconvert_exporter": "python",
   "pygments_lexer": "ipython3",
   "version": "3.9.13"
  }
 },
 "nbformat": 4,
 "nbformat_minor": 5
}
