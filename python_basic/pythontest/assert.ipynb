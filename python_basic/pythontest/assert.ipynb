{
 "cells": [
  {
   "cell_type": "code",
   "execution_count": 6,
   "id": "9edc871e-5189-4db3-93e7-f2fb602d4e2f",
   "metadata": {},
   "outputs": [],
   "source": [
    "a = 1\n",
    "b = 1\n",
    "\n",
    "\n",
    "assert a + b == 2, \"a + b is equal to 2\""
   ]
  },
  {
   "cell_type": "code",
   "execution_count": 9,
   "id": "273c207d-3362-435b-a358-09a171a762b0",
   "metadata": {},
   "outputs": [],
   "source": [
    "def power(base, exp):\n",
    "    return base ** exp\n",
    "\n",
    "\n",
    "assert power(3, 2) == 9, \"3 ** 2 must be 9\""
   ]
  },
  {
   "cell_type": "code",
   "execution_count": null,
   "id": "3d379d45-a086-4222-bf8f-7c255987e49d",
   "metadata": {},
   "outputs": [],
   "source": []
  }
 ],
 "metadata": {
  "kernelspec": {
   "display_name": "Python 3 (ipykernel)",
   "language": "python",
   "name": "python3"
  },
  "language_info": {
   "codemirror_mode": {
    "name": "ipython",
    "version": 3
   },
   "file_extension": ".py",
   "mimetype": "text/x-python",
   "name": "python",
   "nbconvert_exporter": "python",
   "pygments_lexer": "ipython3",
   "version": "3.9.13"
  }
 },
 "nbformat": 4,
 "nbformat_minor": 5
}
