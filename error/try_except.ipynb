{
 "cells": [
  {
   "cell_type": "code",
   "execution_count": 13,
   "id": "478028ce-ab18-4b2e-947b-e3a2a4c6bfe8",
   "metadata": {},
   "outputs": [
    {
     "name": "stdin",
     "output_type": "stream",
     "text": [
      "何人で割り勘しますか 0\n"
     ]
    },
    {
     "name": "stdout",
     "output_type": "stream",
     "text": [
      "エラーが発生しました。\n",
      "division by zero\n",
      "Thanks\n"
     ]
    }
   ],
   "source": [
    "def split_bill(price):\n",
    "    num = input(\"何人で割り勘しますか\")\n",
    "    try:\n",
    "        each = price /int(num)\n",
    "    except ZeroDivisionError as e:\n",
    "        print(\"エラーが発生しました。\")\n",
    "        each = price\n",
    "        print(e)\n",
    "    except ValueError:\n",
    "        print(\"数字を入力してください\")\n",
    "        each = price\n",
    "    else: \n",
    "        print(f\"一人{each}です。\")\n",
    "    finally:\n",
    "        print(\"Thanks\")\n",
    "\n",
    "\n",
    "\n",
    "if __name__ == \"__main__\":\n",
    "    split_bill(10000)\n",
    "    "
   ]
  },
  {
   "cell_type": "code",
   "execution_count": null,
   "id": "69c0f341-a64f-4ed8-98aa-2ddc6463f8eb",
   "metadata": {},
   "outputs": [],
   "source": []
  }
 ],
 "metadata": {
  "kernelspec": {
   "display_name": "Python 3 (ipykernel)",
   "language": "python",
   "name": "python3"
  },
  "language_info": {
   "codemirror_mode": {
    "name": "ipython",
    "version": 3
   },
   "file_extension": ".py",
   "mimetype": "text/x-python",
   "name": "python",
   "nbconvert_exporter": "python",
   "pygments_lexer": "ipython3",
   "version": "3.9.13"
  }
 },
 "nbformat": 4,
 "nbformat_minor": 5
}
