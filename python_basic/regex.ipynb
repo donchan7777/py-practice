{
 "cells": [
  {
   "cell_type": "markdown",
   "id": "1b00b155-96e4-42ed-9baf-6b262156d054",
   "metadata": {},
   "source": [
    "## regex"
   ]
  },
  {
   "cell_type": "code",
   "execution_count": 1,
   "id": "90bf50f9-ef00-4d04-ac05-0102b9a1bd0a",
   "metadata": {},
   "outputs": [],
   "source": [
    "import re"
   ]
  },
  {
   "cell_type": "code",
   "execution_count": 11,
   "id": "65076bd2-964f-472b-9f10-67bf6e0541a0",
   "metadata": {},
   "outputs": [
    {
     "name": "stdout",
     "output_type": "stream",
     "text": [
      "True\n"
     ]
    }
   ],
   "source": [
    "email = \"mymail@gmail.com\"\n",
    "print(\"@\" in email)"
   ]
  },
  {
   "cell_type": "code",
   "execution_count": 12,
   "id": "ea3b4719-2df1-469b-bde7-e7ea22bce71d",
   "metadata": {},
   "outputs": [
    {
     "name": "stdout",
     "output_type": "stream",
     "text": [
      "<re.Match object; span=(6, 13), match='@gmail.'>\n"
     ]
    }
   ],
   "source": [
    "matched = re.search(\"@\\w+\\.\", email)\n",
    "print(matched)"
   ]
  },
  {
   "cell_type": "code",
   "execution_count": 15,
   "id": "706f513a-3c7c-4aa1-959f-5d340f61b472",
   "metadata": {},
   "outputs": [
    {
     "name": "stdout",
     "output_type": "stream",
     "text": [
      "<re.Match object; span=(0, 1), match='a'>\n"
     ]
    }
   ],
   "source": [
    "print(re.search(\"[abc]\", \"apple\"))"
   ]
  },
  {
   "cell_type": "code",
   "execution_count": 17,
   "id": "9ac8a749-a27b-46f0-8e59-ef375cd0af85",
   "metadata": {},
   "outputs": [
    {
     "name": "stdout",
     "output_type": "stream",
     "text": [
      "None\n"
     ]
    }
   ],
   "source": [
    "print(re.search(\"^[0-9]{4}\", \"21/3/31\"))"
   ]
  },
  {
   "cell_type": "code",
   "execution_count": 21,
   "id": "95189138-14a6-4067-b21f-72f9d71b6a3c",
   "metadata": {},
   "outputs": [
    {
     "name": "stdout",
     "output_type": "stream",
     "text": [
      "<re.Match object; span=(7, 9), match='10'>\n"
     ]
    }
   ],
   "source": [
    "print(re.search(\"[0-9]{2}$\", \"2021/2/10\"))"
   ]
  },
  {
   "cell_type": "code",
   "execution_count": 5,
   "id": "da4482a6-6d0c-464f-a030-6a46a257f9e5",
   "metadata": {},
   "outputs": [
    {
     "name": "stdin",
     "output_type": "stream",
     "text": [
      "birth(yyyy/mm/dd) 1800/11/11\n"
     ]
    },
    {
     "name": "stdout",
     "output_type": "stream",
     "text": [
      "1800/11/11 NG\n"
     ]
    },
    {
     "name": "stdin",
     "output_type": "stream",
     "text": [
      "birth(yyyy/mm/dd) 1900/11/11\n"
     ]
    },
    {
     "name": "stdout",
     "output_type": "stream",
     "text": [
      "1900/11/11 OK\n"
     ]
    }
   ],
   "source": [
    "pattern_dob = \"^(19|20)[0-9]{2}/([1-9]|1[0-2])/([1-9]|1[0-9]|2[0-9]|3[0-1])$\"\n",
    "\n",
    "while True:\n",
    "    dob = input(\"birth(yyyy/mm/dd)\")\n",
    "    result = re.search(pattern_dob , dob)\n",
    "    if result:\n",
    "        print(f\"{dob} OK\")\n",
    "        break\n",
    "    else:\n",
    "        print(f\"{dob} NG\")"
   ]
  },
  {
   "cell_type": "code",
   "execution_count": 14,
   "id": "f7d03c1c-a434-4ac8-8cef-0f78e240c2e8",
   "metadata": {},
   "outputs": [
    {
     "name": "stdin",
     "output_type": "stream",
     "text": [
      "email address aaa@eafg.eeeeee\n"
     ]
    },
    {
     "name": "stdout",
     "output_type": "stream",
     "text": [
      "aaa@eafg.eeeeee ng\n"
     ]
    },
    {
     "name": "stdin",
     "output_type": "stream",
     "text": [
      "email address afe@gea.ea\n"
     ]
    },
    {
     "name": "stdout",
     "output_type": "stream",
     "text": [
      "afe@gea.ea ok\n"
     ]
    }
   ],
   "source": [
    "pattern_email = \"^(\\w|.|-)+@(\\w|.|-)+\\.[a-zA-Z]{2,3}$\"\n",
    "\n",
    "\n",
    "while True:\n",
    "    email = input(\"email address\")\n",
    "    result = re.search(pattern_email , email)\n",
    "    \n",
    "    if result:\n",
    "        print(f\"{email} ok\")\n",
    "        break\n",
    "    else:\n",
    "        print(f\"{email} ng\")\n",
    "\n",
    "\n",
    "\n",
    "\n"
   ]
  },
  {
   "cell_type": "code",
   "execution_count": null,
   "id": "ba820448-23ca-4c3b-9f15-19392cab4c14",
   "metadata": {},
   "outputs": [],
   "source": []
  }
 ],
 "metadata": {
  "kernelspec": {
   "display_name": "Python 3 (ipykernel)",
   "language": "python",
   "name": "python3"
  },
  "language_info": {
   "codemirror_mode": {
    "name": "ipython",
    "version": 3
   },
   "file_extension": ".py",
   "mimetype": "text/x-python",
   "name": "python",
   "nbconvert_exporter": "python",
   "pygments_lexer": "ipython3",
   "version": "3.9.13"
  }
 },
 "nbformat": 4,
 "nbformat_minor": 5
}
