{
 "cells": [
  {
   "cell_type": "code",
   "execution_count": 31,
   "id": "8289bd3c-d562-4f9c-821c-2be0de872713",
   "metadata": {},
   "outputs": [],
   "source": [
    "import time\n",
    "\n",
    "class Person:\n",
    "    \n",
    "    def __init__(self, name, age):\n",
    "        self.name = name\n",
    "        self.age = age\n",
    "        \n",
    "    @classmethod\n",
    "    def create_from_dob(cls, name, year, month, date):\n",
    "        today = time.localtime()\n",
    "        age = today.tm_year - year - ((today.tm_mon, today.tm_mday) < (month, date))\n",
    "        return cls(name=name, age=age)\n",
    "        \n",
    "        \n",
    "    @staticmethod\n",
    "    def create_from_dob2(name, year, month, date):\n",
    "        today = time.localtime()\n",
    "        age = today.tm_year - year - ((today.tm_mon, today.tm_mday) < (month, date))\n",
    "        return Person(name=name, age=age)   \n",
    "\n",
    "\n",
    "        \n",
    "john = Person(\"J\", 20)\n",
    "emma = Person.create_from_dob(\"Emma\", 1909, 4, 3)\n",
    "KK = Person.create_from_dob(\"KK\", 1919, 4, 3)\n",
    "\n"
   ]
  },
  {
   "cell_type": "code",
   "execution_count": 33,
   "id": "75815a3d-72fe-47bb-b7bd-11c8212f92d6",
   "metadata": {},
   "outputs": [
    {
     "name": "stdout",
     "output_type": "stream",
     "text": [
      "J\n",
      "Emma\n",
      "113\n",
      "KK\n",
      "103\n"
     ]
    }
   ],
   "source": [
    "print(john.name)\n",
    "print(emma.name)\n",
    "print(emma.age)\n",
    "print(KK.name)\n",
    "print(KK.age)"
   ]
  },
  {
   "cell_type": "code",
   "execution_count": null,
   "id": "2c7b0f11-04b1-4bfa-8675-c2803573700c",
   "metadata": {},
   "outputs": [],
   "source": []
  }
 ],
 "metadata": {
  "kernelspec": {
   "display_name": "Python 3 (ipykernel)",
   "language": "python",
   "name": "python3"
  },
  "language_info": {
   "codemirror_mode": {
    "name": "ipython",
    "version": 3
   },
   "file_extension": ".py",
   "mimetype": "text/x-python",
   "name": "python",
   "nbconvert_exporter": "python",
   "pygments_lexer": "ipython3",
   "version": "3.9.13"
  }
 },
 "nbformat": 4,
 "nbformat_minor": 5
}
