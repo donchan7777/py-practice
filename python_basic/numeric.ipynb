{
 "cells": [
  {
   "cell_type": "markdown",
   "id": "08c4e144-53aa-4b96-9758-c98f25f3e449",
   "metadata": {},
   "source": [
    "# 数値型(Numeric):integer,float,complex"
   ]
  },
  {
   "cell_type": "markdown",
   "id": "04c04a31-9a65-433d-a06d-05cf72fba94e",
   "metadata": {},
   "source": [
    "# int (integer,整数)"
   ]
  },
  {
   "cell_type": "code",
   "execution_count": 2,
   "id": "f6a55953-0ef1-4b95-9fdb-d81a3df1cc95",
   "metadata": {},
   "outputs": [
    {
     "name": "stdout",
     "output_type": "stream",
     "text": [
      "<class 'int'>\n"
     ]
    }
   ],
   "source": [
    "print(type(-2))"
   ]
  },
  {
   "cell_type": "markdown",
   "id": "4da48166-f57e-4645-a2ec-a1a7b9577d1f",
   "metadata": {
    "tags": []
   },
   "source": [
    "# float(浮動小数点)"
   ]
  },
  {
   "cell_type": "code",
   "execution_count": 3,
   "id": "cdab7a69-4b51-4664-bc98-b6d9ed23c7aa",
   "metadata": {},
   "outputs": [
    {
     "name": "stdout",
     "output_type": "stream",
     "text": [
      "<class 'float'>\n"
     ]
    }
   ],
   "source": [
    "print(type(0.1))"
   ]
  },
  {
   "cell_type": "markdown",
   "id": "85a61eae-2ed7-4833-b3e8-5e5d020b0e37",
   "metadata": {
    "tags": []
   },
   "source": [
    "# Numeric Operator(数値演算子)"
   ]
  },
  {
   "cell_type": "markdown",
   "id": "6d045853-5727-4fc1-aeb8-f2ad143ec794",
   "metadata": {},
   "source": [
    "# 四則演算"
   ]
  },
  {
   "cell_type": "code",
   "execution_count": 4,
   "id": "c9de5658-38a3-4e4f-bc84-9769a00ca17a",
   "metadata": {},
   "outputs": [
    {
     "name": "stdout",
     "output_type": "stream",
     "text": [
      "1.4\n"
     ]
    }
   ],
   "source": [
    "print(1 + 0.4)"
   ]
  },
  {
   "cell_type": "code",
   "execution_count": 5,
   "id": "420caaa6-037f-4b1b-aaa2-64eec76f60ed",
   "metadata": {},
   "outputs": [
    {
     "name": "stdout",
     "output_type": "stream",
     "text": [
      "0.6\n"
     ]
    }
   ],
   "source": [
    "print(1 - 0.4)"
   ]
  },
  {
   "cell_type": "code",
   "execution_count": 6,
   "id": "5ddcf508-ad11-4164-87e7-0975d690991f",
   "metadata": {},
   "outputs": [
    {
     "name": "stdout",
     "output_type": "stream",
     "text": [
      "6\n"
     ]
    }
   ],
   "source": [
    "print(2 * 3)"
   ]
  },
  {
   "cell_type": "code",
   "execution_count": 9,
   "id": "689ee823-040c-46b4-8421-d5202f0e9039",
   "metadata": {},
   "outputs": [
    {
     "name": "stdout",
     "output_type": "stream",
     "text": [
      "29.5\n"
     ]
    }
   ],
   "source": [
    "print(5*6 - 3/6)"
   ]
  },
  {
   "cell_type": "code",
   "execution_count": 10,
   "id": "3c312ac3-f781-4575-a084-7dd94847b6ee",
   "metadata": {},
   "outputs": [
    {
     "name": "stdout",
     "output_type": "stream",
     "text": [
      "2.0\n"
     ]
    }
   ],
   "source": [
    "result = 1 + 1.0\n",
    "print(result)"
   ]
  },
  {
   "cell_type": "code",
   "execution_count": 11,
   "id": "390651b4-c259-4ed4-a058-90a664629b9d",
   "metadata": {},
   "outputs": [
    {
     "name": "stdout",
     "output_type": "stream",
     "text": [
      "type of result:2.0 is <class 'float'>\n"
     ]
    }
   ],
   "source": [
    "print(f\"type of result:{result} is {type(result)}\")"
   ]
  },
  {
   "cell_type": "code",
   "execution_count": 13,
   "id": "4f415c74-31a5-4451-9343-3aed1fdd0426",
   "metadata": {},
   "outputs": [
    {
     "name": "stdout",
     "output_type": "stream",
     "text": [
      "4\n"
     ]
    }
   ],
   "source": [
    "print(14 // 3)"
   ]
  },
  {
   "cell_type": "markdown",
   "id": "0794ddbc-3742-4c0b-bf10-b582fa62dcf5",
   "metadata": {},
   "source": [
    "# 余剰"
   ]
  },
  {
   "cell_type": "code",
   "execution_count": 14,
   "id": "c7e737da-7186-4f26-abee-6ed2bf1ee84b",
   "metadata": {},
   "outputs": [
    {
     "name": "stdout",
     "output_type": "stream",
     "text": [
      "2\n"
     ]
    }
   ],
   "source": [
    "print(14 % 3)"
   ]
  },
  {
   "cell_type": "markdown",
   "id": "884c8ff9-02cd-4061-a50a-4cfd2041dccb",
   "metadata": {},
   "source": [
    "# 累乗"
   ]
  },
  {
   "cell_type": "code",
   "execution_count": 15,
   "id": "844bb8d0-e0fd-4dbb-9e84-3d0c56e926d0",
   "metadata": {},
   "outputs": [
    {
     "name": "stdout",
     "output_type": "stream",
     "text": [
      "8\n"
     ]
    }
   ],
   "source": [
    "print(2 ** 3)"
   ]
  },
  {
   "cell_type": "code",
   "execution_count": 16,
   "id": "10682698-66eb-4645-95a8-bdca4233c5bc",
   "metadata": {},
   "outputs": [
    {
     "name": "stdout",
     "output_type": "stream",
     "text": [
      "remain hit point is 59.7\n"
     ]
    }
   ],
   "source": [
    "hit_point = 100\n",
    "attack_point = 40.3\n",
    "remain = hit_point - attack_point\n",
    "print(f\"remain hit point is {remain}\")"
   ]
  },
  {
   "cell_type": "markdown",
   "id": "eccaa1b9-1949-47ce-8d7a-09b08a8c98dc",
   "metadata": {},
   "source": [
    "# augmented assignment"
   ]
  },
  {
   "cell_type": "code",
   "execution_count": 23,
   "id": "db8c663d-e769-4010-8dbf-d8e49f2e967d",
   "metadata": {},
   "outputs": [
    {
     "name": "stdout",
     "output_type": "stream",
     "text": [
      "2\n"
     ]
    }
   ],
   "source": [
    "a = 1\n",
    "a += 1\n",
    "print(a)"
   ]
  },
  {
   "cell_type": "code",
   "execution_count": null,
   "id": "82c8af7c-7703-438b-890f-c50ee35c3f4a",
   "metadata": {},
   "outputs": [],
   "source": []
  }
 ],
 "metadata": {
  "kernelspec": {
   "display_name": "Python 3 (ipykernel)",
   "language": "python",
   "name": "python3"
  },
  "language_info": {
   "codemirror_mode": {
    "name": "ipython",
    "version": 3
   },
   "file_extension": ".py",
   "mimetype": "text/x-python",
   "name": "python",
   "nbconvert_exporter": "python",
   "pygments_lexer": "ipython3",
   "version": "3.9.13"
  }
 },
 "nbformat": 4,
 "nbformat_minor": 5
}
