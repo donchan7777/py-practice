{
 "cells": [
  {
   "cell_type": "markdown",
   "id": "48333ce2-dfba-475a-82b5-6d581e1ebb0c",
   "metadata": {},
   "source": [
    "# byref"
   ]
  },
  {
   "cell_type": "code",
   "execution_count": 4,
   "id": "f8155858-71dd-4c96-be03-67b4ed47d8f7",
   "metadata": {},
   "outputs": [
    {
     "name": "stdout",
     "output_type": "stream",
     "text": [
      "one id:281472922941744\n",
      "two id:281472922941776\n",
      "a id:281472922941744\n",
      "b id:281472922941776\n",
      "3\n"
     ]
    }
   ],
   "source": [
    "def add_num(a, b):\n",
    "    print(f\"a id:{id(a)}\")\n",
    "    print(f\"b id:{id(b)}\")\n",
    "    return a + b\n",
    "\n",
    "\n",
    "one = 1\n",
    "two = 2\n",
    "print(f\"one id:{id(one)}\")\n",
    "print(f\"two id:{id(two)}\")\n",
    "\n",
    "print(add_num(one, two))\n",
    "    "
   ]
  },
  {
   "cell_type": "code",
   "execution_count": 7,
   "id": "dc094066-0caa-4fed-a464-2762e0b5b4bd",
   "metadata": {},
   "outputs": [
    {
     "name": "stdout",
     "output_type": "stream",
     "text": [
      "281472922941744\n",
      "before2 id:281472922941744\n",
      "before1 id:281472922941744\n",
      "after1 id:281472922941776\n",
      "after2 id:281472922941744\n"
     ]
    }
   ],
   "source": [
    "def add_one(num):\n",
    "    print(f\"before1 id:{id(num)}\")\n",
    "    num += 1\n",
    "    print(f\"after1 id:{id(num)}\")\n",
    "\n",
    "one = 1\n",
    "print(id(one))\n",
    "print(f\"before2 id:{id(one)}\")\n",
    "add_one(one)\n",
    "print(f\"after2 id:{id(one)}\")\n",
    "\n",
    "\n",
    "\n",
    "    "
   ]
  },
  {
   "cell_type": "code",
   "execution_count": 11,
   "id": "097fe4e5-3da1-41a5-b193-3ce4e3f15f90",
   "metadata": {},
   "outputs": [
    {
     "name": "stdout",
     "output_type": "stream",
     "text": [
      "before2 :['apple', 'bannana', 'peach']\n",
      "before1 id:281472566260480\n",
      "after1 id:281472566260480\n",
      "after2 id:['apple', 'bannana', 'peach', 'lemon']\n"
     ]
    }
   ],
   "source": [
    "def add_fruit(fruits, fruit):\n",
    "    print(f\"before1 id:{id(fruits)}\")\n",
    "    fruits.append(fruit)\n",
    "    print(f\"after1 id:{id(fruits)}\")\n",
    "    return fruits\n",
    "\n",
    "myfruits = [\"apple\", \"bannana\", \"peach\"]\n",
    "myfruit = \"lemon\"\n",
    "print(f\"before2 :{myfruits}\")\n",
    "add_fruit(myfruits, myfruit)\n",
    "print(f\"after2 id:{myfruits}\")\n",
    "\n",
    "\n",
    "    "
   ]
  },
  {
   "cell_type": "code",
   "execution_count": null,
   "id": "1863b067-8943-47e9-ae53-18cb48c13982",
   "metadata": {},
   "outputs": [],
   "source": []
  },
  {
   "cell_type": "code",
   "execution_count": null,
   "id": "fd9f0be9-cd9e-4187-acf5-28146dbd650f",
   "metadata": {},
   "outputs": [],
   "source": []
  },
  {
   "cell_type": "code",
   "execution_count": null,
   "id": "813a394f-a541-44ab-be85-7bd791261274",
   "metadata": {},
   "outputs": [],
   "source": []
  },
  {
   "cell_type": "code",
   "execution_count": null,
   "id": "7cf3d6c2-9998-490c-9680-2501dd34240d",
   "metadata": {},
   "outputs": [],
   "source": []
  },
  {
   "cell_type": "code",
   "execution_count": null,
   "id": "0be354c3-9d43-46cd-acac-18ec69dd9542",
   "metadata": {},
   "outputs": [],
   "source": []
  },
  {
   "cell_type": "code",
   "execution_count": null,
   "id": "bbb7458c-927c-4303-bc3d-a1ccc7b62ecc",
   "metadata": {},
   "outputs": [],
   "source": []
  }
 ],
 "metadata": {
  "kernelspec": {
   "display_name": "Python 3 (ipykernel)",
   "language": "python",
   "name": "python3"
  },
  "language_info": {
   "codemirror_mode": {
    "name": "ipython",
    "version": 3
   },
   "file_extension": ".py",
   "mimetype": "text/x-python",
   "name": "python",
   "nbconvert_exporter": "python",
   "pygments_lexer": "ipython3",
   "version": "3.9.13"
  }
 },
 "nbformat": 4,
 "nbformat_minor": 5
}
