{
 "cells": [
  {
   "cell_type": "markdown",
   "id": "2b6187fe-4c02-42bd-8280-66289a48521b",
   "metadata": {},
   "source": [
    "## decorator"
   ]
  },
  {
   "cell_type": "code",
   "execution_count": 9,
   "id": "7235ff2e-d74f-4046-b849-c12b36b03f31",
   "metadata": {},
   "outputs": [
    {
     "name": "stdout",
     "output_type": "stream",
     "text": [
      "Hello\n",
      "Im Jiro\n",
      "Nice to me too\n",
      "Im Jiro\n",
      "Hello\n",
      "Im Taro, Im from Tokyo\n",
      "Nice to me too\n"
     ]
    }
   ],
   "source": [
    "def greeting(func):\n",
    "    def inner(*args, **kwargs):\n",
    "        print(\"Hello\")\n",
    "        func(*args, **kwargs)\n",
    "        print(\"Nice to me too\")\n",
    "    return inner\n",
    "\n",
    "def say_name(name):\n",
    "    print(f\"Im {name}\")\n",
    "    \n",
    "\n",
    "f = greeting(say_name)\n",
    "f(\"Jiro\")\n",
    "\n",
    "\n",
    "\n",
    "@greeting\n",
    "def say_name_and_origin(name,origin):\n",
    "    print(f\"Im {name}, Im from {origin}\")\n",
    "    \n",
    "    \n",
    "say_name(\"Jiro\")\n",
    "say_name_and_origin(\"Taro\", \"Tokyo\")\n",
    "         \n",
    "    \n",
    "    \n",
    "    \n",
    "    "
   ]
  },
  {
   "cell_type": "code",
   "execution_count": null,
   "id": "b0490bc2-f1c6-48d1-a1d9-1656a31fe944",
   "metadata": {},
   "outputs": [],
   "source": []
  }
 ],
 "metadata": {
  "kernelspec": {
   "display_name": "Python 3 (ipykernel)",
   "language": "python",
   "name": "python3"
  },
  "language_info": {
   "codemirror_mode": {
    "name": "ipython",
    "version": 3
   },
   "file_extension": ".py",
   "mimetype": "text/x-python",
   "name": "python",
   "nbconvert_exporter": "python",
   "pygments_lexer": "ipython3",
   "version": "3.9.13"
  }
 },
 "nbformat": 4,
 "nbformat_minor": 5
}
