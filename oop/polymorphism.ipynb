{
 "cells": [
  {
   "cell_type": "code",
   "execution_count": 3,
   "id": "af322281-31cc-4eb5-8402-de13510fa2a5",
   "metadata": {},
   "outputs": [
    {
     "name": "stdout",
     "output_type": "stream",
     "text": [
      "MyClass __str__\n"
     ]
    }
   ],
   "source": [
    "class Myclass:\n",
    "    def __str__(self):\n",
    "        return \"MyClass __str__\"\n",
    "\n",
    "mc = Myclass()\n",
    "print(mc)"
   ]
  },
  {
   "cell_type": "code",
   "execution_count": null,
   "id": "c9a67442-629f-477e-8a6a-ffdb394f7247",
   "metadata": {},
   "outputs": [],
   "source": []
  }
 ],
 "metadata": {
  "kernelspec": {
   "display_name": "Python 3 (ipykernel)",
   "language": "python",
   "name": "python3"
  },
  "language_info": {
   "codemirror_mode": {
    "name": "ipython",
    "version": 3
   },
   "file_extension": ".py",
   "mimetype": "text/x-python",
   "name": "python",
   "nbconvert_exporter": "python",
   "pygments_lexer": "ipython3",
   "version": "3.9.13"
  }
 },
 "nbformat": 4,
 "nbformat_minor": 5
}
