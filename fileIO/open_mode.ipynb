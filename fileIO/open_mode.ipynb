{
 "cells": [
  {
   "cell_type": "code",
   "execution_count": 8,
   "id": "88560eb3-2fcd-4dbf-9ea1-c40d82b80a1a",
   "metadata": {},
   "outputs": [
    {
     "name": "stdout",
     "output_type": "stream",
     "text": [
      "mode bmode cmode dmode bmode cmode d\n"
     ]
    }
   ],
   "source": [
    "with open(\"writing_file.txt\", mode=\"r+\") as f:\n",
    "    f.write(\"mode b\")\n",
    "    f.write(\"mode c\")\n",
    "    f.write(\"mode d\")\n",
    "    print(f.read())"
   ]
  },
  {
   "cell_type": "code",
   "execution_count": 14,
   "id": "67f381eb-16a5-4ab6-9da8-45860e928c92",
   "metadata": {},
   "outputs": [
    {
     "name": "stdout",
     "output_type": "stream",
     "text": [
      "\n",
      "you cam write and read\n"
     ]
    }
   ],
   "source": [
    "with open(\"writing_file.txt\", mode=\"w+\") as f:\n",
    "    print(f.read())\n",
    "    f.write(\"you cam write and read\")\n",
    "    f.seek(0)\n",
    "    print(f.read())\n",
    "   "
   ]
  },
  {
   "cell_type": "code",
   "execution_count": null,
   "id": "b123d30a-3452-4e62-a724-90a1fb5d18bd",
   "metadata": {},
   "outputs": [],
   "source": []
  }
 ],
 "metadata": {
  "kernelspec": {
   "display_name": "Python 3 (ipykernel)",
   "language": "python",
   "name": "python3"
  },
  "language_info": {
   "codemirror_mode": {
    "name": "ipython",
    "version": 3
   },
   "file_extension": ".py",
   "mimetype": "text/x-python",
   "name": "python",
   "nbconvert_exporter": "python",
   "pygments_lexer": "ipython3",
   "version": "3.9.13"
  }
 },
 "nbformat": 4,
 "nbformat_minor": 5
}
