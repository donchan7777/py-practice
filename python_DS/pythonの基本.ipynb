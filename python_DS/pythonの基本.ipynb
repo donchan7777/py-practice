{
 "cells": [
  {
   "cell_type": "markdown",
   "id": "4a5afdcd-1206-4b45-ab55-a39a2b9dfd67",
   "metadata": {},
   "source": [
    "## Numbers"
   ]
  },
  {
   "cell_type": "code",
   "execution_count": 4,
   "id": "a6c45a8a-2e4f-4edc-90e4-cac7f0c2f08f",
   "metadata": {},
   "outputs": [
    {
     "data": {
      "text/plain": [
       "int"
      ]
     },
     "execution_count": 4,
     "metadata": {},
     "output_type": "execute_result"
    }
   ],
   "source": [
    "type(3)"
   ]
  },
  {
   "cell_type": "code",
   "execution_count": 6,
   "id": "1663c2c6-3d1c-4ca4-9e7e-019c3f721a8a",
   "metadata": {},
   "outputs": [
    {
     "data": {
      "text/plain": [
       "float"
      ]
     },
     "execution_count": 6,
     "metadata": {},
     "output_type": "execute_result"
    }
   ],
   "source": [
    "type(1.0)"
   ]
  },
  {
   "cell_type": "code",
   "execution_count": 7,
   "id": "9587ecc9-a03e-4e3e-ba0e-70725ef69331",
   "metadata": {},
   "outputs": [
    {
     "data": {
      "text/plain": [
       "complex"
      ]
     },
     "execution_count": 7,
     "metadata": {},
     "output_type": "execute_result"
    }
   ],
   "source": [
    "type(3.14j)"
   ]
  },
  {
   "cell_type": "code",
   "execution_count": 8,
   "id": "2c03b375-3256-4fef-8b78-44cc667690a9",
   "metadata": {},
   "outputs": [
    {
     "data": {
      "text/plain": [
       "int"
      ]
     },
     "execution_count": 8,
     "metadata": {},
     "output_type": "execute_result"
    }
   ],
   "source": [
    "type(1 + 1)"
   ]
  },
  {
   "cell_type": "code",
   "execution_count": 9,
   "id": "aec981b2-2f86-42fa-8252-e5c8065197db",
   "metadata": {},
   "outputs": [
    {
     "data": {
      "text/plain": [
       "float"
      ]
     },
     "execution_count": 9,
     "metadata": {},
     "output_type": "execute_result"
    }
   ],
   "source": [
    "type(1.0 + 1)"
   ]
  },
  {
   "cell_type": "code",
   "execution_count": 10,
   "id": "4d7d398d-7874-4475-81eb-95a9d1ca37f3",
   "metadata": {},
   "outputs": [
    {
     "data": {
      "text/plain": [
       "True"
      ]
     },
     "execution_count": 10,
     "metadata": {},
     "output_type": "execute_result"
    }
   ],
   "source": [
    "1 == 1.0"
   ]
  },
  {
   "cell_type": "code",
   "execution_count": 11,
   "id": "16a2baa8-114e-45e7-a71a-0e68d9e0ea4d",
   "metadata": {},
   "outputs": [
    {
     "data": {
      "text/plain": [
       "0.001"
      ]
     },
     "execution_count": 11,
     "metadata": {},
     "output_type": "execute_result"
    }
   ],
   "source": [
    "1e-3"
   ]
  },
  {
   "cell_type": "markdown",
   "id": "3f7841d1-e91b-49a0-92d0-65f950924871",
   "metadata": {},
   "source": [
    "## Strings"
   ]
  },
  {
   "cell_type": "code",
   "execution_count": 12,
   "id": "370b0e08-bb7b-4246-9f11-802f1f82ce5f",
   "metadata": {},
   "outputs": [
    {
     "data": {
      "text/plain": [
       "'\\nmultiple\\nline\\n'"
      ]
     },
     "execution_count": 12,
     "metadata": {},
     "output_type": "execute_result"
    }
   ],
   "source": [
    "'''\n",
    "multiple\n",
    "line\n",
    "'''"
   ]
  },
  {
   "cell_type": "code",
   "execution_count": 16,
   "id": "0d0b3eb4-3c59-413e-993d-798d2ac83acf",
   "metadata": {},
   "outputs": [
    {
     "data": {
      "text/plain": [
       "'he'"
      ]
     },
     "execution_count": 16,
     "metadata": {},
     "output_type": "execute_result"
    }
   ],
   "source": [
    "'hello'[:2]"
   ]
  },
  {
   "cell_type": "code",
   "execution_count": 17,
   "id": "6485565f-a38e-4b07-87aa-9e88861832fa",
   "metadata": {},
   "outputs": [
    {
     "data": {
      "text/plain": [
       "'hellow world'"
      ]
     },
     "execution_count": 17,
     "metadata": {},
     "output_type": "execute_result"
    }
   ],
   "source": [
    "\"hellow {}\".format(\"world\")"
   ]
  },
  {
   "cell_type": "code",
   "execution_count": 21,
   "id": "b4992b08-7886-4c9e-81b8-4cbe6ff72a2a",
   "metadata": {},
   "outputs": [
    {
     "data": {
      "text/plain": [
       "'123_10.csv'"
      ]
     },
     "execution_count": 21,
     "metadata": {},
     "output_type": "execute_result"
    }
   ],
   "source": [
    "patient_id = 123\n",
    "number = 10\n",
    "file_name = \"{p}_{n}.csv\".format(p=patient_id, n=number)\n",
    "file_name"
   ]
  },
  {
   "cell_type": "code",
   "execution_count": 22,
   "id": "39993378-085b-4935-899a-6fb198405385",
   "metadata": {},
   "outputs": [
    {
     "data": {
      "text/plain": [
       "['hell', '']"
      ]
     },
     "execution_count": 22,
     "metadata": {},
     "output_type": "execute_result"
    }
   ],
   "source": [
    "\"hello\".split(\"o\")"
   ]
  },
  {
   "cell_type": "code",
   "execution_count": 24,
   "id": "16c70d6a-44c7-4c75-a15d-e546080ca18e",
   "metadata": {},
   "outputs": [
    {
     "data": {
      "text/plain": [
       "'hello world'"
      ]
     },
     "execution_count": 24,
     "metadata": {},
     "output_type": "execute_result"
    }
   ],
   "source": [
    "\" \".join([\"hello\", \"world\"])"
   ]
  },
  {
   "cell_type": "code",
   "execution_count": 25,
   "id": "b9b5fe00-caec-4983-b055-dd43152c506e",
   "metadata": {},
   "outputs": [],
   "source": [
    "list1 = [1, \"heliow\", 3]"
   ]
  },
  {
   "cell_type": "code",
   "execution_count": 27,
   "id": "ee3eecea-4719-44fa-a93b-903e16643545",
   "metadata": {},
   "outputs": [
    {
     "data": {
      "text/plain": [
       "3"
      ]
     },
     "execution_count": 27,
     "metadata": {},
     "output_type": "execute_result"
    }
   ],
   "source": [
    "list1[2]"
   ]
  },
  {
   "cell_type": "code",
   "execution_count": 29,
   "id": "fffae662-69ad-4a0d-ac60-7e7afc6f4377",
   "metadata": {},
   "outputs": [],
   "source": [
    "list1.append(\"list2\")"
   ]
  },
  {
   "cell_type": "code",
   "execution_count": 30,
   "id": "af61f292-7279-426f-bf33-ffef38622bf7",
   "metadata": {},
   "outputs": [
    {
     "data": {
      "text/plain": [
       "[1, 'heliow', 3, 'list2']"
      ]
     },
     "execution_count": 30,
     "metadata": {},
     "output_type": "execute_result"
    }
   ],
   "source": [
    "list1"
   ]
  },
  {
   "cell_type": "markdown",
   "id": "3821af20-1ccf-4fe5-8ce8-b61abe5085fe",
   "metadata": {},
   "source": [
    "## Dictionary"
   ]
  },
  {
   "cell_type": "code",
   "execution_count": 31,
   "id": "4f0981af-8855-499b-ac7d-f291c47ff247",
   "metadata": {},
   "outputs": [],
   "source": [
    "dict1 ={\"key1\": \"value1\", \"key2\": \"value2\", \"key3\": \"value3\"}"
   ]
  },
  {
   "cell_type": "code",
   "execution_count": 32,
   "id": "2490deed-5a54-4a52-b3bf-9cf3b56eeecd",
   "metadata": {},
   "outputs": [
    {
     "data": {
      "text/plain": [
       "'value1'"
      ]
     },
     "execution_count": 32,
     "metadata": {},
     "output_type": "execute_result"
    }
   ],
   "source": [
    "dict1[\"key1\"]"
   ]
  },
  {
   "cell_type": "code",
   "execution_count": 33,
   "id": "00d45db4-6ab7-4ef3-8465-92198064db99",
   "metadata": {},
   "outputs": [],
   "source": [
    "dict1[\"key4\"] = \"value4\""
   ]
  },
  {
   "cell_type": "code",
   "execution_count": 34,
   "id": "a09fb1c9-e708-45f0-b0ae-de8caeb8e745",
   "metadata": {},
   "outputs": [
    {
     "data": {
      "text/plain": [
       "{'key1': 'value1', 'key2': 'value2', 'key3': 'value3', 'key4': 'value4'}"
      ]
     },
     "execution_count": 34,
     "metadata": {},
     "output_type": "execute_result"
    }
   ],
   "source": [
    "dict1"
   ]
  },
  {
   "cell_type": "code",
   "execution_count": 37,
   "id": "d00ac674-c0f8-4a26-b5d4-192df10a3ca4",
   "metadata": {},
   "outputs": [
    {
     "data": {
      "text/plain": [
       "dict_keys(['key1', 'key2', 'key3', 'key4'])"
      ]
     },
     "execution_count": 37,
     "metadata": {},
     "output_type": "execute_result"
    }
   ],
   "source": [
    "dict1.keys()"
   ]
  },
  {
   "cell_type": "code",
   "execution_count": 39,
   "id": "60ce3e5c-f835-45da-b614-8d5cf302f150",
   "metadata": {},
   "outputs": [
    {
     "data": {
      "text/plain": [
       "dict_values(['value1', 'value2', 'value3', 'value4'])"
      ]
     },
     "execution_count": 39,
     "metadata": {},
     "output_type": "execute_result"
    }
   ],
   "source": [
    "dict1.values()"
   ]
  },
  {
   "cell_type": "markdown",
   "id": "8abc6367-0161-46fb-a237-d49648de5505",
   "metadata": {},
   "source": [
    "## Boolean"
   ]
  },
  {
   "cell_type": "code",
   "execution_count": 40,
   "id": "867a366d-291f-45eb-a311-958c2a47ccec",
   "metadata": {},
   "outputs": [
    {
     "data": {
      "text/plain": [
       "True"
      ]
     },
     "execution_count": 40,
     "metadata": {},
     "output_type": "execute_result"
    }
   ],
   "source": [
    "True"
   ]
  },
  {
   "cell_type": "code",
   "execution_count": 41,
   "id": "b993bec4-563e-47a9-bf85-ac865a0a58aa",
   "metadata": {},
   "outputs": [
    {
     "data": {
      "text/plain": [
       "False"
      ]
     },
     "execution_count": 41,
     "metadata": {},
     "output_type": "execute_result"
    }
   ],
   "source": [
    "False"
   ]
  },
  {
   "cell_type": "markdown",
   "id": "52d24a51-d3f9-477f-8a20-48dab44562f8",
   "metadata": {},
   "source": [
    "## Tuples"
   ]
  },
  {
   "cell_type": "code",
   "execution_count": 42,
   "id": "aed42f25-f732-47c4-b59b-c13600882882",
   "metadata": {},
   "outputs": [],
   "source": [
    "tuple1 = (1, 2, 3)"
   ]
  },
  {
   "cell_type": "code",
   "execution_count": 43,
   "id": "d44465fd-7f8b-4e98-89f5-16322b921128",
   "metadata": {},
   "outputs": [
    {
     "data": {
      "text/plain": [
       "3"
      ]
     },
     "execution_count": 43,
     "metadata": {},
     "output_type": "execute_result"
    }
   ],
   "source": [
    "tuple1[2]"
   ]
  },
  {
   "cell_type": "markdown",
   "id": "f2e87aba-9114-4c7c-957f-8cd264da4356",
   "metadata": {},
   "source": [
    "## Set"
   ]
  },
  {
   "cell_type": "code",
   "execution_count": 44,
   "id": "29b836d4-2b58-4487-97ee-e5955a6ceda5",
   "metadata": {},
   "outputs": [
    {
     "data": {
      "text/plain": [
       "{1, 2, 3}"
      ]
     },
     "execution_count": 44,
     "metadata": {},
     "output_type": "execute_result"
    }
   ],
   "source": [
    "set1 = {1, 1, 2, 2, 3, 3}\n",
    "set1"
   ]
  },
  {
   "cell_type": "markdown",
   "id": "168b0f3a-a8a9-444d-b794-44c1cf1edebb",
   "metadata": {},
   "source": [
    "## Casting"
   ]
  },
  {
   "cell_type": "code",
   "execution_count": 45,
   "id": "c2733f23-c3e2-4129-a702-16198b535d16",
   "metadata": {},
   "outputs": [
    {
     "data": {
      "text/plain": [
       "1"
      ]
     },
     "execution_count": 45,
     "metadata": {},
     "output_type": "execute_result"
    }
   ],
   "source": [
    "int(1.0)"
   ]
  },
  {
   "cell_type": "code",
   "execution_count": 46,
   "id": "7301aee6-7a79-4cdc-b1cf-16e6aac527fb",
   "metadata": {},
   "outputs": [
    {
     "data": {
      "text/plain": [
       "['h', 'e', 'l', 'l', 'o']"
      ]
     },
     "execution_count": 46,
     "metadata": {},
     "output_type": "execute_result"
    }
   ],
   "source": [
    "list(\"hello\")"
   ]
  },
  {
   "cell_type": "markdown",
   "id": "5a2e41cd-31df-4365-ba23-5b8ccf6e39c6",
   "metadata": {},
   "source": [
    "## 演算子"
   ]
  },
  {
   "cell_type": "code",
   "execution_count": 47,
   "id": "c800e194-4222-4d68-befc-d6096f50779c",
   "metadata": {},
   "outputs": [
    {
     "data": {
      "text/plain": [
       "2"
      ]
     },
     "execution_count": 47,
     "metadata": {},
     "output_type": "execute_result"
    }
   ],
   "source": [
    "1 + 1"
   ]
  },
  {
   "cell_type": "code",
   "execution_count": 48,
   "id": "fa098c35-1022-4154-b65c-e1db1baad777",
   "metadata": {},
   "outputs": [
    {
     "data": {
      "text/plain": [
       "4"
      ]
     },
     "execution_count": 48,
     "metadata": {},
     "output_type": "execute_result"
    }
   ],
   "source": [
    "2 * 2"
   ]
  },
  {
   "cell_type": "code",
   "execution_count": 49,
   "id": "69005013-8e9f-43f7-9307-f35cb3679cae",
   "metadata": {},
   "outputs": [
    {
     "data": {
      "text/plain": [
       "0.4"
      ]
     },
     "execution_count": 49,
     "metadata": {},
     "output_type": "execute_result"
    }
   ],
   "source": [
    "2 / 5"
   ]
  },
  {
   "cell_type": "code",
   "execution_count": 50,
   "id": "2df29601-215e-4ed4-b7ec-7bdaae330cc4",
   "metadata": {},
   "outputs": [
    {
     "data": {
      "text/plain": [
       "8"
      ]
     },
     "execution_count": 50,
     "metadata": {},
     "output_type": "execute_result"
    }
   ],
   "source": [
    "2 ** 3"
   ]
  },
  {
   "cell_type": "code",
   "execution_count": 53,
   "id": "27e2202c-7aa5-47b2-b8a9-ac671abaf5e1",
   "metadata": {},
   "outputs": [
    {
     "data": {
      "text/plain": [
       "3"
      ]
     },
     "execution_count": 53,
     "metadata": {},
     "output_type": "execute_result"
    }
   ],
   "source": [
    "16 // 5"
   ]
  },
  {
   "cell_type": "code",
   "execution_count": 52,
   "id": "e0189101-5a97-4a85-8a40-77bb42427011",
   "metadata": {},
   "outputs": [
    {
     "data": {
      "text/plain": [
       "1"
      ]
     },
     "execution_count": 52,
     "metadata": {},
     "output_type": "execute_result"
    }
   ],
   "source": [
    "16 % 5"
   ]
  },
  {
   "cell_type": "code",
   "execution_count": 60,
   "id": "a68a1689-1567-4b45-a982-617cf77b014a",
   "metadata": {},
   "outputs": [
    {
     "data": {
      "text/plain": [
       "3"
      ]
     },
     "execution_count": 60,
     "metadata": {},
     "output_type": "execute_result"
    }
   ],
   "source": [
    "i = 2\n",
    "i += 1\n",
    "i"
   ]
  },
  {
   "cell_type": "code",
   "execution_count": 61,
   "id": "6f9e87bf-9bfc-4d2f-9e0e-0bac8c784d16",
   "metadata": {},
   "outputs": [
    {
     "data": {
      "text/plain": [
       "True"
      ]
     },
     "execution_count": 61,
     "metadata": {},
     "output_type": "execute_result"
    }
   ],
   "source": [
    "3 <= 3"
   ]
  },
  {
   "cell_type": "code",
   "execution_count": 63,
   "id": "f8c87ad7-ba28-4432-8b4e-093fe3d2ff57",
   "metadata": {},
   "outputs": [
    {
     "data": {
      "text/plain": [
       "True"
      ]
     },
     "execution_count": 63,
     "metadata": {},
     "output_type": "execute_result"
    }
   ],
   "source": [
    "3 != 4"
   ]
  },
  {
   "cell_type": "code",
   "execution_count": 66,
   "id": "af6839e2-4451-4d5e-b6c3-2d671e627e82",
   "metadata": {},
   "outputs": [
    {
     "data": {
      "text/plain": [
       "True"
      ]
     },
     "execution_count": 66,
     "metadata": {},
     "output_type": "execute_result"
    }
   ],
   "source": [
    "\"w\" in [\"w\", \"h\"]"
   ]
  },
  {
   "cell_type": "code",
   "execution_count": 67,
   "id": "6f29e538-6970-40a6-b972-8290fbc60906",
   "metadata": {},
   "outputs": [],
   "source": [
    "a = (1, 2)\n",
    "b = (1, 2)"
   ]
  },
  {
   "cell_type": "code",
   "execution_count": 69,
   "id": "7b259f12-7d27-4691-88b6-b2cd6188aafb",
   "metadata": {},
   "outputs": [
    {
     "data": {
      "text/plain": [
       "281472999072960"
      ]
     },
     "execution_count": 69,
     "metadata": {},
     "output_type": "execute_result"
    }
   ],
   "source": [
    "id(a)"
   ]
  },
  {
   "cell_type": "code",
   "execution_count": 70,
   "id": "3f2c329e-d9c6-43e4-a74d-64efb58f3164",
   "metadata": {},
   "outputs": [
    {
     "data": {
      "text/plain": [
       "281472999144384"
      ]
     },
     "execution_count": 70,
     "metadata": {},
     "output_type": "execute_result"
    }
   ],
   "source": [
    "id(b)"
   ]
  },
  {
   "cell_type": "code",
   "execution_count": 74,
   "id": "75e509fc-7384-45bd-8f06-368873bcef06",
   "metadata": {},
   "outputs": [],
   "source": [
    "a =None"
   ]
  },
  {
   "cell_type": "code",
   "execution_count": 75,
   "id": "74803032-a090-4c86-bc89-3085a8744199",
   "metadata": {},
   "outputs": [
    {
     "data": {
      "text/plain": [
       "True"
      ]
     },
     "execution_count": 75,
     "metadata": {},
     "output_type": "execute_result"
    }
   ],
   "source": [
    "a is None"
   ]
  },
  {
   "cell_type": "markdown",
   "id": "aee4dced-043f-4188-b67c-9269c6760e9b",
   "metadata": {},
   "source": [
    "## Loop処理"
   ]
  },
  {
   "cell_type": "code",
   "execution_count": 5,
   "id": "881aecab-5169-4e57-a578-006a0b230f78",
   "metadata": {},
   "outputs": [
    {
     "name": "stdout",
     "output_type": "stream",
     "text": [
      "red is Not my favofrite\n",
      "blue is my favofrite\n",
      "green is Not my favofrite\n",
      "yellow is Not my favofrite\n",
      "white is Not my favofrite\n"
     ]
    }
   ],
   "source": [
    "colors = ['red', 'blue', 'green', 'yellow', 'white']\n",
    "favorite_color = 'blue'\n",
    "for color in colors:\n",
    "    if color == favorite_color:\n",
    "        print('{} is my favofrite'.format(color))\n",
    "    else:\n",
    "        print('{} is Not my favofrite'.format(color))\n"
   ]
  },
  {
   "cell_type": "code",
   "execution_count": 6,
   "id": "4882f26b-e72a-4ded-b47e-9ada843b9738",
   "metadata": {},
   "outputs": [
    {
     "data": {
      "text/plain": [
       "[0, 1, 2, 3, 4, 5, 6, 7, 8, 9]"
      ]
     },
     "execution_count": 6,
     "metadata": {},
     "output_type": "execute_result"
    }
   ],
   "source": [
    "list(range(10))"
   ]
  },
  {
   "cell_type": "code",
   "execution_count": 7,
   "id": "dd1935ba-4dce-4e0c-875e-03de528bb681",
   "metadata": {},
   "outputs": [
    {
     "name": "stdout",
     "output_type": "stream",
     "text": [
      "0\n",
      "1\n",
      "2\n",
      "3\n",
      "4\n",
      "5\n",
      "6\n",
      "7\n",
      "8\n",
      "9\n"
     ]
    }
   ],
   "source": [
    "for i in range(10):\n",
    "    print(i)"
   ]
  },
  {
   "cell_type": "code",
   "execution_count": 11,
   "id": "ef4ca756-9c50-4abb-8ba8-0eef55edf625",
   "metadata": {},
   "outputs": [
    {
     "name": "stdout",
     "output_type": "stream",
     "text": [
      "0:red is Not my favofrite\n",
      "1:blue is my favofrite\n",
      "2:green is Not my favofrite\n",
      "3:yellow is Not my favofrite\n",
      "4:white is Not my favofrite\n"
     ]
    }
   ],
   "source": [
    "for idx, color in enumerate(colors):\n",
    "    if color == favorite_color:\n",
    "        print('{}:{} is my favofrite'.format(idx, color))\n",
    "    else:\n",
    "        print('{}:{} is Not my favofrite'.format(idx, color)) "
   ]
  },
  {
   "cell_type": "code",
   "execution_count": null,
   "id": "12000303-d734-4ac2-afcd-720d46e87a2d",
   "metadata": {},
   "outputs": [],
   "source": [
    "colors = ['red', 'blue', 'green', 'yellow', 'white']\n",
    "colors_png = ['red.png', 'blue.png', 'green.png', 'yellow.png', 'white.png']"
   ]
  },
  {
   "cell_type": "code",
   "execution_count": 12,
   "id": "21998411-bc34-4c74-90e0-836ec4d7d497",
   "metadata": {},
   "outputs": [
    {
     "data": {
      "text/plain": [
       "['redpng', 'bluepng', 'greenpng', 'yellowpng', 'whitepng']"
      ]
     },
     "execution_count": 12,
     "metadata": {},
     "output_type": "execute_result"
    }
   ],
   "source": [
    "[ color + 'png' for color in colors]"
   ]
  },
  {
   "cell_type": "markdown",
   "id": "e2328686-bec3-4e29-a56e-938f3cfb3fbf",
   "metadata": {},
   "source": [
    "## while"
   ]
  },
  {
   "cell_type": "code",
   "execution_count": 17,
   "id": "8c77e550-4ce4-4454-8eba-d61bff154a2f",
   "metadata": {},
   "outputs": [
    {
     "name": "stdout",
     "output_type": "stream",
     "text": [
      "0 is less than 5\n"
     ]
    },
    {
     "name": "stderr",
     "output_type": "stream",
     "text": [
      "0it [00:00, ?it/s]\n"
     ]
    },
    {
     "name": "stdout",
     "output_type": "stream",
     "text": [
      "1 is less than 5\n"
     ]
    },
    {
     "name": "stderr",
     "output_type": "stream",
     "text": [
      "0it [00:00, ?it/s]\n"
     ]
    },
    {
     "name": "stdout",
     "output_type": "stream",
     "text": [
      "2 is less than 5\n"
     ]
    },
    {
     "name": "stderr",
     "output_type": "stream",
     "text": [
      "0it [00:00, ?it/s]\n"
     ]
    },
    {
     "name": "stdout",
     "output_type": "stream",
     "text": [
      "3 is less than 5\n"
     ]
    },
    {
     "name": "stderr",
     "output_type": "stream",
     "text": [
      "0it [00:00, ?it/s]\n"
     ]
    },
    {
     "name": "stdout",
     "output_type": "stream",
     "text": [
      "4 is less than 5\n"
     ]
    },
    {
     "name": "stderr",
     "output_type": "stream",
     "text": [
      "0it [00:00, ?it/s]\n"
     ]
    }
   ],
   "source": [
    "from tqdm import tqdm\n",
    "i = 0\n",
    "while i < 5:\n",
    "    tqdm(print('{} is less than 5'.format(i)), position=0)\n",
    "    i += 1"
   ]
  },
  {
   "cell_type": "markdown",
   "id": "dc22ef61-9534-45cf-9cb3-6dc366ef8dc1",
   "metadata": {},
   "source": [
    "## iterable iterator"
   ]
  },
  {
   "cell_type": "code",
   "execution_count": 29,
   "id": "8306d1a3-fb13-4415-9022-335dfbfd4c28",
   "metadata": {},
   "outputs": [],
   "source": [
    "colors = ['red', 'blue', 'green', 'yellow', 'white']\n",
    "\n",
    "colors_i = iter(colors)"
   ]
  },
  {
   "cell_type": "code",
   "execution_count": 32,
   "id": "56d9e363-3f7f-4df0-b5e3-2c0d6476e474",
   "metadata": {},
   "outputs": [
    {
     "data": {
      "text/plain": [
       "'green'"
      ]
     },
     "execution_count": 32,
     "metadata": {},
     "output_type": "execute_result"
    }
   ],
   "source": [
    "next(colors_i)"
   ]
  },
  {
   "cell_type": "code",
   "execution_count": 34,
   "id": "ceab1143-b618-4679-ac65-49801ef4a67a",
   "metadata": {},
   "outputs": [
    {
     "data": {
      "text/plain": [
       "['yellow', 'white']"
      ]
     },
     "execution_count": 34,
     "metadata": {},
     "output_type": "execute_result"
    }
   ],
   "source": [
    "list(colors_i)"
   ]
  },
  {
   "cell_type": "code",
   "execution_count": null,
   "id": "80a38f4d-d6e5-4f11-a926-5a4fcfed551d",
   "metadata": {},
   "outputs": [],
   "source": []
  }
 ],
 "metadata": {
  "kernelspec": {
   "display_name": "Python 3 (ipykernel)",
   "language": "python",
   "name": "python3"
  },
  "language_info": {
   "codemirror_mode": {
    "name": "ipython",
    "version": 3
   },
   "file_extension": ".py",
   "mimetype": "text/x-python",
   "name": "python",
   "nbconvert_exporter": "python",
   "pygments_lexer": "ipython3",
   "version": "3.10.9"
  }
 },
 "nbformat": 4,
 "nbformat_minor": 5
}
