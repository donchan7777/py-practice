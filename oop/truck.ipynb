{
 "cells": [
  {
   "cell_type": "code",
   "execution_count": 8,
   "id": "45ade987-c2b1-42db-b69c-c7badb22550d",
   "metadata": {},
   "outputs": [
    {
     "name": "stdout",
     "output_type": "stream",
     "text": [
      "現在の積載量は12000tです。\n",
      "最大積載量は100tです。\n",
      "重量オーバーなので走れません\n",
      "最低でも11900tの荷物をおろしてください\n",
      "重量オーバーなので走れません\n",
      "最低でも11900tの荷物をおろしてください\n",
      "現在の積載量は24000tです。\n",
      "最大積載量は100tです。\n"
     ]
    }
   ],
   "source": [
    "class Car:\n",
    "    \n",
    "    def __init__(self, model_name, mileage, manufacturer):\n",
    "        self.model_name = model_name\n",
    "        self.mileage = mileage\n",
    "        self.manufacturer = manufacturer\n",
    "    \n",
    "    def gas(self):\n",
    "        print(\"{0.manufacturer}, {0.model_name}, (燃費:{0.mileage}), アクセル全開!!\".format(self))\n",
    "    \n",
    "    def brakes(self):\n",
    "        print(\"{0.manufacturer}, {0.model_name}, (燃費:{0.mileage}), ブレーキ全開!!\".format(self))\n",
    "\n",
    "        \n",
    "class Truck(Car):\n",
    "    def __init__(self, model_name, mileage, manufacturer, max_loadings):\n",
    "        super().__init__(model_name, mileage, manufacturer)\n",
    "        self._max_loadings = max_loadings\n",
    "        self._loadings = 0\n",
    "\n",
    "    def gas(self):\n",
    "        if self._loadings > self._max_loadings:\n",
    "            print(\"重量オーバーなので走れません\")\n",
    "            print(f\"最低でも{self._loadings-self._max_loadings}tの荷物をおろしてください\")\n",
    "        else:\n",
    "            super().gas()\n",
    "        \n",
    "        \n",
    "    def load(self, weight):\n",
    "        if weight > 0:\n",
    "            self._loadings += weight\n",
    "        else:\n",
    "            \n",
    "            if self._loadings <= -weight:\n",
    "                print(f\"{self._loadings}t全ての荷物を下ろしました\")\n",
    "                self._loadings = 0\n",
    "            else:\n",
    "                print(f\"{-weight}tの荷物を下ろしました\")\n",
    "                self._loadings += weight\n",
    "        print(f\"現在の積載量は{self._loadings}tです。\")    \n",
    "        \n",
    "        if self._loadings > self._max_loadings:\n",
    "            print(f\"最大積載量は{self._max_loadings}tです。\")\n",
    "            \n",
    "\n",
    "if __name__ == \"__main__\":\n",
    "    \n",
    "    isuzu_truck = Truck(\"トラックA\", 20, \"いすゞ\", 100)\n",
    "    \n",
    "    isuzu_truck.load(12000)\n",
    "    isuzu_truck.gas()\n",
    "    isuzu_truck.gas()\n",
    "    isuzu_truck.load(12000)\n",
    "\n",
    "\n",
    "\n",
    "\n",
    "\n"
   ]
  },
  {
   "cell_type": "code",
   "execution_count": null,
   "id": "d664cac6-c796-4cf9-b8a6-72b53b99fbb5",
   "metadata": {},
   "outputs": [],
   "source": []
  },
  {
   "cell_type": "code",
   "execution_count": null,
   "id": "aaa5907e-1910-479b-8a97-3bd6546d42e3",
   "metadata": {},
   "outputs": [],
   "source": []
  },
  {
   "cell_type": "code",
   "execution_count": null,
   "id": "775dba0e-b184-4b1d-a6d6-edf3c93dea74",
   "metadata": {},
   "outputs": [],
   "source": []
  },
  {
   "cell_type": "code",
   "execution_count": null,
   "id": "3833b4d9-75d2-48f0-b412-23b2449ec899",
   "metadata": {},
   "outputs": [],
   "source": []
  },
  {
   "cell_type": "code",
   "execution_count": null,
   "id": "5f5c143b-085b-4b5f-ae99-f59e7e108735",
   "metadata": {},
   "outputs": [],
   "source": []
  },
  {
   "cell_type": "code",
   "execution_count": null,
   "id": "fe0d4819-de58-4641-8dd1-684a27d287eb",
   "metadata": {},
   "outputs": [],
   "source": []
  }
 ],
 "metadata": {
  "kernelspec": {
   "display_name": "Python 3 (ipykernel)",
   "language": "python",
   "name": "python3"
  },
  "language_info": {
   "codemirror_mode": {
    "name": "ipython",
    "version": 3
   },
   "file_extension": ".py",
   "mimetype": "text/x-python",
   "name": "python",
   "nbconvert_exporter": "python",
   "pygments_lexer": "ipython3",
   "version": "3.9.13"
  }
 },
 "nbformat": 4,
 "nbformat_minor": 5
}
