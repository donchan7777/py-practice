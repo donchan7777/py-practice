{
 "cells": [
  {
   "cell_type": "markdown",
   "id": "290917d3-6980-47b2-9540-abb6e02cc669",
   "metadata": {},
   "source": [
    "# for"
   ]
  },
  {
   "cell_type": "code",
   "execution_count": 2,
   "id": "67f9b68b-0b23-460a-b3b6-9ab5e17cbccf",
   "metadata": {},
   "outputs": [
    {
     "name": "stdout",
     "output_type": "stream",
     "text": [
      "apple OK\n",
      "peach OK\n",
      "grapes OK\n",
      "banana OK\n"
     ]
    }
   ],
   "source": [
    "# fruits = [\"apple\", \"peach\", \"grapes\", \"banana\"]\n",
    "\n",
    "# for fruit in fruits:\n",
    "#     print(\"{} OK\".format(fruit))"
   ]
  },
  {
   "cell_type": "code",
   "execution_count": 7,
   "id": "b69ab54a-8077-4e68-bc4e-1db79dfad70c",
   "metadata": {},
   "outputs": [
    {
     "name": "stdin",
     "output_type": "stream",
     "text": [
      "like link\n"
     ]
    },
    {
     "name": "stdout",
     "output_type": "stream",
     "text": [
      "not like\n",
      "not like\n",
      "not like\n",
      "not like\n"
     ]
    }
   ],
   "source": [
    "# fruits = [\"apple\", \"peach\", \"grapes\", \"banana\"]\n",
    "# favorite = input(\"like\")\n",
    "\n",
    "# for fruit in fruits:\n",
    "#     if fruits == favorite:\n",
    "#         print(\"like\")\n",
    "#     else:\n",
    "#         print(\"not like\")"
   ]
  },
  {
   "cell_type": "code",
   "execution_count": 8,
   "id": "ccd7dc86-e990-481d-a75c-a3955f39e16d",
   "metadata": {},
   "outputs": [
    {
     "name": "stdin",
     "output_type": "stream",
     "text": [
      "apple like? y/n n\n",
      "peach like? y/n y\n",
      "grapes like? y/n n\n",
      "banana like? y/n n\n"
     ]
    },
    {
     "name": "stdout",
     "output_type": "stream",
     "text": [
      "['peach']\n",
      "['apple', 'grapes', 'banana']\n"
     ]
    }
   ],
   "source": [
    "fruits = [\"apple\", \"peach\", \"grapes\", \"banana\"]\n",
    "favorite_fruits = []\n",
    "normal_fruits = []\n",
    "\n",
    "for fruit in fruits:\n",
    "    choise = input(\"{} like? y/n\".format(fruit))\n",
    "    if choise == \"y\":\n",
    "        favorite_fruits.append(fruit)\n",
    "    else:\n",
    "        normal_fruits.append(fruit)\n",
    "print(favorite_fruits)\n",
    "print(normal_fruits)"
   ]
  },
  {
   "cell_type": "code",
   "execution_count": null,
   "id": "a53c73b3-84eb-445e-a66e-954f99a1b0cf",
   "metadata": {},
   "outputs": [],
   "source": []
  },
  {
   "cell_type": "code",
   "execution_count": null,
   "id": "137177b3-14fc-415d-a35c-7603e16c28ee",
   "metadata": {},
   "outputs": [],
   "source": []
  },
  {
   "cell_type": "code",
   "execution_count": null,
   "id": "0cf30c56-f4fa-4e07-9873-70b994cca368",
   "metadata": {},
   "outputs": [],
   "source": []
  },
  {
   "cell_type": "code",
   "execution_count": null,
   "id": "1b8f248b-9317-4c45-a5a1-fff8717fb87e",
   "metadata": {},
   "outputs": [],
   "source": []
  },
  {
   "cell_type": "code",
   "execution_count": null,
   "id": "21208755-3195-4762-ba9b-4812f24732aa",
   "metadata": {},
   "outputs": [],
   "source": []
  },
  {
   "cell_type": "code",
   "execution_count": null,
   "id": "0b0fdfca-f6ba-4567-a592-f1da70a2fc07",
   "metadata": {},
   "outputs": [],
   "source": []
  }
 ],
 "metadata": {
  "kernelspec": {
   "display_name": "Python 3 (ipykernel)",
   "language": "python",
   "name": "python3"
  },
  "language_info": {
   "codemirror_mode": {
    "name": "ipython",
    "version": 3
   },
   "file_extension": ".py",
   "mimetype": "text/x-python",
   "name": "python",
   "nbconvert_exporter": "python",
   "pygments_lexer": "ipython3",
   "version": "3.9.13"
  }
 },
 "nbformat": 4,
 "nbformat_minor": 5
}
