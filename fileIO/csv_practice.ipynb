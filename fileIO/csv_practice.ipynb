{
 "cells": [
  {
   "cell_type": "code",
   "execution_count": 7,
   "id": "e4c9e9b2-8d4d-4caa-bde6-8caf5fe18e05",
   "metadata": {},
   "outputs": [
    {
     "name": "stdout",
     "output_type": "stream",
     "text": [
      "['', 'First Name', 'Last Name', 'Gender', 'Country', 'Age', 'Date', 'Id']\n",
      "['1', 'Dulce', 'Abril', 'Female', 'United States', '32', '15/10/2017', '1562']\n",
      "['2', 'Mara', 'Hashimoto', 'Female', 'Great Britain', '25', '16/08/2016', '1582']\n",
      "['3', 'Philip', 'Gent', 'Male', 'France', '36', '21/05/2015', '2587']\n",
      "['4', 'Kathleen', 'Hanner', 'Female', 'United States', '25', '15/10/2017', '3549']\n",
      "['5', 'Nereida', 'Magwood', 'Female', 'United States', '58', '16/08/2016', '2468']\n",
      "['6', 'Gaston', 'Brumm', 'Male', 'United States', '24', '21/05/2015', '2554']\n",
      "['7', 'Etta', 'Hurn', 'Female', 'Great Britain', '56', '15/10/2017', '3598']\n"
     ]
    }
   ],
   "source": [
    "import csv\n",
    "\n",
    "with open(\"example.csv\") as f:\n",
    "    reader = csv.reader(f)\n",
    "    for line in reader:\n",
    "        print(line)\n",
    "        \n",
    "        \n"
   ]
  },
  {
   "cell_type": "code",
   "execution_count": 8,
   "id": "fbc6e101-c214-4b98-9625-f2781bb50c78",
   "metadata": {},
   "outputs": [
    {
     "name": "stdout",
     "output_type": "stream",
     "text": [
      "United States\n",
      "Great Britain\n",
      "France\n",
      "United States\n",
      "United States\n",
      "United States\n",
      "Great Britain\n"
     ]
    }
   ],
   "source": [
    "with open(\"example.csv\") as f:\n",
    "    reader = csv.DictReader(f)\n",
    "    for line in reader:\n",
    "        print(line[\"Country\"])"
   ]
  },
  {
   "cell_type": "code",
   "execution_count": 9,
   "id": "8dabfdbc-e030-43df-af51-afc98779a8e1",
   "metadata": {},
   "outputs": [],
   "source": [
    "with open(\"sample.csv\", mode=\"w\") as f:\n",
    "    writer = csv.writer(f)\n",
    "    writer.writerow([\"value1\", \"value2\"])\n",
    "    writer.writerow([\"value3\", \"value4\"])"
   ]
  },
  {
   "cell_type": "code",
   "execution_count": 15,
   "id": "53894c34-3e95-4dcf-84ac-b93f6061b075",
   "metadata": {},
   "outputs": [],
   "source": [
    "with open(\"sample.csv\", mode=\"w\") as f:\n",
    "    writer = csv.DictWriter(f, [\"col1\", \"col2\"])\n",
    "    writer.writeheader()\n",
    "    writer.writerow({\"col1\": \"value1\", \"col2\": \"value2\"})\n",
    "    writer.writerow({\"col1\": \"value3\", \"col2\": \"value4\"})"
   ]
  },
  {
   "cell_type": "code",
   "execution_count": null,
   "id": "d67dfb9a-d348-4f70-a578-87b3080b06ff",
   "metadata": {},
   "outputs": [],
   "source": []
  }
 ],
 "metadata": {
  "kernelspec": {
   "display_name": "Python 3 (ipykernel)",
   "language": "python",
   "name": "python3"
  },
  "language_info": {
   "codemirror_mode": {
    "name": "ipython",
    "version": 3
   },
   "file_extension": ".py",
   "mimetype": "text/x-python",
   "name": "python",
   "nbconvert_exporter": "python",
   "pygments_lexer": "ipython3",
   "version": "3.9.13"
  }
 },
 "nbformat": 4,
 "nbformat_minor": 5
}
