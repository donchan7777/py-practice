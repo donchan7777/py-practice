{
 "cells": [
  {
   "cell_type": "markdown",
   "id": "c8cdf944-203a-4d49-bea7-1c7848cddf1b",
   "metadata": {},
   "source": [
    "## Closure"
   ]
  },
  {
   "cell_type": "code",
   "execution_count": 4,
   "id": "7cbe841f-94ca-4c5f-be86-e61613609c0a",
   "metadata": {},
   "outputs": [
    {
     "name": "stdout",
     "output_type": "stream",
     "text": [
      "<class 'function'>\n",
      "<function compute_square at 0xffff9695a280>\n",
      "100\n"
     ]
    }
   ],
   "source": [
    "def compute_square(num):\n",
    "    return num * num\n",
    "\n",
    "\n",
    "f = compute_square\n",
    "print(type(f))\n",
    "print(compute_square)\n",
    "print(f(10))\n",
    "\n"
   ]
  },
  {
   "cell_type": "code",
   "execution_count": 5,
   "id": "56356e34-94d3-422f-9a09-0ca4514de53f",
   "metadata": {},
   "outputs": [
    {
     "name": "stdout",
     "output_type": "stream",
     "text": [
      "100\n"
     ]
    }
   ],
   "source": [
    "def execute_func(func, param):\n",
    "    return func(param)\n",
    "\n",
    "\n",
    "print(execute_func(f, 10))"
   ]
  },
  {
   "cell_type": "code",
   "execution_count": 11,
   "id": "74a5a3dc-e8ec-4821-a626-1901a494e350",
   "metadata": {},
   "outputs": [
    {
     "name": "stdout",
     "output_type": "stream",
     "text": [
      "<function return_func.<locals>.inner_func at 0xffff9695a700>\n",
      "<class 'function'>\n"
     ]
    }
   ],
   "source": [
    "def return_func():\n",
    "    \n",
    "    \n",
    "    def inner_func():\n",
    "        priint(\"This is inner function\")\n",
    "    return inner_func\n",
    "\n",
    "\n",
    "f = return_func()\n",
    "print(f)\n",
    "print(type(f))"
   ]
  },
  {
   "cell_type": "code",
   "execution_count": 16,
   "id": "eb64e6da-52ab-493a-b900-693d383b3789",
   "metadata": {},
   "outputs": [
    {
     "name": "stdout",
     "output_type": "stream",
     "text": [
      "16\n"
     ]
    }
   ],
   "source": [
    "def power(exponent):\n",
    "    \n",
    "    def inner_power(base):\n",
    "        return base ** exponent\n",
    "    return inner_power\n",
    "\n",
    "\n",
    "power_four = power(4)\n",
    "print(power_four(2))"
   ]
  },
  {
   "cell_type": "code",
   "execution_count": 20,
   "id": "a2078a70-8031-428f-a665-375bf122fc63",
   "metadata": {},
   "outputs": [
    {
     "name": "stdout",
     "output_type": "stream",
     "text": [
      "5.0\n"
     ]
    },
    {
     "ename": "NameError",
     "evalue": "name 'nums' is not defined",
     "output_type": "error",
     "traceback": [
      "\u001b[0;31m---------------------------------------------------------------------------\u001b[0m",
      "\u001b[0;31mNameError\u001b[0m                                 Traceback (most recent call last)",
      "\u001b[0;32m/tmp/ipykernel_39/2988822332.py\u001b[0m in \u001b[0;36m<module>\u001b[0;34m\u001b[0m\n\u001b[1;32m     10\u001b[0m \u001b[0maverage_nums\u001b[0m \u001b[0;34m=\u001b[0m \u001b[0maverage\u001b[0m\u001b[0;34m(\u001b[0m\u001b[0;34m)\u001b[0m\u001b[0;34m\u001b[0m\u001b[0;34m\u001b[0m\u001b[0m\n\u001b[1;32m     11\u001b[0m \u001b[0mprint\u001b[0m\u001b[0;34m(\u001b[0m\u001b[0maverage_nums\u001b[0m\u001b[0;34m(\u001b[0m\u001b[0;36m5\u001b[0m\u001b[0;34m)\u001b[0m\u001b[0;34m)\u001b[0m\u001b[0;34m\u001b[0m\u001b[0;34m\u001b[0m\u001b[0m\n\u001b[0;32m---> 12\u001b[0;31m \u001b[0mprint\u001b[0m\u001b[0;34m(\u001b[0m\u001b[0mnums\u001b[0m\u001b[0;34m)\u001b[0m\u001b[0;34m\u001b[0m\u001b[0;34m\u001b[0m\u001b[0m\n\u001b[0m\u001b[1;32m     13\u001b[0m \u001b[0mprint\u001b[0m\u001b[0;34m(\u001b[0m\u001b[0maverage_nums\u001b[0m\u001b[0;34m(\u001b[0m\u001b[0;36m15\u001b[0m\u001b[0;34m)\u001b[0m\u001b[0;34m)\u001b[0m\u001b[0;34m\u001b[0m\u001b[0;34m\u001b[0m\u001b[0m\n\u001b[1;32m     14\u001b[0m \u001b[0;34m\u001b[0m\u001b[0m\n",
      "\u001b[0;31mNameError\u001b[0m: name 'nums' is not defined"
     ]
    }
   ],
   "source": [
    "def average():\n",
    "    nums = []\n",
    "    \n",
    "    def inner_average(num):\n",
    "        nums.append(num)\n",
    "        return sum(nums) / len(nums)\n",
    "    return inner_average\n",
    "\n",
    "\n",
    "average_nums = average()\n",
    "print(average_nums(5))\n",
    "print(average_nums(15))\n",
    "\n"
   ]
  },
  {
   "cell_type": "code",
   "execution_count": null,
   "id": "8b14a31e-8120-4e58-8359-e1af81158dd4",
   "metadata": {},
   "outputs": [],
   "source": []
  }
 ],
 "metadata": {
  "kernelspec": {
   "display_name": "Python 3 (ipykernel)",
   "language": "python",
   "name": "python3"
  },
  "language_info": {
   "codemirror_mode": {
    "name": "ipython",
    "version": 3
   },
   "file_extension": ".py",
   "mimetype": "text/x-python",
   "name": "python",
   "nbconvert_exporter": "python",
   "pygments_lexer": "ipython3",
   "version": "3.9.13"
  }
 },
 "nbformat": 4,
 "nbformat_minor": 5
}
