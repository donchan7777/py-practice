{
 "cells": [
  {
   "cell_type": "code",
   "execution_count": 26,
   "id": "b457344e-7f37-49df-8e63-8dbb77874381",
   "metadata": {},
   "outputs": [],
   "source": [
    "class Person:\n",
    "    def __init__(self, name, age):\n",
    "        self.name = name\n",
    "        self._age = age\n",
    "    \n",
    "    @property\n",
    "    def age(self):\n",
    "        print(\"get_age called\")\n",
    "        return self._age\n",
    "    \n",
    "    @age.setter\n",
    "    def age(self, age):\n",
    "        if age < 0:\n",
    "            print(\"0以上の値をいれてください\")\n",
    "        else:\n",
    "            self._age = age\n",
    "    \n",
    "    # age = property(get_age, set_age)\n",
    "\n",
    "john = Person(\"J\", 10)"
   ]
  },
  {
   "cell_type": "code",
   "execution_count": 30,
   "id": "ff18528e-894f-40d8-8d0a-a4e0bbdac518",
   "metadata": {},
   "outputs": [
    {
     "name": "stdout",
     "output_type": "stream",
     "text": [
      "get_age called\n",
      "10\n",
      "0以上の値をいれてください\n",
      "get_age called\n",
      "10\n"
     ]
    }
   ],
   "source": [
    "print(john.age)\n",
    "john.age = -10\n",
    "print(john.age)"
   ]
  },
  {
   "cell_type": "code",
   "execution_count": null,
   "id": "21140732-8964-4f37-a9ab-79d7227f32bf",
   "metadata": {},
   "outputs": [],
   "source": []
  },
  {
   "cell_type": "code",
   "execution_count": null,
   "id": "fcd3bb04-8029-4906-9b8c-ec765e2ee7db",
   "metadata": {},
   "outputs": [],
   "source": []
  },
  {
   "cell_type": "code",
   "execution_count": null,
   "id": "1a22fe4e-1408-48a9-b52a-1be8a7311fbc",
   "metadata": {},
   "outputs": [],
   "source": []
  },
  {
   "cell_type": "code",
   "execution_count": null,
   "id": "e92a3d24-4ea4-408a-85ee-c3b6c33da268",
   "metadata": {},
   "outputs": [],
   "source": []
  },
  {
   "cell_type": "code",
   "execution_count": null,
   "id": "04c0da55-f3d3-4007-9422-3ab061dea2e8",
   "metadata": {},
   "outputs": [],
   "source": []
  }
 ],
 "metadata": {
  "kernelspec": {
   "display_name": "Python 3 (ipykernel)",
   "language": "python",
   "name": "python3"
  },
  "language_info": {
   "codemirror_mode": {
    "name": "ipython",
    "version": 3
   },
   "file_extension": ".py",
   "mimetype": "text/x-python",
   "name": "python",
   "nbconvert_exporter": "python",
   "pygments_lexer": "ipython3",
   "version": "3.9.13"
  }
 },
 "nbformat": 4,
 "nbformat_minor": 5
}
