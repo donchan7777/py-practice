{
 "cells": [
  {
   "cell_type": "code",
   "execution_count": 5,
   "id": "85ec65b4-4c8a-4341-a3ef-93ba2b377de3",
   "metadata": {},
   "outputs": [
    {
     "name": "stdout",
     "output_type": "stream",
     "text": [
      "{'title': 'S', 'GlossList': {'GlossEntry': {'ID': 'SGML', 'SortAs': 'SGML', 'GlossTerm': 'Standard Generalized Markup Language', 'Acronym': 'SGML', 'Abbrev': 'ISO 8879:1986', 'GlossDef': {'para': 'A meta-markup language, used to create markup languages such as DocBook.', 'GlossSeeAlso': ['GML', 'XML']}, 'GlossSee': 'markup'}}}\n"
     ]
    }
   ],
   "source": [
    "import json\n",
    "\n",
    "with open(\"example.json\") as f:\n",
    "    date = json.load(f)\n",
    "\n",
    "print(date[\"glossary\"][\"GlossDiv\"])"
   ]
  },
  {
   "cell_type": "code",
   "execution_count": 13,
   "id": "dc5d880e-6263-4025-9fa8-a9185ff777a4",
   "metadata": {},
   "outputs": [],
   "source": [
    "new_json = {\"key1\": \"value1\", \"key2\": (1, \"value2\")}\n",
    "with open(\"new_json\", \"w\") as f:\n",
    "    json.dump(new_json, f)"
   ]
  },
  {
   "cell_type": "code",
   "execution_count": 16,
   "id": "266fb443-6ffd-436f-93db-2fa9aa0f785b",
   "metadata": {},
   "outputs": [
    {
     "name": "stdout",
     "output_type": "stream",
     "text": [
      "[1, 'value2']\n"
     ]
    }
   ],
   "source": [
    "with open(\"new_json\", \"r\") as f:\n",
    "    new_json_reload = json.load(f)\n",
    "\n",
    "print(new_json_reload[\"key2\"])"
   ]
  },
  {
   "cell_type": "code",
   "execution_count": 18,
   "id": "2473bf62-7a88-429b-ab4a-2ab1cc349e49",
   "metadata": {},
   "outputs": [
    {
     "name": "stdout",
     "output_type": "stream",
     "text": [
      "<class 'str'>\n"
     ]
    }
   ],
   "source": [
    "json_str = json.dumps(new_json)\n",
    "print(type(json_str))"
   ]
  },
  {
   "cell_type": "code",
   "execution_count": 20,
   "id": "ebdfa403-0e79-4afe-8d93-3aa07a225328",
   "metadata": {},
   "outputs": [
    {
     "name": "stdout",
     "output_type": "stream",
     "text": [
      "<class 'dict'>\n"
     ]
    }
   ],
   "source": [
    "pyton_date = json.loads(json_str)\n",
    "print(type(pyton_date))"
   ]
  },
  {
   "cell_type": "code",
   "execution_count": null,
   "id": "85105d66-a65a-46f2-a134-bb62c1de94e9",
   "metadata": {},
   "outputs": [],
   "source": []
  }
 ],
 "metadata": {
  "kernelspec": {
   "display_name": "Python 3 (ipykernel)",
   "language": "python",
   "name": "python3"
  },
  "language_info": {
   "codemirror_mode": {
    "name": "ipython",
    "version": 3
   },
   "file_extension": ".py",
   "mimetype": "text/x-python",
   "name": "python",
   "nbconvert_exporter": "python",
   "pygments_lexer": "ipython3",
   "version": "3.9.13"
  }
 },
 "nbformat": 4,
 "nbformat_minor": 5
}
