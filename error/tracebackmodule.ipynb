{
 "cells": [
  {
   "cell_type": "code",
   "execution_count": 14,
   "id": "f201a9f0-78fc-40d3-844d-3565a5fbd578",
   "metadata": {},
   "outputs": [
    {
     "name": "stdin",
     "output_type": "stream",
     "text": [
      "割り勘する人数 0\n"
     ]
    },
    {
     "name": "stdout",
     "output_type": "stream",
     "text": [
      "0以外の数字を入力してください\n"
     ]
    }
   ],
   "source": [
    "import traceback\n",
    "\n",
    "def split_bill(price):\n",
    "    num = input(\"割り勘する人数\")\n",
    "    try:\n",
    "        each = price / int(num)\n",
    "    except ZeroDivisionError:\n",
    "        print(\"0以外の数字を入力してください\")\n",
    "    else:\n",
    "        print(f\"一人{each}です\")\n",
    "\n",
    "\n",
    "def check(bill):\n",
    "    total_bill = sum(bill.values())\n",
    "    try:\n",
    "        split_bill(total_bill)\n",
    "    except ValueError:\n",
    "        traceback.print_exc()\n",
    "        print(\"エラーがでました\")\n",
    "    \n",
    "    \n",
    "if __name__ == \"__main__\":\n",
    "    bill = {\"burger\": 500, \"pasta\": 1400 , \"fries\":300, \"egg\": 200}\n",
    "    check(bill)\n",
    "\n",
    "    \n"
   ]
  },
  {
   "cell_type": "code",
   "execution_count": null,
   "id": "732ed9f2-ff9c-46a7-939c-4e43f429d954",
   "metadata": {},
   "outputs": [],
   "source": []
  }
 ],
 "metadata": {
  "kernelspec": {
   "display_name": "Python 3 (ipykernel)",
   "language": "python",
   "name": "python3"
  },
  "language_info": {
   "codemirror_mode": {
    "name": "ipython",
    "version": 3
   },
   "file_extension": ".py",
   "mimetype": "text/x-python",
   "name": "python",
   "nbconvert_exporter": "python",
   "pygments_lexer": "ipython3",
   "version": "3.9.13"
  }
 },
 "nbformat": 4,
 "nbformat_minor": 5
}
