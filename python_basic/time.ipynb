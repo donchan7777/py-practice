{
 "cells": [
  {
   "cell_type": "markdown",
   "id": "ec822bd2-a8a9-4e0d-a310-49aaa789e91d",
   "metadata": {},
   "source": [
    "## time"
   ]
  },
  {
   "cell_type": "code",
   "execution_count": 1,
   "id": "c0852c9f-2769-48be-a9fb-016ccf96b264",
   "metadata": {},
   "outputs": [],
   "source": [
    "import time"
   ]
  },
  {
   "cell_type": "code",
   "execution_count": 3,
   "id": "f7df9d57-fc1f-4d36-b510-abf815255252",
   "metadata": {},
   "outputs": [
    {
     "name": "stdout",
     "output_type": "stream",
     "text": [
      "1673528363.627194\n"
     ]
    }
   ],
   "source": [
    "print(time.time())"
   ]
  },
  {
   "cell_type": "code",
   "execution_count": 4,
   "id": "b5d29390-5f4a-462d-930b-19679ce77fc5",
   "metadata": {},
   "outputs": [
    {
     "name": "stdout",
     "output_type": "stream",
     "text": [
      "53.067237271705146\n"
     ]
    }
   ],
   "source": [
    "print(time.time()/(60*60*24*365))"
   ]
  },
  {
   "cell_type": "code",
   "execution_count": 5,
   "id": "878ab984-97fe-4ede-8e6b-7f9ca759f796",
   "metadata": {},
   "outputs": [
    {
     "name": "stdout",
     "output_type": "stream",
     "text": [
      "0.00017833709716796875\n"
     ]
    }
   ],
   "source": [
    "before = time.time()\n",
    "\n",
    "after = time.time()\n",
    "print(after - before)"
   ]
  },
  {
   "cell_type": "code",
   "execution_count": 24,
   "id": "eb761261-eef1-4124-b35e-5fe6aaeca450",
   "metadata": {},
   "outputs": [
    {
     "name": "stdout",
     "output_type": "stream",
     "text": [
      "14930352\n",
      "fib 2.24sec.\n"
     ]
    }
   ],
   "source": [
    "from functools import lru_cache\n",
    "\n",
    "def fib(n):\n",
    "    if n < 2:\n",
    "        return n\n",
    "    else:\n",
    "        return fib(n-1) + fib(n-2)\n",
    "    \n",
    "\n",
    "before = time.time()\n",
    "print(fib(36))\n",
    "after = time.time()   \n",
    "print(f\"fib {after - before:.2f}sec.\")"
   ]
  },
  {
   "cell_type": "code",
   "execution_count": 32,
   "id": "56c9a8f6-3820-4ad9-8b6a-bff597c646b1",
   "metadata": {},
   "outputs": [
    {
     "name": "stdout",
     "output_type": "stream",
     "text": [
      "Thu Jan 12 13:11:22 2023\n",
      "time.struct_time(tm_year=2023, tm_mon=1, tm_mday=12, tm_hour=13, tm_min=11, tm_sec=22, tm_wday=3, tm_yday=12, tm_isdst=0)\n"
     ]
    }
   ],
   "source": [
    "print(time.ctime())\n",
    "localtime = time.localtime()\n",
    "print(localtime)"
   ]
  },
  {
   "cell_type": "code",
   "execution_count": 33,
   "id": "7eed15fd-ccaf-4d63-95e1-2b75f4367311",
   "metadata": {},
   "outputs": [
    {
     "name": "stdout",
     "output_type": "stream",
     "text": [
      "now 2023\n"
     ]
    }
   ],
   "source": [
    "print(f\"now {localtime.tm_year}\")"
   ]
  },
  {
   "cell_type": "code",
   "execution_count": 39,
   "id": "a72c420e-2ca7-490f-a630-f36200307bb4",
   "metadata": {},
   "outputs": [
    {
     "name": "stdout",
     "output_type": "stream",
     "text": [
      "hard\n",
      "finish\n",
      "lazy_func took 4.01 sec\n"
     ]
    }
   ],
   "source": [
    "def timer(func):\n",
    "    def inner(*args, **kwargs):\n",
    "        before = time.time()\n",
    "        func(*args, **kwargs)\n",
    "        after = time.time()\n",
    "        print(f\"{func.__name__} took {after-before:.2f} sec\")\n",
    "    return inner\n",
    "\n",
    "\n",
    "@timer\n",
    "def lazy_func(sec):\n",
    "    print(f\"hard\")\n",
    "    time.sleep(sec)\n",
    "    print(f\"finish\")\n",
    "\n",
    "lazy_func(4)"
   ]
  },
  {
   "cell_type": "code",
   "execution_count": null,
   "id": "c7a63dd0-7d00-4bf3-ac21-c895aca4699e",
   "metadata": {},
   "outputs": [],
   "source": []
  }
 ],
 "metadata": {
  "kernelspec": {
   "display_name": "Python 3 (ipykernel)",
   "language": "python",
   "name": "python3"
  },
  "language_info": {
   "codemirror_mode": {
    "name": "ipython",
    "version": 3
   },
   "file_extension": ".py",
   "mimetype": "text/x-python",
   "name": "python",
   "nbconvert_exporter": "python",
   "pygments_lexer": "ipython3",
   "version": "3.9.13"
  }
 },
 "nbformat": 4,
 "nbformat_minor": 5
}
