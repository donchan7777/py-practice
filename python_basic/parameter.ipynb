{
 "cells": [
  {
   "cell_type": "markdown",
   "id": "cf7f5e75-acf2-45d3-9ca6-765bb2d0d5fb",
   "metadata": {},
   "source": [
    "# parameter"
   ]
  },
  {
   "cell_type": "code",
   "execution_count": 5,
   "id": "8d8014a5-a118-47f6-8193-c67087f2f3cd",
   "metadata": {},
   "outputs": [
    {
     "name": "stdout",
     "output_type": "stream",
     "text": [
      "first: 1, second: 2, third: 3\n"
     ]
    }
   ],
   "source": [
    "def func(first, second, third=\"3\"):\n",
    "    print(f\"first: {first}, second: {second}, third: {third}\")\n",
    "\n",
    "\n",
    "func(\"1\", \"2\")\n",
    "\n",
    "# func(\"1\", third= \"3\", second= \"2\")"
   ]
  },
  {
   "cell_type": "code",
   "execution_count": null,
   "id": "2c0416c8-0b4a-4a8c-b589-afc091b71b05",
   "metadata": {},
   "outputs": [],
   "source": []
  },
  {
   "cell_type": "code",
   "execution_count": null,
   "id": "af50645c-b53e-4ea0-a39b-aec01edc5734",
   "metadata": {},
   "outputs": [],
   "source": []
  },
  {
   "cell_type": "code",
   "execution_count": null,
   "id": "01218e43-1901-4656-8a64-fffb97ebfc62",
   "metadata": {},
   "outputs": [],
   "source": []
  },
  {
   "cell_type": "code",
   "execution_count": null,
   "id": "eba0230a-2a5f-4968-b80b-670763847d35",
   "metadata": {},
   "outputs": [],
   "source": []
  },
  {
   "cell_type": "code",
   "execution_count": null,
   "id": "8cdaf18c-2ab2-4426-b705-869409c1cb5e",
   "metadata": {},
   "outputs": [],
   "source": []
  },
  {
   "cell_type": "code",
   "execution_count": null,
   "id": "7c092175-8a29-4d64-948a-12728285db6f",
   "metadata": {},
   "outputs": [],
   "source": []
  },
  {
   "cell_type": "code",
   "execution_count": null,
   "id": "6c991871-e231-4975-96ab-4cc540bf3584",
   "metadata": {},
   "outputs": [],
   "source": []
  }
 ],
 "metadata": {
  "kernelspec": {
   "display_name": "Python 3 (ipykernel)",
   "language": "python",
   "name": "python3"
  },
  "language_info": {
   "codemirror_mode": {
    "name": "ipython",
    "version": 3
   },
   "file_extension": ".py",
   "mimetype": "text/x-python",
   "name": "python",
   "nbconvert_exporter": "python",
   "pygments_lexer": "ipython3",
   "version": "3.9.13"
  }
 },
 "nbformat": 4,
 "nbformat_minor": 5
}
