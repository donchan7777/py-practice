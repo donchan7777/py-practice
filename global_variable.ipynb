{
 "cells": [
  {
   "cell_type": "code",
   "execution_count": 2,
   "id": "c23ae534-d051-4ac6-87ea-dacd09dfeec6",
   "metadata": {},
   "outputs": [
    {
     "name": "stdout",
     "output_type": "stream",
     "text": [
      "1:1\n"
     ]
    }
   ],
   "source": [
    "call_count = 0\n",
    "\n",
    "\n",
    "def print_count1():\n",
    "    global call_count\n",
    "    call_count += 1\n",
    "    print(f\"1:{call_count}\")\n",
    "\n",
    "print_count1()"
   ]
  },
  {
   "cell_type": "code",
   "execution_count": null,
   "id": "f2fc6596-6153-4e5f-a297-b7b403e322de",
   "metadata": {},
   "outputs": [],
   "source": []
  }
 ],
 "metadata": {
  "kernelspec": {
   "display_name": "Python 3 (ipykernel)",
   "language": "python",
   "name": "python3"
  },
  "language_info": {
   "codemirror_mode": {
    "name": "ipython",
    "version": 3
   },
   "file_extension": ".py",
   "mimetype": "text/x-python",
   "name": "python",
   "nbconvert_exporter": "python",
   "pygments_lexer": "ipython3",
   "version": "3.9.13"
  }
 },
 "nbformat": 4,
 "nbformat_minor": 5
}
