{
 "cells": [
  {
   "cell_type": "markdown",
   "id": "cb2ef924-0a24-4fdf-9c20-1d9763b6e3d9",
   "metadata": {
    "tags": []
   },
   "source": [
    "## NumPy"
   ]
  },
  {
   "cell_type": "code",
   "execution_count": 2,
   "id": "bdaa07ad-2a18-4166-9b19-ebd17448022c",
   "metadata": {},
   "outputs": [],
   "source": [
    "import numpy as np"
   ]
  },
  {
   "cell_type": "code",
   "execution_count": 3,
   "id": "1193a18c-04cb-43aa-a1b3-47359333e78e",
   "metadata": {},
   "outputs": [
    {
     "data": {
      "text/plain": [
       "'/opt/anaconda3/lib/python3.9/site-packages/numpy/__init__.py'"
      ]
     },
     "execution_count": 3,
     "metadata": {},
     "output_type": "execute_result"
    }
   ],
   "source": [
    "np.__file__"
   ]
  },
  {
   "cell_type": "code",
   "execution_count": 4,
   "id": "16ac842c-dccc-4103-beda-78283bf55b98",
   "metadata": {},
   "outputs": [
    {
     "data": {
      "text/plain": [
       "array([1, 2, 3])"
      ]
     },
     "execution_count": 4,
     "metadata": {},
     "output_type": "execute_result"
    }
   ],
   "source": [
    "np.array([1, 2, 3])"
   ]
  },
  {
   "cell_type": "code",
   "execution_count": 9,
   "id": "c8fa4ebc-7a35-45e5-9ece-99e1a96f0994",
   "metadata": {},
   "outputs": [],
   "source": [
    "matrix = np.array([[1, 2, 3], [4, 5, 6], [7, 8, 9]])"
   ]
  },
  {
   "cell_type": "code",
   "execution_count": 12,
   "id": "865f9a11-65ca-46a1-aa9a-6a15bcdfa1ab",
   "metadata": {},
   "outputs": [
    {
     "data": {
      "text/plain": [
       "numpy.int64"
      ]
     },
     "execution_count": 12,
     "metadata": {},
     "output_type": "execute_result"
    }
   ],
   "source": [
    "type(matrix[0][0])"
   ]
  },
  {
   "cell_type": "code",
   "execution_count": 16,
   "id": "49952292-b278-4d91-9f38-c862c0dabc22",
   "metadata": {},
   "outputs": [],
   "source": [
    "ndarray = np.array([1, 2, 3], dtype=np.uint8)"
   ]
  },
  {
   "cell_type": "code",
   "execution_count": 18,
   "id": "9c4bd15f-1efb-4802-ab3c-e32c4481082c",
   "metadata": {},
   "outputs": [
    {
     "data": {
      "text/plain": [
       "array([1., 2., 3.])"
      ]
     },
     "execution_count": 18,
     "metadata": {},
     "output_type": "execute_result"
    }
   ],
   "source": [
    "ndarray.astype(np.float64)"
   ]
  },
  {
   "cell_type": "markdown",
   "id": "5637ca4a-5c7e-4930-8a36-0b714d73f0a6",
   "metadata": {},
   "source": [
    "## ndarrayの演算"
   ]
  },
  {
   "cell_type": "code",
   "execution_count": 27,
   "id": "589cde93-ea44-43e5-83c0-27e749a5417c",
   "metadata": {},
   "outputs": [],
   "source": [
    "array1 = np.array([[1, 2, 3]])\n",
    "array2 = np.array([[1, 2, 3], [4, 5, 6], [7, 8, 9]])\n",
    "array3 = np.array([[1, 2, 3], [1, 2, 3], [1, 2, 3]])"
   ]
  },
  {
   "cell_type": "code",
   "execution_count": 24,
   "id": "451d1f03-a794-401c-9dd7-a421759c8e31",
   "metadata": {},
   "outputs": [
    {
     "data": {
      "text/plain": [
       "array([[ 2,  4,  6],\n",
       "       [ 8, 10, 12],\n",
       "       [14, 16, 18]])"
      ]
     },
     "execution_count": 24,
     "metadata": {},
     "output_type": "execute_result"
    }
   ],
   "source": [
    "array1 + array2"
   ]
  },
  {
   "cell_type": "code",
   "execution_count": 28,
   "id": "a9c5b239-a0cd-4724-a7b5-f0bb2356a436",
   "metadata": {},
   "outputs": [
    {
     "data": {
      "text/plain": [
       "array([[1, 2, 3]])"
      ]
     },
     "execution_count": 28,
     "metadata": {},
     "output_type": "execute_result"
    }
   ],
   "source": [
    "array1"
   ]
  },
  {
   "cell_type": "code",
   "execution_count": 29,
   "id": "bea5c5ab-9525-4d44-bb60-7fe8c3188693",
   "metadata": {},
   "outputs": [
    {
     "data": {
      "text/plain": [
       "array([[1, 2, 3],\n",
       "       [4, 5, 6],\n",
       "       [7, 8, 9]])"
      ]
     },
     "execution_count": 29,
     "metadata": {},
     "output_type": "execute_result"
    }
   ],
   "source": [
    "array2"
   ]
  },
  {
   "cell_type": "code",
   "execution_count": 30,
   "id": "2e2c97d3-d8f4-414d-b1af-c5497315affd",
   "metadata": {},
   "outputs": [
    {
     "data": {
      "text/plain": [
       "array([[1, 2, 3],\n",
       "       [1, 2, 3],\n",
       "       [1, 2, 3]])"
      ]
     },
     "execution_count": 30,
     "metadata": {},
     "output_type": "execute_result"
    }
   ],
   "source": [
    "array3"
   ]
  },
  {
   "cell_type": "markdown",
   "id": "b8764806-b2fb-43d3-bc4b-f935be9ca620",
   "metadata": {
    "tags": []
   },
   "source": [
    "## Shape"
   ]
  },
  {
   "cell_type": "code",
   "execution_count": 39,
   "id": "88a4b071-315b-4833-b937-6ff890f5419b",
   "metadata": {},
   "outputs": [],
   "source": [
    "array1 = np.array([[1, 2, 3]])\n",
    "array2 = np.array([[1, 2, 3], [4, 5, 6], [7, 8, 9]])\n"
   ]
  },
  {
   "cell_type": "code",
   "execution_count": 32,
   "id": "c8f157fe-032d-4775-85f9-3d0b2863a5ee",
   "metadata": {},
   "outputs": [
    {
     "data": {
      "text/plain": [
       "array([[1, 2, 3]])"
      ]
     },
     "execution_count": 32,
     "metadata": {},
     "output_type": "execute_result"
    }
   ],
   "source": [
    "array1"
   ]
  },
  {
   "cell_type": "code",
   "execution_count": 33,
   "id": "b03c5862-9447-437c-8874-a6568a2ad5d5",
   "metadata": {},
   "outputs": [
    {
     "data": {
      "text/plain": [
       "array([[1, 2, 3],\n",
       "       [4, 5, 6],\n",
       "       [7, 8, 9]])"
      ]
     },
     "execution_count": 33,
     "metadata": {},
     "output_type": "execute_result"
    }
   ],
   "source": [
    "array2"
   ]
  },
  {
   "cell_type": "code",
   "execution_count": 40,
   "id": "bdcb4768-e2f7-40b7-923c-b9206523ebf9",
   "metadata": {},
   "outputs": [
    {
     "data": {
      "text/plain": [
       "array([[ 2,  4,  6],\n",
       "       [ 5,  7,  9],\n",
       "       [ 8, 10, 12]])"
      ]
     },
     "execution_count": 40,
     "metadata": {},
     "output_type": "execute_result"
    }
   ],
   "source": [
    "array1 + array2"
   ]
  },
  {
   "cell_type": "code",
   "execution_count": 41,
   "id": "ae72544d-2150-4805-a005-9162ec6c164a",
   "metadata": {},
   "outputs": [
    {
     "data": {
      "text/plain": [
       "(3, 2)"
      ]
     },
     "execution_count": 41,
     "metadata": {},
     "output_type": "execute_result"
    }
   ],
   "source": [
    "ndarray = np.array([[1, 2],[3, 4], [5, 6]])\n",
    "ndarray.shape"
   ]
  },
  {
   "cell_type": "code",
   "execution_count": 42,
   "id": "e6d4941e-f196-438d-a1b2-bb5224734b9e",
   "metadata": {},
   "outputs": [
    {
     "data": {
      "text/plain": [
       "array([[1, 2, 3],\n",
       "       [4, 5, 6]])"
      ]
     },
     "execution_count": 42,
     "metadata": {},
     "output_type": "execute_result"
    }
   ],
   "source": [
    "ndarray.reshape(2,3)"
   ]
  },
  {
   "cell_type": "code",
   "execution_count": 43,
   "id": "8b518f43-8d58-4174-b3bd-468189ca1ebd",
   "metadata": {},
   "outputs": [
    {
     "data": {
      "text/plain": [
       "array([[1, 2],\n",
       "       [3, 4],\n",
       "       [5, 6]])"
      ]
     },
     "execution_count": 43,
     "metadata": {},
     "output_type": "execute_result"
    }
   ],
   "source": [
    "ndarray"
   ]
  },
  {
   "cell_type": "code",
   "execution_count": 47,
   "id": "45a40d53-10d1-45b0-8c87-c1b790109a92",
   "metadata": {},
   "outputs": [],
   "source": [
    "array1 = np.array([1, 2, 3])"
   ]
  },
  {
   "cell_type": "code",
   "execution_count": 49,
   "id": "4077ec36-0e2c-4dfa-aea1-a09c2454f087",
   "metadata": {},
   "outputs": [
    {
     "data": {
      "text/plain": [
       "array([[1, 2, 3]])"
      ]
     },
     "execution_count": 49,
     "metadata": {},
     "output_type": "execute_result"
    }
   ],
   "source": [
    "np.expand_dims(array1, axis=0)"
   ]
  },
  {
   "cell_type": "markdown",
   "id": "e49953ff-a9f9-4afd-851f-f75a698c0996",
   "metadata": {},
   "source": [
    "## np.randomを使って乱数生成"
   ]
  },
  {
   "cell_type": "code",
   "execution_count": 44,
   "id": "2d67e460-e426-44e4-a451-a3cd16d6509f",
   "metadata": {},
   "outputs": [
    {
     "data": {
      "text/plain": [
       "array([[0.32151654, 0.31412053, 0.25541652, 0.16486848],\n",
       "       [0.11557269, 0.20308162, 0.80396119, 0.86309252],\n",
       "       [0.94917339, 0.70222378, 0.59737397, 0.25765188]])"
      ]
     },
     "execution_count": 44,
     "metadata": {},
     "output_type": "execute_result"
    }
   ],
   "source": [
    "np.random.rand(3, 4)"
   ]
  },
  {
   "cell_type": "code",
   "execution_count": 53,
   "id": "4b126fc9-a041-48c0-ab45-293da0ce64b0",
   "metadata": {},
   "outputs": [
    {
     "data": {
      "text/plain": [
       "0.417022004702574"
      ]
     },
     "execution_count": 53,
     "metadata": {},
     "output_type": "execute_result"
    }
   ],
   "source": [
    "np.random.seed(1)\n",
    "np.random.rand()"
   ]
  },
  {
   "cell_type": "code",
   "execution_count": 60,
   "id": "082f20f2-1f00-4809-b2d3-8fbf078a57e1",
   "metadata": {},
   "outputs": [
    {
     "data": {
      "text/plain": [
       "-0.5281717522634557"
      ]
     },
     "execution_count": 60,
     "metadata": {},
     "output_type": "execute_result"
    }
   ],
   "source": [
    "np.random.randn()"
   ]
  },
  {
   "cell_type": "code",
   "execution_count": 61,
   "id": "b6df05f5-4504-4a9e-8490-1063b32768fd",
   "metadata": {},
   "outputs": [
    {
     "data": {
      "text/plain": [
       "-1.0729686221561705"
      ]
     },
     "execution_count": 61,
     "metadata": {},
     "output_type": "execute_result"
    }
   ],
   "source": [
    "np.random.normal()"
   ]
  },
  {
   "cell_type": "code",
   "execution_count": 64,
   "id": "24ba2e8a-e9a9-4969-8874-1ffe56cc1cce",
   "metadata": {},
   "outputs": [
    {
     "data": {
      "text/plain": [
       "array([[16, 35, 60],\n",
       "       [30, 28, 94]])"
      ]
     },
     "execution_count": 64,
     "metadata": {},
     "output_type": "execute_result"
    }
   ],
   "source": [
    "np.random.randint(10, 100, (2 ,3))"
   ]
  },
  {
   "cell_type": "code",
   "execution_count": 67,
   "id": "2f9fe1f7-6860-488b-91ff-4751b7f9ea56",
   "metadata": {},
   "outputs": [
    {
     "data": {
      "text/plain": [
       "1"
      ]
     },
     "execution_count": 67,
     "metadata": {},
     "output_type": "execute_result"
    }
   ],
   "source": [
    "a = [1, 2, 3]\n",
    "np.random.choice(a)"
   ]
  },
  {
   "cell_type": "code",
   "execution_count": 69,
   "id": "5f27969f-6cc7-4f45-83e9-97aaad302783",
   "metadata": {},
   "outputs": [
    {
     "data": {
      "text/plain": [
       "array([0, 2, 4, 6, 8])"
      ]
     },
     "execution_count": 69,
     "metadata": {},
     "output_type": "execute_result"
    }
   ],
   "source": [
    "index_pool = np.arange(0, 10, 2)\n",
    "index_pool"
   ]
  },
  {
   "cell_type": "code",
   "execution_count": 70,
   "id": "f4c7aa0a-3b7f-4dde-a8c4-35623de74d37",
   "metadata": {},
   "outputs": [
    {
     "data": {
      "text/plain": [
       "4"
      ]
     },
     "execution_count": 70,
     "metadata": {},
     "output_type": "execute_result"
    }
   ],
   "source": [
    "np.random.choice(index_pool)"
   ]
  },
  {
   "cell_type": "markdown",
   "id": "f59ff388-493e-49f3-9032-035cb4821e67",
   "metadata": {},
   "source": [
    "##　統計量を求める"
   ]
  },
  {
   "cell_type": "code",
   "execution_count": 74,
   "id": "69a046f6-dd31-418e-a603-eadd8414d3ab",
   "metadata": {},
   "outputs": [
    {
     "data": {
      "text/plain": [
       "array([[ 3.80610804e-01, -7.47766359e-01, -1.31767750e+00,\n",
       "         1.33291008e+00, -6.84540250e-01],\n",
       "       [ 1.25598233e+00,  4.96726354e-01,  3.29275803e-01,\n",
       "        -1.18990846e-03, -3.07292625e-01],\n",
       "       [-1.83536999e-01, -5.52975151e-01, -1.55712804e-01,\n",
       "         5.72392274e-01,  7.59955476e-01],\n",
       "       [ 7.35681993e-01,  1.01389243e+00, -7.38431181e-01,\n",
       "         2.57706672e-01, -1.13745173e+00],\n",
       "       [ 1.57814135e+00, -1.75110568e-01, -1.72908882e+00,\n",
       "        -2.44074475e-01,  1.93079609e-01]])"
      ]
     },
     "execution_count": 74,
     "metadata": {},
     "output_type": "execute_result"
    }
   ],
   "source": [
    "std_norm = np.random.randn(5, 5)\n",
    "std_norm"
   ]
  },
  {
   "cell_type": "code",
   "execution_count": 75,
   "id": "9a2235d5-d71a-444b-8ae6-22304c1b5a6c",
   "metadata": {},
   "outputs": [
    {
     "data": {
      "text/plain": [
       "1.5781413451795898"
      ]
     },
     "execution_count": 75,
     "metadata": {},
     "output_type": "execute_result"
    }
   ],
   "source": [
    "std_norm.max()"
   ]
  },
  {
   "cell_type": "code",
   "execution_count": 77,
   "id": "50319fdd-bb08-49d8-b70f-603ea000418a",
   "metadata": {},
   "outputs": [
    {
     "data": {
      "text/plain": [
       "-1.7290888221556728"
      ]
     },
     "execution_count": 77,
     "metadata": {},
     "output_type": "execute_result"
    }
   ],
   "source": [
    "std_norm.min()"
   ]
  },
  {
   "cell_type": "code",
   "execution_count": 78,
   "id": "44b0d69d-19bd-4c97-872d-6f080113f40f",
   "metadata": {},
   "outputs": [
    {
     "data": {
      "text/plain": [
       "20"
      ]
     },
     "execution_count": 78,
     "metadata": {},
     "output_type": "execute_result"
    }
   ],
   "source": [
    "std_norm.argmax()"
   ]
  },
  {
   "cell_type": "code",
   "execution_count": 79,
   "id": "796b7c2a-f54e-4826-8843-762bed52e515",
   "metadata": {},
   "outputs": [
    {
     "data": {
      "text/plain": [
       "1.5781413451795898"
      ]
     },
     "execution_count": 79,
     "metadata": {},
     "output_type": "execute_result"
    }
   ],
   "source": [
    "std_norm.flatten()[20]"
   ]
  },
  {
   "cell_type": "code",
   "execution_count": 87,
   "id": "00b756b5-1f08-4b35-ada0-8675641314b7",
   "metadata": {},
   "outputs": [
    {
     "name": "stdout",
     "output_type": "stream",
     "text": [
      "median took 0.012167692184448242 sec\n",
      "mean took 0.00027108192443847656 sec\n"
     ]
    }
   ],
   "source": [
    "import time\n",
    "a = np.random.randn(1000, 1000)\n",
    "before = time.time()\n",
    "np.median(a)\n",
    "after_median = time.time()\n",
    "np.mean(a)\n",
    "after_mean = time.time()\n",
    "print('median took {} sec'.format(after_median - before))\n",
    "print('mean took {} sec'.format(after_mean - after_median))\n"
   ]
  },
  {
   "cell_type": "code",
   "execution_count": 89,
   "id": "1ac18adf-649b-4a60-ade4-b9aa689596e4",
   "metadata": {},
   "outputs": [
    {
     "data": {
      "text/plain": [
       "array([1.33291008, 1.25598233, 0.75995548, 1.01389243, 1.57814135])"
      ]
     },
     "execution_count": 89,
     "metadata": {},
     "output_type": "execute_result"
    }
   ],
   "source": [
    "std_norm.max(axis=1)"
   ]
  },
  {
   "cell_type": "markdown",
   "id": "20bd2c4e-20a6-4c60-8e65-97f77c995d83",
   "metadata": {},
   "source": [
    "## 数学で使う便利変数"
   ]
  },
  {
   "cell_type": "code",
   "execution_count": 90,
   "id": "7442fcb7-68a1-406d-9085-0c15a15a2d81",
   "metadata": {},
   "outputs": [
    {
     "data": {
      "text/plain": [
       "array([1.        , 1.41421356, 1.73205081, 2.        ])"
      ]
     },
     "execution_count": 90,
     "metadata": {},
     "output_type": "execute_result"
    }
   ],
   "source": [
    "np.sqrt([1, 2, 3,4 ])"
   ]
  },
  {
   "cell_type": "code",
   "execution_count": 95,
   "id": "357f174c-6d2b-4156-bcb0-b10bd1755421",
   "metadata": {},
   "outputs": [
    {
     "data": {
      "text/plain": [
       "array([0.        , 0.69314718, 1.09861229, 1.38629436, 1.60943791,\n",
       "       1.79175947, 1.94591015, 2.07944154, 2.19722458, 2.30258509])"
      ]
     },
     "execution_count": 95,
     "metadata": {},
     "output_type": "execute_result"
    }
   ],
   "source": [
    "x = np.linspace(1, 10 , 10)\n",
    "np.log(x)"
   ]
  },
  {
   "cell_type": "code",
   "execution_count": 98,
   "id": "3efd3e0d-8ab6-402d-98bb-42756ab4e309",
   "metadata": {},
   "outputs": [
    {
     "data": {
      "text/plain": [
       "array([2.71828183e+00, 7.38905610e+00, 2.00855369e+01, 5.45981500e+01,\n",
       "       1.48413159e+02, 4.03428793e+02, 1.09663316e+03, 2.98095799e+03,\n",
       "       8.10308393e+03, 2.20264658e+04])"
      ]
     },
     "execution_count": 98,
     "metadata": {},
     "output_type": "execute_result"
    }
   ],
   "source": [
    "np.exp(x)"
   ]
  },
  {
   "cell_type": "code",
   "execution_count": 99,
   "id": "68d241ab-73d9-4fd5-bba6-dc5aa2ba5fc8",
   "metadata": {},
   "outputs": [
    {
     "data": {
      "text/plain": [
       "2.718281828459045"
      ]
     },
     "execution_count": 99,
     "metadata": {},
     "output_type": "execute_result"
    }
   ],
   "source": [
    "np.e"
   ]
  },
  {
   "cell_type": "code",
   "execution_count": 102,
   "id": "8d85d175-6ee1-45a0-b50b-001c86dac975",
   "metadata": {},
   "outputs": [
    {
     "data": {
      "text/plain": [
       "6"
      ]
     },
     "execution_count": 102,
     "metadata": {},
     "output_type": "execute_result"
    }
   ],
   "source": [
    "array = np.arange(1, 11)\n",
    "np.sum([1, 2, 3])"
   ]
  },
  {
   "cell_type": "code",
   "execution_count": 105,
   "id": "8aaf2277-7a99-40e5-9270-ed5722e2b6a9",
   "metadata": {},
   "outputs": [
    {
     "data": {
      "text/plain": [
       "array([[ 1,  2,  3,  4,  5],\n",
       "       [ 6,  7,  8,  9, 10]])"
      ]
     },
     "execution_count": 105,
     "metadata": {},
     "output_type": "execute_result"
    }
   ],
   "source": [
    "ndarray = array.reshape(2, 5)\n",
    "ndarray"
   ]
  },
  {
   "cell_type": "code",
   "execution_count": 106,
   "id": "6a6d6bad-8b13-4dc0-b3f9-3f650b14d006",
   "metadata": {},
   "outputs": [
    {
     "data": {
      "text/plain": [
       "array([15, 40])"
      ]
     },
     "execution_count": 106,
     "metadata": {},
     "output_type": "execute_result"
    }
   ],
   "source": [
    "np.sum(ndarray, axis=1)"
   ]
  },
  {
   "cell_type": "code",
   "execution_count": 107,
   "id": "7751f0cc-e140-4520-b62b-da5797def45f",
   "metadata": {},
   "outputs": [],
   "source": [
    "array = np.arange(-10, 0)"
   ]
  },
  {
   "cell_type": "code",
   "execution_count": 109,
   "id": "8bbc1bc6-034f-4947-9648-595cd75c6b59",
   "metadata": {},
   "outputs": [
    {
     "data": {
      "text/plain": [
       "array([10,  9,  8,  7,  6,  5,  4,  3,  2,  1])"
      ]
     },
     "execution_count": 109,
     "metadata": {},
     "output_type": "execute_result"
    }
   ],
   "source": [
    "np.abs(array)"
   ]
  },
  {
   "cell_type": "markdown",
   "id": "44b06d9b-e8bd-41a3-a825-c0c685ea65e1",
   "metadata": {},
   "source": [
    "## np.nanとnp.isnan()"
   ]
  },
  {
   "cell_type": "code",
   "execution_count": 110,
   "id": "74bcde17-2f89-4938-9aa8-51e3349f7faf",
   "metadata": {},
   "outputs": [
    {
     "name": "stderr",
     "output_type": "stream",
     "text": [
      "/tmp/ipykernel_25/60392587.py:1: RuntimeWarning: invalid value encountered in log\n",
      "  np.log(-100)\n"
     ]
    },
    {
     "data": {
      "text/plain": [
       "nan"
      ]
     },
     "execution_count": 110,
     "metadata": {},
     "output_type": "execute_result"
    }
   ],
   "source": [
    "np.log(-100)"
   ]
  },
  {
   "cell_type": "code",
   "execution_count": 112,
   "id": "09431cf6-db0c-48c1-ab5c-e667b05ae45e",
   "metadata": {},
   "outputs": [
    {
     "data": {
      "text/plain": [
       "float"
      ]
     },
     "execution_count": 112,
     "metadata": {},
     "output_type": "execute_result"
    }
   ],
   "source": [
    "type(np.nan)"
   ]
  },
  {
   "cell_type": "code",
   "execution_count": 113,
   "id": "98792105-1f04-49de-bc62-8257e1bf3709",
   "metadata": {},
   "outputs": [
    {
     "data": {
      "text/plain": [
       "True"
      ]
     },
     "execution_count": 113,
     "metadata": {},
     "output_type": "execute_result"
    }
   ],
   "source": [
    "a = None\n",
    "a is None"
   ]
  },
  {
   "cell_type": "code",
   "execution_count": 114,
   "id": "e13c4aee-f87f-4938-b624-bbd924479651",
   "metadata": {},
   "outputs": [
    {
     "name": "stderr",
     "output_type": "stream",
     "text": [
      "/tmp/ipykernel_25/473003783.py:1: RuntimeWarning: invalid value encountered in log\n",
      "  np.isnan(np.log(-100))\n"
     ]
    },
    {
     "data": {
      "text/plain": [
       "True"
      ]
     },
     "execution_count": 114,
     "metadata": {},
     "output_type": "execute_result"
    }
   ],
   "source": [
    "np.isnan(np.log(-100))"
   ]
  },
  {
   "cell_type": "markdown",
   "id": "d791b5e6-06b9-49e5-a6f2-9438e6140f58",
   "metadata": {},
   "source": [
    "## そのほか便利関数"
   ]
  },
  {
   "cell_type": "code",
   "execution_count": 115,
   "id": "a5c0c462-ec82-4eb8-8d94-8742f4955742",
   "metadata": {},
   "outputs": [
    {
     "data": {
      "text/plain": [
       "array([0, 1, 2, 3, 4, 5, 6, 7, 8, 9])"
      ]
     },
     "execution_count": 115,
     "metadata": {},
     "output_type": "execute_result"
    }
   ],
   "source": [
    "array = np.arange(10)\n",
    "array"
   ]
  },
  {
   "cell_type": "code",
   "execution_count": 118,
   "id": "42b07498-a836-4cec-9e80-26f8a5af3041",
   "metadata": {},
   "outputs": [
    {
     "data": {
      "text/plain": [
       "array([3, 3, 3, 3, 4, 5, 6, 7, 7, 7])"
      ]
     },
     "execution_count": 118,
     "metadata": {},
     "output_type": "execute_result"
    }
   ],
   "source": [
    "np.clip(array, 3 , 7)"
   ]
  },
  {
   "cell_type": "code",
   "execution_count": 120,
   "id": "86f0946b-efb0-4534-81c6-0aff358bd6fb",
   "metadata": {},
   "outputs": [
    {
     "data": {
      "text/plain": [
       "0.0001"
      ]
     },
     "execution_count": 120,
     "metadata": {},
     "output_type": "execute_result"
    }
   ],
   "source": [
    "1e-4"
   ]
  },
  {
   "cell_type": "code",
   "execution_count": 121,
   "id": "31f5c23d-82e1-403a-bf1c-f2ac6f06bd48",
   "metadata": {},
   "outputs": [
    {
     "data": {
      "text/plain": [
       "array([0, 1, 2, 3, 4, 5, 6, 7, 8, 9])"
      ]
     },
     "execution_count": 121,
     "metadata": {},
     "output_type": "execute_result"
    }
   ],
   "source": [
    "array"
   ]
  },
  {
   "cell_type": "code",
   "execution_count": 123,
   "id": "f7924ea8-b81c-4864-9563-51f9a88865ea",
   "metadata": {},
   "outputs": [
    {
     "data": {
      "text/plain": [
       "array([0, 0, 0, 0, 1, 1, 1, 1, 1, 1])"
      ]
     },
     "execution_count": 123,
     "metadata": {},
     "output_type": "execute_result"
    }
   ],
   "source": [
    "np.where(array > 3, 1, 0)"
   ]
  },
  {
   "cell_type": "code",
   "execution_count": 124,
   "id": "c4b78e74-d9fc-4b78-9506-97f62d3ad667",
   "metadata": {},
   "outputs": [
    {
     "data": {
      "text/plain": [
       "(array([4, 5, 6, 7, 8, 9]),)"
      ]
     },
     "execution_count": 124,
     "metadata": {},
     "output_type": "execute_result"
    }
   ],
   "source": [
    "np.where(array > 3)"
   ]
  },
  {
   "cell_type": "code",
   "execution_count": 125,
   "id": "3d67c8b4-b1ab-453d-88db-d1bb158ccf0c",
   "metadata": {},
   "outputs": [
    {
     "data": {
      "text/plain": [
       "array([False, False, False, False,  True,  True,  True,  True,  True,\n",
       "        True])"
      ]
     },
     "execution_count": 125,
     "metadata": {},
     "output_type": "execute_result"
    }
   ],
   "source": [
    "array > 3"
   ]
  },
  {
   "cell_type": "code",
   "execution_count": 129,
   "id": "f1d6a496-f8e8-4441-986c-728b196f1278",
   "metadata": {},
   "outputs": [
    {
     "data": {
      "text/plain": [
       "array([4, 5, 6, 7, 8, 9])"
      ]
     },
     "execution_count": 129,
     "metadata": {},
     "output_type": "execute_result"
    }
   ],
   "source": [
    "ndarray = array.reshape(2, 5)\n",
    "ndarray[ndarray>3]"
   ]
  },
  {
   "cell_type": "code",
   "execution_count": 130,
   "id": "95434334-dbe0-4533-b1f3-e7d4608dd27f",
   "metadata": {},
   "outputs": [
    {
     "data": {
      "text/plain": [
       "array([[False, False, False, False,  True],\n",
       "       [ True,  True,  True,  True,  True]])"
      ]
     },
     "execution_count": 130,
     "metadata": {},
     "output_type": "execute_result"
    }
   ],
   "source": [
    "ndarray > 3"
   ]
  },
  {
   "cell_type": "code",
   "execution_count": 132,
   "id": "52dd108a-c413-43f8-a6d4-987819e0cb54",
   "metadata": {},
   "outputs": [
    {
     "data": {
      "text/plain": [
       "True"
      ]
     },
     "execution_count": 132,
     "metadata": {},
     "output_type": "execute_result"
    }
   ],
   "source": [
    "(ndarray > 3).any()"
   ]
  },
  {
   "cell_type": "code",
   "execution_count": 134,
   "id": "804c7742-886e-42f5-ad57-60086c698669",
   "metadata": {},
   "outputs": [
    {
     "data": {
      "text/plain": [
       "array([False, False, False, False,  True])"
      ]
     },
     "execution_count": 134,
     "metadata": {},
     "output_type": "execute_result"
    }
   ],
   "source": [
    "(ndarray > 3).all(axis=0)"
   ]
  },
  {
   "cell_type": "code",
   "execution_count": 136,
   "id": "fc0f97b0-d1d0-4247-a88e-6caca1f5266a",
   "metadata": {},
   "outputs": [
    {
     "data": {
      "text/plain": [
       "(array([0, 1, 2, 3, 4, 5, 6, 7, 8, 9]), array([1, 1, 1, 1, 1, 1, 1, 1, 1, 1]))"
      ]
     },
     "execution_count": 136,
     "metadata": {},
     "output_type": "execute_result"
    }
   ],
   "source": [
    "np.unique(array, return_counts=True)"
   ]
  },
  {
   "cell_type": "code",
   "execution_count": 137,
   "id": "c7386fe7-e1fd-4bb4-b703-fc06ffb83c83",
   "metadata": {},
   "outputs": [
    {
     "data": {
      "text/plain": [
       "array([1, 1, 1, 1, 1, 1, 1, 1, 1, 1])"
      ]
     },
     "execution_count": 137,
     "metadata": {},
     "output_type": "execute_result"
    }
   ],
   "source": [
    "np.bincount(array)"
   ]
  },
  {
   "cell_type": "markdown",
   "id": "5e004b6d-11e3-4a7c-adff-6f843f9ae0e6",
   "metadata": {},
   "source": [
    "## np.concatenate()とnp.stack()"
   ]
  },
  {
   "cell_type": "code",
   "execution_count": 141,
   "id": "36dbdcb6-e737-41f6-bc11-2e60dfad82e6",
   "metadata": {},
   "outputs": [
    {
     "data": {
      "text/plain": [
       "array([[ 0,  2,  4],\n",
       "       [ 6,  8, 10],\n",
       "       [12, 14, 16]])"
      ]
     },
     "execution_count": 141,
     "metadata": {},
     "output_type": "execute_result"
    }
   ],
   "source": [
    "ndarray_even = np.arange(0, 18 ,2).reshape(3, 3)\n",
    "ndarray_even"
   ]
  },
  {
   "cell_type": "code",
   "execution_count": 145,
   "id": "ec2b43f2-cd1e-4b5c-966d-b8743cdef85a",
   "metadata": {},
   "outputs": [
    {
     "data": {
      "text/plain": [
       "array([[ 1,  3,  5],\n",
       "       [ 7,  9, 11],\n",
       "       [13, 15, 17]])"
      ]
     },
     "execution_count": 145,
     "metadata": {},
     "output_type": "execute_result"
    }
   ],
   "source": [
    "ndarray_odd = np.arange(1, 19, 2).reshape(3, 3)\n",
    "ndarray_odd"
   ]
  },
  {
   "cell_type": "code",
   "execution_count": 148,
   "id": "6fb5fff7-111b-42a8-b073-1c3d0f9a7684",
   "metadata": {},
   "outputs": [
    {
     "data": {
      "text/plain": [
       "array([[ 0,  2,  4,  1,  3,  5],\n",
       "       [ 6,  8, 10,  7,  9, 11],\n",
       "       [12, 14, 16, 13, 15, 17]])"
      ]
     },
     "execution_count": 148,
     "metadata": {},
     "output_type": "execute_result"
    }
   ],
   "source": [
    "np.concatenate([ndarray_even, ndarray_odd], axis=1)"
   ]
  },
  {
   "cell_type": "code",
   "execution_count": 149,
   "id": "902ec52b-02f0-4b27-a59d-d1d9aab941af",
   "metadata": {},
   "outputs": [
    {
     "data": {
      "text/plain": [
       "array([[[ 0,  2,  4],\n",
       "        [ 6,  8, 10],\n",
       "        [12, 14, 16]],\n",
       "\n",
       "       [[ 1,  3,  5],\n",
       "        [ 7,  9, 11],\n",
       "        [13, 15, 17]]])"
      ]
     },
     "execution_count": 149,
     "metadata": {},
     "output_type": "execute_result"
    }
   ],
   "source": [
    "np.stack([ndarray_even, ndarray_odd])"
   ]
  },
  {
   "cell_type": "code",
   "execution_count": 154,
   "id": "fa502bfa-e9d5-48e1-aae0-d9c2ea3bf622",
   "metadata": {},
   "outputs": [
    {
     "data": {
      "text/plain": [
       "(2, 3, 3)"
      ]
     },
     "execution_count": 154,
     "metadata": {},
     "output_type": "execute_result"
    }
   ],
   "source": [
    "stacked_array = _\n",
    "stacked_array.shape"
   ]
  },
  {
   "cell_type": "code",
   "execution_count": 156,
   "id": "3b5c0261-1200-42d3-aaee-d6dcc820df75",
   "metadata": {},
   "outputs": [
    {
     "data": {
      "text/plain": [
       "array([[-0.39081754,  0.29815756, -1.1992002 , -0.58819046],\n",
       "       [-0.49709792, -0.70837894, -1.04861911, -0.57562763],\n",
       "       [ 0.09408346,  0.74747506, -0.09838155,  0.48182206]])"
      ]
     },
     "execution_count": 156,
     "metadata": {},
     "output_type": "execute_result"
    }
   ],
   "source": [
    "ndarray = np.random.randn(3, 4)\n",
    "ndarray"
   ]
  },
  {
   "cell_type": "code",
   "execution_count": 157,
   "id": "5dca483b-9ed9-4ab2-9f50-030264c6d03d",
   "metadata": {},
   "outputs": [
    {
     "data": {
      "text/plain": [
       "(3, 4)"
      ]
     },
     "execution_count": 157,
     "metadata": {},
     "output_type": "execute_result"
    }
   ],
   "source": [
    "ndarray.shape"
   ]
  },
  {
   "cell_type": "code",
   "execution_count": 158,
   "id": "070ed288-1155-4358-b889-cedbfb96c419",
   "metadata": {},
   "outputs": [
    {
     "data": {
      "text/plain": [
       "array([[-0.39081754, -0.49709792,  0.09408346],\n",
       "       [ 0.29815756, -0.70837894,  0.74747506],\n",
       "       [-1.1992002 , -1.04861911, -0.09838155],\n",
       "       [-0.58819046, -0.57562763,  0.48182206]])"
      ]
     },
     "execution_count": 158,
     "metadata": {},
     "output_type": "execute_result"
    }
   ],
   "source": [
    "np.transpose(ndarray)"
   ]
  },
  {
   "cell_type": "code",
   "execution_count": 159,
   "id": "b9bdc278-4275-4929-95ab-df5fca27e5c4",
   "metadata": {},
   "outputs": [
    {
     "data": {
      "text/plain": [
       "array([[-0.39081754, -0.49709792,  0.09408346],\n",
       "       [ 0.29815756, -0.70837894,  0.74747506],\n",
       "       [-1.1992002 , -1.04861911, -0.09838155],\n",
       "       [-0.58819046, -0.57562763,  0.48182206]])"
      ]
     },
     "execution_count": 159,
     "metadata": {},
     "output_type": "execute_result"
    }
   ],
   "source": [
    "ndarray.T"
   ]
  },
  {
   "cell_type": "code",
   "execution_count": 160,
   "id": "eaa65886-fb65-45e7-9512-b40fb51a217e",
   "metadata": {},
   "outputs": [],
   "source": [
    "ndarray = np.random.randn(3, 4, 5)"
   ]
  },
  {
   "cell_type": "code",
   "execution_count": 162,
   "id": "48e0d1fe-4ef2-4af4-b8f2-d482481156b5",
   "metadata": {},
   "outputs": [
    {
     "data": {
      "text/plain": [
       "array([[[ 1.61512399e+00, -1.21947810e+00,  6.53556723e-01],\n",
       "        [-1.60314205e+00,  4.10423802e-01,  3.81810775e-01],\n",
       "        [ 1.46216679e+00, -6.83761998e-01,  1.13056269e+00],\n",
       "        [-9.96186978e-01,  2.15810273e-01,  1.94526616e-03]],\n",
       "\n",
       "       [[ 4.75314433e-01,  1.23074648e+00,  1.03791690e+00],\n",
       "        [ 1.78377915e+00, -2.62688671e-02,  2.92051585e-01],\n",
       "        [ 1.09933007e+00, -1.83467066e+00,  7.05651966e-01],\n",
       "        [-1.24597297e-01,  5.72835657e-01,  2.48316556e+00]],\n",
       "\n",
       "       [[-8.74554609e-01,  2.60090366e-01, -1.37927871e+00],\n",
       "        [-1.45599782e+00,  1.26086952e-01, -4.34173745e-01],\n",
       "        [ 5.61956348e-01,  5.17936969e-01,  1.46212671e+00],\n",
       "        [ 1.12086113e+00,  1.09294992e-01, -5.51992625e-01]],\n",
       "\n",
       "       [[-2.03965583e-01, -6.90708114e-02,  1.12797590e+00],\n",
       "        [-1.13600415e-02,  5.64230863e-01, -8.38534139e-01],\n",
       "        [ 8.60420348e-01,  1.98134961e-01,  8.62960854e-01],\n",
       "        [-6.66491986e-01, -9.43678676e-01, -1.71405093e+00]],\n",
       "\n",
       "       [[-1.19763772e-01,  3.36125921e-01, -9.65028427e-01],\n",
       "        [ 1.26152864e+00, -2.15611707e-01,  3.09565760e-01],\n",
       "        [ 2.07008918e+00, -1.19788842e-02,  5.25150072e-01],\n",
       "        [ 7.86454981e-01,  1.56939886e-02, -4.43865715e-01]]])"
      ]
     },
     "execution_count": 162,
     "metadata": {},
     "output_type": "execute_result"
    }
   ],
   "source": [
    "ndarray.T"
   ]
  },
  {
   "cell_type": "code",
   "execution_count": 163,
   "id": "1344af94-6000-40cc-b68d-a4d08c4110d4",
   "metadata": {},
   "outputs": [
    {
     "data": {
      "text/plain": [
       "(3, 4, 5)"
      ]
     },
     "execution_count": 163,
     "metadata": {},
     "output_type": "execute_result"
    }
   ],
   "source": [
    "ndarrya = np.random.randn(3, 4, 5)\n",
    "ndarray.shape"
   ]
  },
  {
   "cell_type": "code",
   "execution_count": 164,
   "id": "96d0390b-6342-41f0-a33e-b9944adc56ba",
   "metadata": {},
   "outputs": [],
   "source": [
    "np.save('sample_ndarray', ndarray)"
   ]
  },
  {
   "cell_type": "code",
   "execution_count": 165,
   "id": "783b93ec-9477-43f2-a825-35ae0b44db31",
   "metadata": {},
   "outputs": [
    {
     "data": {
      "text/plain": [
       "array([[[ 1.61512399e+00,  4.75314433e-01, -8.74554609e-01,\n",
       "         -2.03965583e-01, -1.19763772e-01],\n",
       "        [-1.60314205e+00,  1.78377915e+00, -1.45599782e+00,\n",
       "         -1.13600415e-02,  1.26152864e+00],\n",
       "        [ 1.46216679e+00,  1.09933007e+00,  5.61956348e-01,\n",
       "          8.60420348e-01,  2.07008918e+00],\n",
       "        [-9.96186978e-01, -1.24597297e-01,  1.12086113e+00,\n",
       "         -6.66491986e-01,  7.86454981e-01]],\n",
       "\n",
       "       [[-1.21947810e+00,  1.23074648e+00,  2.60090366e-01,\n",
       "         -6.90708114e-02,  3.36125921e-01],\n",
       "        [ 4.10423802e-01, -2.62688671e-02,  1.26086952e-01,\n",
       "          5.64230863e-01, -2.15611707e-01],\n",
       "        [-6.83761998e-01, -1.83467066e+00,  5.17936969e-01,\n",
       "          1.98134961e-01, -1.19788842e-02],\n",
       "        [ 2.15810273e-01,  5.72835657e-01,  1.09294992e-01,\n",
       "         -9.43678676e-01,  1.56939886e-02]],\n",
       "\n",
       "       [[ 6.53556723e-01,  1.03791690e+00, -1.37927871e+00,\n",
       "          1.12797590e+00, -9.65028427e-01],\n",
       "        [ 3.81810775e-01,  2.92051585e-01, -4.34173745e-01,\n",
       "         -8.38534139e-01,  3.09565760e-01],\n",
       "        [ 1.13056269e+00,  7.05651966e-01,  1.46212671e+00,\n",
       "          8.62960854e-01,  5.25150072e-01],\n",
       "        [ 1.94526616e-03,  2.48316556e+00, -5.51992625e-01,\n",
       "         -1.71405093e+00, -4.43865715e-01]]])"
      ]
     },
     "execution_count": 165,
     "metadata": {},
     "output_type": "execute_result"
    }
   ],
   "source": [
    "np.load('sample_ndarray.npy')"
   ]
  },
  {
   "cell_type": "code",
   "execution_count": null,
   "id": "d60658d5-b7f5-49cb-b967-230d4cc63b9b",
   "metadata": {},
   "outputs": [],
   "source": []
  }
 ],
 "metadata": {
  "kernelspec": {
   "display_name": "Python 3 (ipykernel)",
   "language": "python",
   "name": "python3"
  },
  "language_info": {
   "codemirror_mode": {
    "name": "ipython",
    "version": 3
   },
   "file_extension": ".py",
   "mimetype": "text/x-python",
   "name": "python",
   "nbconvert_exporter": "python",
   "pygments_lexer": "ipython3",
   "version": "3.9.13"
  }
 },
 "nbformat": 4,
 "nbformat_minor": 5
}
