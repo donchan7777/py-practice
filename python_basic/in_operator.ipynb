{
 "cells": [
  {
   "cell_type": "markdown",
   "id": "7d1f0c07-c616-41f5-971e-b7c24dd5d658",
   "metadata": {},
   "source": [
    "# in演算子"
   ]
  },
  {
   "cell_type": "code",
   "execution_count": 3,
   "id": "a4b3af50-99db-4ae4-9f81-cb548eb8bb20",
   "metadata": {},
   "outputs": [
    {
     "name": "stdout",
     "output_type": "stream",
     "text": [
      "True\n"
     ]
    }
   ],
   "source": [
    "# fruits = [\"apple\", \"peach\", \"grapes\", \"banana\"]\n",
    "# print(\"lemon\" not in fruits)"
   ]
  },
  {
   "cell_type": "code",
   "execution_count": 4,
   "id": "9a22436c-7c75-4d34-ba73-4e7a201d1b08",
   "metadata": {},
   "outputs": [
    {
     "name": "stdout",
     "output_type": "stream",
     "text": [
      "True\n"
     ]
    }
   ],
   "source": [
    "# print(\"h\" in \"hello\")"
   ]
  },
  {
   "cell_type": "code",
   "execution_count": 8,
   "id": "9ddf5cae-4b02-43b1-8b48-2175177d1067",
   "metadata": {},
   "outputs": [
    {
     "name": "stdin",
     "output_type": "stream",
     "text": [
      "favorite fruit lemon\n"
     ]
    },
    {
     "name": "stdout",
     "output_type": "stream",
     "text": [
      "lemonNG\n",
      "['apple', 'peach', 'grapes', 'banana', 'lemon']\n"
     ]
    }
   ],
   "source": [
    "fruits = [\"apple\", \"peach\", \"grapes\", \"banana\"]\n",
    "\n",
    "favorite = input(\"favorite fruit\")\n",
    "\n",
    "if favorite in fruits:\n",
    "    print(\"{}OK\".format(favorite))\n",
    "    fruits.remove(favorite)\n",
    "else:\n",
    "    print(\"{}NG\".format(favorite))\n",
    "    fruits.append(favorite)\n",
    "\n",
    "print(\"{}\".format(fruits))\n"
   ]
  },
  {
   "cell_type": "code",
   "execution_count": null,
   "id": "ae63586d-552e-4568-82bb-d665ced86974",
   "metadata": {},
   "outputs": [],
   "source": []
  },
  {
   "cell_type": "code",
   "execution_count": null,
   "id": "84d3254e-32d8-42b1-9b13-fa50cc307d36",
   "metadata": {},
   "outputs": [],
   "source": []
  }
 ],
 "metadata": {
  "kernelspec": {
   "display_name": "Python 3 (ipykernel)",
   "language": "python",
   "name": "python3"
  },
  "language_info": {
   "codemirror_mode": {
    "name": "ipython",
    "version": 3
   },
   "file_extension": ".py",
   "mimetype": "text/x-python",
   "name": "python",
   "nbconvert_exporter": "python",
   "pygments_lexer": "ipython3",
   "version": "3.9.13"
  }
 },
 "nbformat": 4,
 "nbformat_minor": 5
}
