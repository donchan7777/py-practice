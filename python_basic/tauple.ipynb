{
 "cells": [
  {
   "cell_type": "markdown",
   "id": "0a7502c0-2fb2-44d2-947c-26121b057996",
   "metadata": {},
   "source": [
    "# tuple"
   ]
  },
  {
   "cell_type": "code",
   "execution_count": 2,
   "id": "414d5f97-77c3-49c6-a778-1b5022d07e34",
   "metadata": {},
   "outputs": [
    {
     "name": "stdout",
     "output_type": "stream",
     "text": [
      "1990\n"
     ]
    }
   ],
   "source": [
    "date_of_birth = (1990, 2, 3)\n",
    "print(date_of_birth[0])"
   ]
  },
  {
   "cell_type": "code",
   "execution_count": 4,
   "id": "66b256dc-5744-449d-ac62-8cb5fe8fdbe3",
   "metadata": {},
   "outputs": [
    {
     "name": "stdout",
     "output_type": "stream",
     "text": [
      "1990 2 3\n"
     ]
    }
   ],
   "source": [
    "year, month, date = date_of_birth\n",
    "print(year, month, date)"
   ]
  },
  {
   "cell_type": "code",
   "execution_count": null,
   "id": "d5d918b8-6e8d-49f7-a339-1cf4fcde8ea5",
   "metadata": {},
   "outputs": [],
   "source": []
  },
  {
   "cell_type": "code",
   "execution_count": null,
   "id": "a33860ba-e08f-46d1-ad29-97b66579881e",
   "metadata": {},
   "outputs": [],
   "source": []
  },
  {
   "cell_type": "code",
   "execution_count": null,
   "id": "49b0d242-1d52-4732-a8c0-ba980ca83429",
   "metadata": {},
   "outputs": [],
   "source": []
  },
  {
   "cell_type": "code",
   "execution_count": null,
   "id": "5f00af54-2f3b-4da2-a9ea-9a4d34dd7245",
   "metadata": {},
   "outputs": [],
   "source": []
  },
  {
   "cell_type": "code",
   "execution_count": null,
   "id": "6ee62658-f8cf-4370-8af2-cf3109e9a245",
   "metadata": {},
   "outputs": [],
   "source": []
  },
  {
   "cell_type": "code",
   "execution_count": null,
   "id": "6dc8a5ba-f08c-46d4-a6db-046ca4b0e6cd",
   "metadata": {},
   "outputs": [],
   "source": []
  }
 ],
 "metadata": {
  "kernelspec": {
   "display_name": "Python 3 (ipykernel)",
   "language": "python",
   "name": "python3"
  },
  "language_info": {
   "codemirror_mode": {
    "name": "ipython",
    "version": 3
   },
   "file_extension": ".py",
   "mimetype": "text/x-python",
   "name": "python",
   "nbconvert_exporter": "python",
   "pygments_lexer": "ipython3",
   "version": "3.9.13"
  }
 },
 "nbformat": 4,
 "nbformat_minor": 5
}
