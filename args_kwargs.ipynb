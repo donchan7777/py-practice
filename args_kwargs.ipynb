{
 "cells": [
  {
   "cell_type": "markdown",
   "id": "f1edf927-ce5f-45d9-82c5-78f8f2167597",
   "metadata": {},
   "source": [
    "# *args\n",
    "# **kwargs"
   ]
  },
  {
   "cell_type": "code",
   "execution_count": 3,
   "id": "304311d9-71af-4f85-afc5-b4f66dfd8e20",
   "metadata": {},
   "outputs": [
    {
     "name": "stdout",
     "output_type": "stream",
     "text": [
      "hello world test\n"
     ]
    }
   ],
   "source": [
    "# print(\"hello\", \"world\", \"test\")"
   ]
  },
  {
   "cell_type": "code",
   "execution_count": 7,
   "id": "a9859fe4-2041-41c9-a31d-9f1555e5701e",
   "metadata": {},
   "outputs": [
    {
     "data": {
      "text/plain": [
       "4.5"
      ]
     },
     "execution_count": 7,
     "metadata": {},
     "output_type": "execute_result"
    }
   ],
   "source": [
    "def get_average(*args):\n",
    "    num = len(args)\n",
    "    if num == 0:\n",
    "        return 0\n",
    "    total = sum(args)\n",
    "    return total / num\n",
    "\n",
    "    \n",
    "get_average(1, 2, 3, 4, 5, 6, 7, 8)"
   ]
  },
  {
   "cell_type": "code",
   "execution_count": 9,
   "id": "5153971d-1496-4125-8f6d-3161c8f7aa83",
   "metadata": {},
   "outputs": [
    {
     "name": "stdout",
     "output_type": "stream",
     "text": [
      "p1: 1, p2: 20, p3: 3\n"
     ]
    }
   ],
   "source": [
    "def kwargs_func(**kwargs):\n",
    "    para1 = kwargs.get(\"para1\", 1)\n",
    "    para2 = kwargs.get(\"para2\", 2)\n",
    "    para3 = kwargs.get(\"para3\", 3)\n",
    "\n",
    "    print(f\"p1: {para1}, p2: {para2}, p3: {para3}\")\n",
    "    \n",
    "kwargs_func(pala1=10, para2=20)\n",
    "    "
   ]
  },
  {
   "cell_type": "code",
   "execution_count": null,
   "id": "4f143752-94fc-4e75-9412-32f98421c443",
   "metadata": {},
   "outputs": [],
   "source": []
  },
  {
   "cell_type": "code",
   "execution_count": null,
   "id": "23be8f7a-3b2f-4532-bdf3-b171cb0be901",
   "metadata": {},
   "outputs": [],
   "source": []
  },
  {
   "cell_type": "code",
   "execution_count": null,
   "id": "9c2a9a60-7fda-4202-83b9-b844358df98d",
   "metadata": {},
   "outputs": [],
   "source": []
  },
  {
   "cell_type": "code",
   "execution_count": null,
   "id": "bde02632-d5fe-48ee-b04e-17aa43bbb833",
   "metadata": {},
   "outputs": [],
   "source": []
  },
  {
   "cell_type": "code",
   "execution_count": null,
   "id": "ec0e12b1-c1bb-4f42-b7f4-5375a30c1eda",
   "metadata": {},
   "outputs": [],
   "source": []
  },
  {
   "cell_type": "code",
   "execution_count": null,
   "id": "c4c9779b-310c-4add-ad2b-dee5c821f0e4",
   "metadata": {},
   "outputs": [],
   "source": []
  },
  {
   "cell_type": "code",
   "execution_count": null,
   "id": "47b023bd-9d07-44c8-b937-5ccf66a20a5f",
   "metadata": {},
   "outputs": [],
   "source": []
  }
 ],
 "metadata": {
  "kernelspec": {
   "display_name": "Python 3 (ipykernel)",
   "language": "python",
   "name": "python3"
  },
  "language_info": {
   "codemirror_mode": {
    "name": "ipython",
    "version": 3
   },
   "file_extension": ".py",
   "mimetype": "text/x-python",
   "name": "python",
   "nbconvert_exporter": "python",
   "pygments_lexer": "ipython3",
   "version": "3.9.13"
  }
 },
 "nbformat": 4,
 "nbformat_minor": 5
}
