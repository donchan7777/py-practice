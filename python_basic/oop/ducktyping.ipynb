{
 "cells": [
  {
   "cell_type": "code",
   "execution_count": 6,
   "id": "4f51ca1f-d21a-46b6-b10b-7f6d61fdfe21",
   "metadata": {},
   "outputs": [
    {
     "name": "stdout",
     "output_type": "stream",
     "text": [
      "waling\n",
      "quack,quack\n",
      "waling\n",
      "quack,quack\n"
     ]
    }
   ],
   "source": [
    "class Duck:\n",
    "    def __init__(self, name):\n",
    "        self.name = name\n",
    "        \n",
    "    def walk(self):\n",
    "        print(\"waling\")\n",
    "        \n",
    "    def quack(self):\n",
    "        print(\"quack,quack\")\n",
    "    \n",
    "    def fly(self):\n",
    "        print(\"Whee\")\n",
    "\n",
    "\n",
    "class Pengin:\n",
    "    def __init__(self, name):\n",
    "        self.name = name\n",
    "        \n",
    "    def walk(self):\n",
    "        print(\"waling\")\n",
    "        \n",
    "    def quack(self):\n",
    "        print(\"quack,quack\")\n",
    "    \n",
    "    def swim(self):\n",
    "        print(\"swiming\")\n",
    "\n",
    "    \n",
    "if __name__ == \"__main__\":\n",
    "    donald = Duck(\"D\")\n",
    "    ping = Pengin(\"P\")\n",
    "    donald.walk()\n",
    "    donald.quack()\n",
    "    ping.walk()\n",
    "    ping.quack()"
   ]
  },
  {
   "cell_type": "code",
   "execution_count": null,
   "id": "845bcdf5-56ff-4db4-93bd-27b3a0e6090b",
   "metadata": {},
   "outputs": [],
   "source": []
  }
 ],
 "metadata": {
  "kernelspec": {
   "display_name": "Python 3 (ipykernel)",
   "language": "python",
   "name": "python3"
  },
  "language_info": {
   "codemirror_mode": {
    "name": "ipython",
    "version": 3
   },
   "file_extension": ".py",
   "mimetype": "text/x-python",
   "name": "python",
   "nbconvert_exporter": "python",
   "pygments_lexer": "ipython3",
   "version": "3.9.13"
  }
 },
 "nbformat": 4,
 "nbformat_minor": 5
}
