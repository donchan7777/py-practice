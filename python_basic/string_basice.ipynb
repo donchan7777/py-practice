{
 "cells": [
  {
   "cell_type": "markdown",
   "id": "9a181152-11c4-47a2-a41a-f54db47b839f",
   "metadata": {},
   "source": [
    "#文字列"
   ]
  },
  {
   "cell_type": "code",
   "execution_count": 1,
   "id": "60d635c7-2118-4969-904c-3497adc48d88",
   "metadata": {},
   "outputs": [
    {
     "name": "stdout",
     "output_type": "stream",
     "text": [
      "Hellow world\n"
     ]
    }
   ],
   "source": [
    "print(\"Hellow world\")"
   ]
  },
  {
   "cell_type": "code",
   "execution_count": 4,
   "id": "1dd40700-3bfc-44df-929a-bf11e215217b",
   "metadata": {},
   "outputs": [
    {
     "name": "stdout",
     "output_type": "stream",
     "text": [
      "1\n"
     ]
    }
   ],
   "source": [
    "print(1)"
   ]
  },
  {
   "cell_type": "code",
   "execution_count": 5,
   "id": "85da588c-5cd7-4b6e-941f-65c32465cca6",
   "metadata": {},
   "outputs": [
    {
     "name": "stdout",
     "output_type": "stream",
     "text": [
      "\n",
      "Hellow world\n",
      "How are you doing?\n",
      "\n"
     ]
    }
   ],
   "source": [
    "print(\"\"\"\n",
    "Hellow world\n",
    "How are you doing?\n",
    "\"\"\")"
   ]
  },
  {
   "cell_type": "code",
   "execution_count": 6,
   "id": "377b6c15-2960-42f4-896d-f74e24986d95",
   "metadata": {},
   "outputs": [
    {
     "name": "stdout",
     "output_type": "stream",
     "text": [
      "I'm fine\n"
     ]
    }
   ],
   "source": [
    "print(\"I'm fine\")"
   ]
  },
  {
   "cell_type": "code",
   "execution_count": 7,
   "id": "a0ffef1d-7997-463d-a924-52e5c8b56973",
   "metadata": {},
   "outputs": [
    {
     "name": "stdout",
     "output_type": "stream",
     "text": [
      "I\"m fine\n"
     ]
    }
   ],
   "source": [
    "print('I\"m fine')"
   ]
  },
  {
   "cell_type": "code",
   "execution_count": 8,
   "id": "de6908d1-337c-4e8e-8593-d8a84218c859",
   "metadata": {},
   "outputs": [
    {
     "name": "stdout",
     "output_type": "stream",
     "text": [
      "hello \n",
      "world\n"
     ]
    }
   ],
   "source": [
    "print(\"hello \\nworld\")"
   ]
  },
  {
   "cell_type": "code",
   "execution_count": 9,
   "id": "5b4f65da-d5a4-47ad-a9f2-d5c9975c9794",
   "metadata": {},
   "outputs": [
    {
     "name": "stdout",
     "output_type": "stream",
     "text": [
      "back shlash n:\\n\n"
     ]
    }
   ],
   "source": [
    "print(\"back shlash n:\\\\n\")"
   ]
  },
  {
   "cell_type": "code",
   "execution_count": 10,
   "id": "89a5c98f-ab44-4e98-a152-9b8f63dfe4b6",
   "metadata": {},
   "outputs": [
    {
     "name": "stdout",
     "output_type": "stream",
     "text": [
      "I'm fine\n"
     ]
    }
   ],
   "source": [
    "print(\"I\\'m fine\")"
   ]
  },
  {
   "cell_type": "code",
   "execution_count": null,
   "id": "7a079488-9cc6-4083-ac4b-27bc77b0ae1a",
   "metadata": {},
   "outputs": [],
   "source": []
  }
 ],
 "metadata": {
  "kernelspec": {
   "display_name": "Python 3 (ipykernel)",
   "language": "python",
   "name": "python3"
  },
  "language_info": {
   "codemirror_mode": {
    "name": "ipython",
    "version": 3
   },
   "file_extension": ".py",
   "mimetype": "text/x-python",
   "name": "python",
   "nbconvert_exporter": "python",
   "pygments_lexer": "ipython3",
   "version": "3.9.13"
  }
 },
 "nbformat": 4,
 "nbformat_minor": 5
}
