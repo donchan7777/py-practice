{
 "cells": [
  {
   "cell_type": "markdown",
   "id": "95201055-0dc0-4219-8892-0bb0ffba7a44",
   "metadata": {},
   "source": [
    "#変数へ代入"
   ]
  },
  {
   "cell_type": "code",
   "execution_count": 1,
   "id": "8d33866b-7aba-40a9-aa62-f4b2c00f1608",
   "metadata": {},
   "outputs": [],
   "source": [
    "a = \"hello world\""
   ]
  },
  {
   "cell_type": "code",
   "execution_count": 2,
   "id": "74962c7c-a77d-4200-85be-76cc479dc885",
   "metadata": {},
   "outputs": [
    {
     "name": "stdout",
     "output_type": "stream",
     "text": [
      "hello world\n"
     ]
    }
   ],
   "source": [
    "print(a)"
   ]
  },
  {
   "cell_type": "code",
   "execution_count": 4,
   "id": "75fe9790-fcfd-47b1-bbe6-498ccffe3f87",
   "metadata": {},
   "outputs": [
    {
     "name": "stdout",
     "output_type": "stream",
     "text": [
      "Helloworld\n"
     ]
    }
   ],
   "source": [
    "hello = \"Hello\"\n",
    "world = \"world\"\n",
    "print(hello + world)"
   ]
  },
  {
   "cell_type": "markdown",
   "id": "01a0957f-2a0d-4f61-8ce0-0dc532ce7a5d",
   "metadata": {},
   "source": [
    "#format"
   ]
  },
  {
   "cell_type": "code",
   "execution_count": 9,
   "id": "26570d5b-f4c8-42c7-bf88-1cba2f36e705",
   "metadata": {},
   "outputs": [
    {
     "name": "stdout",
     "output_type": "stream",
     "text": [
      "Helloworld\n"
     ]
    }
   ],
   "source": [
    "print(\"{}{}\".format(hello,world))"
   ]
  },
  {
   "cell_type": "code",
   "execution_count": 11,
   "id": "ef942832-ad03-4f35-8150-3750eaaa03a8",
   "metadata": {},
   "outputs": [
    {
     "name": "stdout",
     "output_type": "stream",
     "text": [
      "Hey,John!! How are you doing?\n"
     ]
    }
   ],
   "source": [
    "name = \"John\"\n",
    "print(\"Hey,{}!! How are you doing?\".format(name))"
   ]
  },
  {
   "cell_type": "code",
   "execution_count": 13,
   "id": "2641cd9f-25c9-4952-9b14-c3bce3b782a3",
   "metadata": {},
   "outputs": [
    {
     "name": "stdout",
     "output_type": "stream",
     "text": [
      "balance:100\n"
     ]
    }
   ],
   "source": [
    "balance = 100\n",
    "print(\"balance:{}\".format(balance))"
   ]
  },
  {
   "cell_type": "markdown",
   "id": "712bc5ef-2330-4e22-af67-3bf0b656ee41",
   "metadata": {},
   "source": [
    "#fstring"
   ]
  },
  {
   "cell_type": "code",
   "execution_count": 14,
   "id": "2dd3953d-3e42-4238-8117-92d4b5b15be1",
   "metadata": {},
   "outputs": [
    {
     "name": "stdout",
     "output_type": "stream",
     "text": [
      "Helloworld\n"
     ]
    }
   ],
   "source": [
    "print(f\"{hello}{world}\")"
   ]
  },
  {
   "cell_type": "code",
   "execution_count": null,
   "id": "bac8be78-1486-49ee-81e0-e43556a7cde2",
   "metadata": {},
   "outputs": [],
   "source": []
  }
 ],
 "metadata": {
  "kernelspec": {
   "display_name": "Python 3 (ipykernel)",
   "language": "python",
   "name": "python3"
  },
  "language_info": {
   "codemirror_mode": {
    "name": "ipython",
    "version": 3
   },
   "file_extension": ".py",
   "mimetype": "text/x-python",
   "name": "python",
   "nbconvert_exporter": "python",
   "pygments_lexer": "ipython3",
   "version": "3.9.13"
  }
 },
 "nbformat": 4,
 "nbformat_minor": 5
}
