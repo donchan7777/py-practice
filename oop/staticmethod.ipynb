{
 "cells": [
  {
   "cell_type": "code",
   "execution_count": 11,
   "id": "3dd3fd31-de29-4715-9bc8-04a310796544",
   "metadata": {},
   "outputs": [
    {
     "name": "stdout",
     "output_type": "stream",
     "text": [
      "This is normal method\n",
      "This is normal method!\n",
      "This is classmethod and now the count is 1\n",
      "This is classmethod and now the count is 2\n"
     ]
    }
   ],
   "source": [
    "class Myclass:\n",
    "    \n",
    "    classmethod_count = 0\n",
    "    \n",
    "    def mymethod(self):\n",
    "        print(\"This is normal method\")\n",
    "        \n",
    "    @staticmethod\n",
    "    def mystaticmethod():\n",
    "        print(\"This is normal method!\")\n",
    "\n",
    "\n",
    "    @classmethod\n",
    "    def myclassmethod(cls):\n",
    "        cls.classmethod_count += 1\n",
    "        print(f\"This is classmethod and now the count is {cls.classmethod_count}\")\n",
    "        \n",
    "        \n",
    "        \n",
    "        \n",
    "\n",
    "c = Myclass()\n",
    "c.mymethod()\n",
    "\n",
    "Myclass.mystaticmethod()\n",
    "Myclass.myclassmethod()\n",
    "Myclass.myclassmethod()"
   ]
  },
  {
   "cell_type": "code",
   "execution_count": null,
   "id": "416babe6-850a-49b9-a50e-0b128b99a0e5",
   "metadata": {},
   "outputs": [],
   "source": []
  }
 ],
 "metadata": {
  "kernelspec": {
   "display_name": "Python 3 (ipykernel)",
   "language": "python",
   "name": "python3"
  },
  "language_info": {
   "codemirror_mode": {
    "name": "ipython",
    "version": 3
   },
   "file_extension": ".py",
   "mimetype": "text/x-python",
   "name": "python",
   "nbconvert_exporter": "python",
   "pygments_lexer": "ipython3",
   "version": "3.9.13"
  }
 },
 "nbformat": 4,
 "nbformat_minor": 5
}
