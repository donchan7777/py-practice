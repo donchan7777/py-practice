{
 "cells": [
  {
   "cell_type": "markdown",
   "id": "7aae6572-fe08-499b-82f3-79f46cceedcd",
   "metadata": {},
   "source": [
    "## my script"
   ]
  },
  {
   "cell_type": "code",
   "execution_count": 8,
   "id": "f2199410-b4a4-4ae9-926e-41b2e755bf3d",
   "metadata": {},
   "outputs": [
    {
     "name": "stdout",
     "output_type": "stream",
     "text": [
      "This is OK\n",
      "This is global variable\n",
      "This is OK!!\n",
      "This is OK!!!\n",
      "['/py_practice', '/opt/anaconda3/lib/python39.zip', '/opt/anaconda3/lib/python3.9', '/opt/anaconda3/lib/python3.9/lib-dynload', '', '/opt/anaconda3/lib/python3.9/site-packages', '/opt/anaconda3/lib/python3.9/site-packages/IPython/extensions', '/root/.ipython']\n"
     ]
    }
   ],
   "source": [
    "import sys\n",
    "from mymodule import *\n",
    "myfunc()\n",
    "print(myvariable)\n",
    "anotherfunc()\n",
    "anotherfunc2()\n",
    "print(sys.path)"
   ]
  },
  {
   "cell_type": "code",
   "execution_count": 10,
   "id": "39282569-5511-4d97-b67f-044c0e7d5318",
   "metadata": {},
   "outputs": [
    {
     "name": "stdout",
     "output_type": "stream",
     "text": [
      "['/py_practice', '/opt/anaconda3/lib/python39.zip', '/opt/anaconda3/lib/python3.9', '/opt/anaconda3/lib/python3.9/lib-dynload', '', '/opt/anaconda3/lib/python3.9/site-packages', '/opt/anaconda3/lib/python3.9/site-packages/IPython/extensions', '/root/.ipython']\n"
     ]
    }
   ],
   "source": [
    "print(sys.path)"
   ]
  },
  {
   "cell_type": "code",
   "execution_count": 11,
   "id": "cac24cba-7f2c-4222-a1ff-dd87cc3e0b90",
   "metadata": {},
   "outputs": [],
   "source": [
    "import numpy as np"
   ]
  },
  {
   "cell_type": "code",
   "execution_count": 12,
   "id": "144d10bb-916b-438c-bf84-6355dbbc6a07",
   "metadata": {},
   "outputs": [
    {
     "name": "stdout",
     "output_type": "stream",
     "text": [
      "/opt/anaconda3/lib/python3.9/site-packages/numpy/__init__.py\n"
     ]
    }
   ],
   "source": [
    "print(np.__file__)"
   ]
  },
  {
   "cell_type": "code",
   "execution_count": null,
   "id": "f5db53f7-0cd2-4ecc-b362-e14f9f35e012",
   "metadata": {},
   "outputs": [],
   "source": []
  },
  {
   "cell_type": "code",
   "execution_count": null,
   "id": "f0b674f6-f7f2-40e5-aa2d-29ebaddebb1d",
   "metadata": {},
   "outputs": [],
   "source": []
  }
 ],
 "metadata": {
  "kernelspec": {
   "display_name": "Python 3 (ipykernel)",
   "language": "python",
   "name": "python3"
  },
  "language_info": {
   "codemirror_mode": {
    "name": "ipython",
    "version": 3
   },
   "file_extension": ".py",
   "mimetype": "text/x-python",
   "name": "python",
   "nbconvert_exporter": "python",
   "pygments_lexer": "ipython3",
   "version": "3.9.13"
  }
 },
 "nbformat": 4,
 "nbformat_minor": 5
}
