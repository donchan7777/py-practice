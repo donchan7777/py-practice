{
 "cells": [
  {
   "cell_type": "markdown",
   "id": "dad81c2f-df8c-4496-b85c-b07a5a149fc4",
   "metadata": {},
   "source": [
    "# type annotation"
   ]
  },
  {
   "cell_type": "code",
   "execution_count": 3,
   "id": "13cf36e8-bfb1-4463-be1a-f9179056595e",
   "metadata": {},
   "outputs": [
    {
     "name": "stdout",
     "output_type": "stream",
     "text": [
      "3\n"
     ]
    }
   ],
   "source": [
    "def add_nums(num1: int, num2: int) -> int:\n",
    "    return num1 + num2\n",
    "\n",
    "\n",
    "print(add_nums(1, 2))"
   ]
  },
  {
   "cell_type": "code",
   "execution_count": null,
   "id": "2f79b600-5fae-4a35-85d3-20ec1c7b8307",
   "metadata": {},
   "outputs": [],
   "source": []
  },
  {
   "cell_type": "code",
   "execution_count": null,
   "id": "ff8b7b93-bcd5-4397-a3ab-bc2a4e053854",
   "metadata": {},
   "outputs": [],
   "source": []
  },
  {
   "cell_type": "code",
   "execution_count": null,
   "id": "6dc2f613-3b4c-473f-8c6d-79552c022d19",
   "metadata": {},
   "outputs": [],
   "source": []
  },
  {
   "cell_type": "code",
   "execution_count": null,
   "id": "57a7e40a-8f60-4833-91f6-1c35d179e10e",
   "metadata": {},
   "outputs": [],
   "source": []
  },
  {
   "cell_type": "code",
   "execution_count": null,
   "id": "1bfd45e2-3d4a-48d0-93e4-c6c202466600",
   "metadata": {},
   "outputs": [],
   "source": []
  },
  {
   "cell_type": "code",
   "execution_count": null,
   "id": "28f492f7-8300-4f6a-8331-e44a656f0d80",
   "metadata": {},
   "outputs": [],
   "source": []
  },
  {
   "cell_type": "code",
   "execution_count": null,
   "id": "37b56a66-528c-442c-9d7b-85b26c6c2898",
   "metadata": {},
   "outputs": [],
   "source": []
  },
  {
   "cell_type": "code",
   "execution_count": null,
   "id": "0a136ab6-9603-4488-a4f5-d5d716900a99",
   "metadata": {},
   "outputs": [],
   "source": []
  },
  {
   "cell_type": "code",
   "execution_count": null,
   "id": "32b861d2-9868-4bfa-a233-7c2a32236b15",
   "metadata": {},
   "outputs": [],
   "source": []
  }
 ],
 "metadata": {
  "kernelspec": {
   "display_name": "Python 3 (ipykernel)",
   "language": "python",
   "name": "python3"
  },
  "language_info": {
   "codemirror_mode": {
    "name": "ipython",
    "version": 3
   },
   "file_extension": ".py",
   "mimetype": "text/x-python",
   "name": "python",
   "nbconvert_exporter": "python",
   "pygments_lexer": "ipython3",
   "version": "3.9.13"
  }
 },
 "nbformat": 4,
 "nbformat_minor": 5
}
