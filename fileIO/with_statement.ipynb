{
 "cells": [
  {
   "cell_type": "code",
   "execution_count": 17,
   "id": "823cfaf8-ace9-469f-841e-7205e3ca48bd",
   "metadata": {},
   "outputs": [
    {
     "name": "stdout",
     "output_type": "stream",
     "text": [
      "Introduction\n",
      "This document gives coding conventions for the Python code comprising the standard library in the main Python distribution. Please see the companion informational PEP describing style guidelines for the C code in the C implementation of Python [1].\n",
      "\n",
      "This document and PEP 257 (Docstring Conventions) were adapted from Guido's original Python Style Guide essay, with some additions from Barry's style guide [2].\n",
      "\n",
      "This style guide evolves over time as additional conventions are identified and past conventions are rendered obsolete by changes in the language itself.\n",
      "\n",
      "Many projects have their own coding style guidelines. In the event of any conflicts, such project-specific guides take precedence for that project."
     ]
    }
   ],
   "source": [
    "# try:\n",
    "#     f = open(\"pep8_introduction.txt\")\n",
    "#     for line in f:\n",
    "#         print(line, end=\"\")\n",
    "# finally:\n",
    "#     f.close()"
   ]
  },
  {
   "cell_type": "code",
   "execution_count": 20,
   "id": "84007664-3861-4fc1-8db8-d4cc7ca91cee",
   "metadata": {},
   "outputs": [
    {
     "name": "stdout",
     "output_type": "stream",
     "text": [
      "Introduction\n",
      "This document gives coding conventions for the Python code comprising the standard library in the main Python distribution. Please see the companion informational PEP describing style guidelines for the C code in the C implementation of Python [1].\n",
      "\n",
      "This document and PEP 257 (Docstring Conventions) were adapted from Guido's original Python Style Guide essay, with some additions from Barry's style guide [2].\n",
      "\n",
      "This style guide evolves over time as additional conventions are identified and past conventions are rendered obsolete by changes in the language itself.\n",
      "\n",
      "Many projects have their own coding style guidelines. In the event of any conflicts, such project-specific guides take precedence for that project."
     ]
    }
   ],
   "source": [
    "with open(\"pep8_introduction.txt\") as f:\n",
    "    for line in f:\n",
    "        print(line, end=\"\")"
   ]
  },
  {
   "cell_type": "code",
   "execution_count": null,
   "id": "2b2f4f09-523a-43e3-988a-eba256b27c4f",
   "metadata": {},
   "outputs": [],
   "source": []
  },
  {
   "cell_type": "code",
   "execution_count": null,
   "id": "60c4bb2f-cee3-4094-80fe-d5e273edbf6d",
   "metadata": {},
   "outputs": [],
   "source": []
  },
  {
   "cell_type": "code",
   "execution_count": null,
   "id": "82b77e4c-cb3a-4c2f-9d26-8c8078d54555",
   "metadata": {},
   "outputs": [],
   "source": []
  },
  {
   "cell_type": "code",
   "execution_count": null,
   "id": "db703dca-aed6-457a-9321-77f091ed9e6c",
   "metadata": {},
   "outputs": [],
   "source": []
  },
  {
   "cell_type": "code",
   "execution_count": null,
   "id": "a4c173d9-8881-4710-927a-cc8c0fe6fe04",
   "metadata": {},
   "outputs": [],
   "source": []
  },
  {
   "cell_type": "code",
   "execution_count": null,
   "id": "44bc0cc2-59cc-441a-81de-188a87762909",
   "metadata": {},
   "outputs": [],
   "source": []
  },
  {
   "cell_type": "code",
   "execution_count": null,
   "id": "ed965176-4d93-40e0-8543-6749a6ea44d9",
   "metadata": {},
   "outputs": [],
   "source": []
  },
  {
   "cell_type": "code",
   "execution_count": null,
   "id": "eb7145d5-98b0-4b1c-8bfa-bf37f2a85e56",
   "metadata": {},
   "outputs": [],
   "source": []
  },
  {
   "cell_type": "code",
   "execution_count": null,
   "id": "9f181622-2cc7-4aa7-b752-45cf63273be5",
   "metadata": {},
   "outputs": [],
   "source": []
  },
  {
   "cell_type": "code",
   "execution_count": null,
   "id": "a9d231ca-9aab-47dd-804b-41f6f30d0945",
   "metadata": {},
   "outputs": [],
   "source": []
  }
 ],
 "metadata": {
  "kernelspec": {
   "display_name": "Python 3 (ipykernel)",
   "language": "python",
   "name": "python3"
  },
  "language_info": {
   "codemirror_mode": {
    "name": "ipython",
    "version": 3
   },
   "file_extension": ".py",
   "mimetype": "text/x-python",
   "name": "python",
   "nbconvert_exporter": "python",
   "pygments_lexer": "ipython3",
   "version": "3.9.13"
  }
 },
 "nbformat": 4,
 "nbformat_minor": 5
}
