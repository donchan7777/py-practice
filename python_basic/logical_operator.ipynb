{
 "cells": [
  {
   "cell_type": "markdown",
   "id": "e7ed36a8-2cf5-4a3d-abf7-ea14f330832b",
   "metadata": {
    "tags": []
   },
   "source": [
    "# 論理演算子 and or not"
   ]
  },
  {
   "cell_type": "code",
   "execution_count": 2,
   "id": "f51ab345-79a4-4b84-8a0c-621aac4e76e6",
   "metadata": {},
   "outputs": [],
   "source": [
    "a = 1\n",
    "b = 1\n",
    "c = 10\n",
    "d = 100"
   ]
  },
  {
   "cell_type": "code",
   "execution_count": 3,
   "id": "5b4601ff-0996-4520-bce2-8e28da5db8af",
   "metadata": {},
   "outputs": [
    {
     "name": "stdout",
     "output_type": "stream",
     "text": [
      "False\n"
     ]
    }
   ],
   "source": [
    "print(a == b and c > d)"
   ]
  },
  {
   "cell_type": "code",
   "execution_count": 4,
   "id": "448c3b2d-e46b-4f99-bbf7-7db7eb898b85",
   "metadata": {},
   "outputs": [
    {
     "name": "stdout",
     "output_type": "stream",
     "text": [
      "False\n"
     ]
    }
   ],
   "source": [
    "print(not a == b)"
   ]
  },
  {
   "cell_type": "code",
   "execution_count": 5,
   "id": "06ad2052-5cba-44fc-8208-1237654d8822",
   "metadata": {},
   "outputs": [
    {
     "name": "stdout",
     "output_type": "stream",
     "text": [
      "True\n"
     ]
    }
   ],
   "source": [
    "age = 13\n",
    "height = 140\n",
    "print(age > 10 and height > 110)"
   ]
  },
  {
   "cell_type": "code",
   "execution_count": 6,
   "id": "ced501af-2291-4e6c-829f-d6f08036b408",
   "metadata": {},
   "outputs": [
    {
     "name": "stdout",
     "output_type": "stream",
     "text": [
      "True\n"
     ]
    }
   ],
   "source": [
    "master = False\n",
    "job_experience = 6\n",
    "print(master or job_experience > 5)"
   ]
  },
  {
   "cell_type": "code",
   "execution_count": null,
   "id": "7899ab95-06be-498e-906e-55d949e616bd",
   "metadata": {},
   "outputs": [],
   "source": []
  }
 ],
 "metadata": {
  "kernelspec": {
   "display_name": "Python 3 (ipykernel)",
   "language": "python",
   "name": "python3"
  },
  "language_info": {
   "codemirror_mode": {
    "name": "ipython",
    "version": 3
   },
   "file_extension": ".py",
   "mimetype": "text/x-python",
   "name": "python",
   "nbconvert_exporter": "python",
   "pygments_lexer": "ipython3",
   "version": "3.9.13"
  }
 },
 "nbformat": 4,
 "nbformat_minor": 5
}
