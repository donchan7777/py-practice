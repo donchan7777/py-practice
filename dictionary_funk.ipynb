{
 "cells": [
  {
   "cell_type": "markdown",
   "id": "f3f31669-906a-4164-bc5d-5b0ff3b2e2a5",
   "metadata": {},
   "source": [
    "## dictionary"
   ]
  },
  {
   "cell_type": "code",
   "execution_count": 3,
   "id": "ade5f95c-8361-4129-b870-238d84fd2d06",
   "metadata": {},
   "outputs": [
    {
     "name": "stdout",
     "output_type": "stream",
     "text": [
      "red\n"
     ]
    }
   ],
   "source": [
    "fruits_colors = {\"apple\": \"red\", \"lemon\": \"yellow\", \"grapes\": \"purple\"}\n",
    "# print(fruits_colors[\"apple\"])\n",
    "\n",
    "if 'apple' in fruits_colors:\n",
    "    print(fruits_colors['apple'])\n",
    "else:\n",
    "    print('No')"
   ]
  },
  {
   "cell_type": "code",
   "execution_count": 6,
   "id": "29278e03-5321-4665-a631-6bd7e1da2729",
   "metadata": {},
   "outputs": [
    {
     "data": {
      "text/plain": [
       "'No'"
      ]
     },
     "execution_count": 6,
     "metadata": {},
     "output_type": "execute_result"
    }
   ],
   "source": [
    "fruits_colors.get('peach', 'No')"
   ]
  },
  {
   "cell_type": "code",
   "execution_count": 7,
   "id": "7ff2e01a-93da-4c1a-b15f-01cc98ef0cac",
   "metadata": {},
   "outputs": [
    {
     "name": "stdout",
     "output_type": "stream",
     "text": [
      "{'apple': 'red', 'lemon': 'yellow', 'grapes': 'purple', 'peach': 'pink', 'kiwi': 'green'}\n"
     ]
    }
   ],
   "source": [
    "fruits_colors2 = {'peach': 'pink', 'kiwi': 'green'}\n",
    "fruits_colors.update(fruits_colors2)\n",
    "print(fruits_colors)"
   ]
  },
  {
   "cell_type": "code",
   "execution_count": null,
   "id": "027050a7-acf2-4f3b-9b11-ced37bdff1ec",
   "metadata": {},
   "outputs": [],
   "source": []
  },
  {
   "cell_type": "code",
   "execution_count": null,
   "id": "643818eb-c7df-43ad-a2b6-83e6ac61e9b4",
   "metadata": {},
   "outputs": [],
   "source": []
  },
  {
   "cell_type": "code",
   "execution_count": null,
   "id": "70333c8c-64ea-474d-80df-3adcbfa52edd",
   "metadata": {},
   "outputs": [],
   "source": []
  },
  {
   "cell_type": "code",
   "execution_count": null,
   "id": "e9bd126b-fa5d-4b6d-9c90-7812e12e0659",
   "metadata": {},
   "outputs": [],
   "source": []
  }
 ],
 "metadata": {
  "kernelspec": {
   "display_name": "Python 3 (ipykernel)",
   "language": "python",
   "name": "python3"
  },
  "language_info": {
   "codemirror_mode": {
    "name": "ipython",
    "version": 3
   },
   "file_extension": ".py",
   "mimetype": "text/x-python",
   "name": "python",
   "nbconvert_exporter": "python",
   "pygments_lexer": "ipython3",
   "version": "3.9.13"
  }
 },
 "nbformat": 4,
 "nbformat_minor": 5
}
