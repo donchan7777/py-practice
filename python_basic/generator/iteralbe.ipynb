{
 "cells": [
  {
   "cell_type": "code",
   "execution_count": 2,
   "id": "eb20edf5-9cc0-4dff-af2d-b46ddc97e833",
   "metadata": {},
   "outputs": [
    {
     "name": "stdout",
     "output_type": "stream",
     "text": [
      "281473102621760\n",
      "281473102621760\n"
     ]
    }
   ],
   "source": [
    "fruits = [\"apple\", \"lemon\", \"peach\"]\n",
    "\n",
    "fruits_iter = iter(fruits)\n",
    "\n",
    "print(id(fruits_iter))\n",
    "print(id(iter(fruits_iter)))"
   ]
  },
  {
   "cell_type": "code",
   "execution_count": 3,
   "id": "5027bb3a-be19-42cb-950a-54b17d75ba06",
   "metadata": {},
   "outputs": [
    {
     "name": "stdout",
     "output_type": "stream",
     "text": [
      "apple\n",
      "lemon\n"
     ]
    }
   ],
   "source": [
    "print(next(fruits_iter))\n",
    "print(fruits_iter.__next__())\n"
   ]
  },
  {
   "cell_type": "code",
   "execution_count": null,
   "id": "1afd5b5c-f938-4eaa-a5bd-947d3b14f849",
   "metadata": {},
   "outputs": [],
   "source": []
  }
 ],
 "metadata": {
  "kernelspec": {
   "display_name": "Python 3 (ipykernel)",
   "language": "python",
   "name": "python3"
  },
  "language_info": {
   "codemirror_mode": {
    "name": "ipython",
    "version": 3
   },
   "file_extension": ".py",
   "mimetype": "text/x-python",
   "name": "python",
   "nbconvert_exporter": "python",
   "pygments_lexer": "ipython3",
   "version": "3.9.13"
  }
 },
 "nbformat": 4,
 "nbformat_minor": 5
}
