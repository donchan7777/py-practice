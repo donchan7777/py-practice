{
 "cells": [
  {
   "cell_type": "code",
   "execution_count": 11,
   "id": "3fafc652-754c-453a-bbba-9068f190845b",
   "metadata": {},
   "outputs": [
    {
     "name": "stdout",
     "output_type": "stream",
     "text": [
      "20\n"
     ]
    }
   ],
   "source": [
    "class Car:\n",
    "    \n",
    "    def __init__(self, model_name, mileage, manufacturer):\n",
    "        self.model_name = model_name\n",
    "        self.mileage = mileage\n",
    "        self.manufacturer = manufacturer\n",
    "    \n",
    "    def gas(self):\n",
    "        print(\"{0.manufacturer}, {0.model_name}, {0.mileage}\".format(self))\n",
    "\n",
    "    def breakes(self):\n",
    "        print(\"{0.manufacturer}, {0.model_name}, {0.mileage}\".format(self))       \n",
    "      \n",
    "    \n",
    "    \n",
    "if __name__ == \"__main__\":\n",
    "    prius = Car(\"P\", 20 , \"T\")\n",
    "    print(prius.mileage)\n",
    "    \n",
    "    "
   ]
  },
  {
   "cell_type": "code",
   "execution_count": 9,
   "id": "080870d6-b88e-4b25-bff7-bb8569bf8854",
   "metadata": {},
   "outputs": [
    {
     "name": "stdout",
     "output_type": "stream",
     "text": [
      "T, P, 20\n",
      "T, P, 20\n"
     ]
    }
   ],
   "source": [
    "prius.gas()\n",
    "prius.breakes()\n",
    "\n"
   ]
  },
  {
   "cell_type": "code",
   "execution_count": null,
   "id": "517fe469-4215-4d0d-9077-4f51ee7adee8",
   "metadata": {},
   "outputs": [],
   "source": []
  },
  {
   "cell_type": "code",
   "execution_count": null,
   "id": "b19a0262-66f6-41ff-9b20-6e60243719a6",
   "metadata": {},
   "outputs": [],
   "source": []
  },
  {
   "cell_type": "code",
   "execution_count": null,
   "id": "0f2bb412-ca2e-4413-aeed-506933eac0eb",
   "metadata": {},
   "outputs": [],
   "source": []
  },
  {
   "cell_type": "code",
   "execution_count": null,
   "id": "c3ff0060-778f-4479-8c37-c0fbd2f52f3b",
   "metadata": {},
   "outputs": [],
   "source": []
  }
 ],
 "metadata": {
  "kernelspec": {
   "display_name": "Python 3 (ipykernel)",
   "language": "python",
   "name": "python3"
  },
  "language_info": {
   "codemirror_mode": {
    "name": "ipython",
    "version": 3
   },
   "file_extension": ".py",
   "mimetype": "text/x-python",
   "name": "python",
   "nbconvert_exporter": "python",
   "pygments_lexer": "ipython3",
   "version": "3.9.13"
  }
 },
 "nbformat": 4,
 "nbformat_minor": 5
}
