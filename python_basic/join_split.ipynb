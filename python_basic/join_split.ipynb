{
 "cells": [
  {
   "cell_type": "markdown",
   "id": "87cd4910-7c53-470c-9210-56ac0230de27",
   "metadata": {},
   "source": [
    "# join split"
   ]
  },
  {
   "cell_type": "code",
   "execution_count": 4,
   "id": "d4b9afd3-4eca-468c-9a77-2b4104006a2b",
   "metadata": {},
   "outputs": [
    {
     "name": "stdout",
     "output_type": "stream",
     "text": [
      "Hi my name\n"
     ]
    }
   ],
   "source": [
    "text = \" \".join([\"Hi\", \"my\", \"name\"])\n",
    "print(text)"
   ]
  },
  {
   "cell_type": "code",
   "execution_count": 7,
   "id": "6c6ae5ec-7998-448c-8ad2-c44d1d8b0e83",
   "metadata": {},
   "outputs": [
    {
     "name": "stdout",
     "output_type": "stream",
     "text": [
      "['Hi', 'my', 'name']\n"
     ]
    }
   ],
   "source": [
    "print(\"Hi my name\".split(\" \"))"
   ]
  },
  {
   "cell_type": "code",
   "execution_count": null,
   "id": "21752073-b949-403c-a7b5-b8f5f347b8b5",
   "metadata": {},
   "outputs": [],
   "source": []
  },
  {
   "cell_type": "code",
   "execution_count": null,
   "id": "41030803-d3c7-4285-b69a-8ee46b009bc4",
   "metadata": {},
   "outputs": [],
   "source": []
  },
  {
   "cell_type": "code",
   "execution_count": null,
   "id": "8d941e26-8846-44e2-8e1b-4dbb4071dc25",
   "metadata": {},
   "outputs": [],
   "source": []
  },
  {
   "cell_type": "code",
   "execution_count": null,
   "id": "cd136b96-9788-402a-a9fd-1769b7adddb8",
   "metadata": {},
   "outputs": [],
   "source": []
  }
 ],
 "metadata": {
  "kernelspec": {
   "display_name": "Python 3 (ipykernel)",
   "language": "python",
   "name": "python3"
  },
  "language_info": {
   "codemirror_mode": {
    "name": "ipython",
    "version": 3
   },
   "file_extension": ".py",
   "mimetype": "text/x-python",
   "name": "python",
   "nbconvert_exporter": "python",
   "pygments_lexer": "ipython3",
   "version": "3.9.13"
  }
 },
 "nbformat": 4,
 "nbformat_minor": 5
}
